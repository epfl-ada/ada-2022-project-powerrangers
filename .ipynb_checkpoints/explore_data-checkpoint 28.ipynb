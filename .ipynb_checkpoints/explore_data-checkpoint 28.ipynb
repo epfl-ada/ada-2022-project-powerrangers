{
 "cells": [
  {
   "cell_type": "markdown",
   "metadata": {},
   "source": [
    "*1) Data Reduction:*"
   ]
  },
  {
   "cell_type": "code",
   "execution_count": 1,
   "metadata": {},
   "outputs": [],
   "source": [
    "#!pip install pyarrow\n",
    "import pandas as pd\n",
    "import matplotlib.pyplot as plt\n",
    "\n",
    "data_dir = \"/Users/joshuavoelkel/Documents/Uni/Master/EPFL/3_Semester/ADA/Project/data\""
   ]
  },
  {
   "cell_type": "code",
   "execution_count": 3,
   "metadata": {},
   "outputs": [
    {
     "data": {
      "text/html": [
       "<div>\n",
       "<style scoped>\n",
       "    .dataframe tbody tr th:only-of-type {\n",
       "        vertical-align: middle;\n",
       "    }\n",
       "\n",
       "    .dataframe tbody tr th {\n",
       "        vertical-align: top;\n",
       "    }\n",
       "\n",
       "    .dataframe thead th {\n",
       "        text-align: right;\n",
       "    }\n",
       "</style>\n",
       "<table border=\"1\" class=\"dataframe\">\n",
       "  <thead>\n",
       "    <tr style=\"text-align: right;\">\n",
       "      <th></th>\n",
       "      <th>channel</th>\n",
       "      <th>category</th>\n",
       "      <th>datetime</th>\n",
       "      <th>views</th>\n",
       "      <th>delta_views</th>\n",
       "      <th>subs</th>\n",
       "      <th>delta_subs</th>\n",
       "      <th>videos</th>\n",
       "      <th>delta_videos</th>\n",
       "      <th>activity</th>\n",
       "    </tr>\n",
       "  </thead>\n",
       "  <tbody>\n",
       "    <tr>\n",
       "      <th>0</th>\n",
       "      <td>UCBJuEqXfXTdcPSbGO9qqn1g</td>\n",
       "      <td>Film and Animation</td>\n",
       "      <td>2017-07-03</td>\n",
       "      <td>2.024946e+05</td>\n",
       "      <td>0.000000</td>\n",
       "      <td>650.222222</td>\n",
       "      <td>0.000000</td>\n",
       "      <td>5</td>\n",
       "      <td>0</td>\n",
       "      <td>3</td>\n",
       "    </tr>\n",
       "    <tr>\n",
       "      <th>1</th>\n",
       "      <td>UCBJuEqXfXTdcPSbGO9qqn1g</td>\n",
       "      <td>Film and Animation</td>\n",
       "      <td>2017-07-10</td>\n",
       "      <td>3.940857e+05</td>\n",
       "      <td>191591.111111</td>\n",
       "      <td>1046.000000</td>\n",
       "      <td>395.777778</td>\n",
       "      <td>6</td>\n",
       "      <td>1</td>\n",
       "      <td>1</td>\n",
       "    </tr>\n",
       "    <tr>\n",
       "      <th>2</th>\n",
       "      <td>UCBJuEqXfXTdcPSbGO9qqn1g</td>\n",
       "      <td>Film and Animation</td>\n",
       "      <td>2017-07-17</td>\n",
       "      <td>8.353938e+05</td>\n",
       "      <td>441308.083333</td>\n",
       "      <td>1501.500000</td>\n",
       "      <td>455.500000</td>\n",
       "      <td>6</td>\n",
       "      <td>0</td>\n",
       "      <td>1</td>\n",
       "    </tr>\n",
       "    <tr>\n",
       "      <th>3</th>\n",
       "      <td>UCBJuEqXfXTdcPSbGO9qqn1g</td>\n",
       "      <td>Film and Animation</td>\n",
       "      <td>2017-07-24</td>\n",
       "      <td>1.104577e+06</td>\n",
       "      <td>269183.250000</td>\n",
       "      <td>1750.000000</td>\n",
       "      <td>248.500000</td>\n",
       "      <td>6</td>\n",
       "      <td>0</td>\n",
       "      <td>0</td>\n",
       "    </tr>\n",
       "    <tr>\n",
       "      <th>4</th>\n",
       "      <td>UCBJuEqXfXTdcPSbGO9qqn1g</td>\n",
       "      <td>Film and Animation</td>\n",
       "      <td>2017-07-31</td>\n",
       "      <td>1.284406e+06</td>\n",
       "      <td>179828.600000</td>\n",
       "      <td>2008.300000</td>\n",
       "      <td>258.300000</td>\n",
       "      <td>6</td>\n",
       "      <td>0</td>\n",
       "      <td>0</td>\n",
       "    </tr>\n",
       "  </tbody>\n",
       "</table>\n",
       "</div>"
      ],
      "text/plain": [
       "                    channel            category   datetime         views  \\\n",
       "0  UCBJuEqXfXTdcPSbGO9qqn1g  Film and Animation 2017-07-03  2.024946e+05   \n",
       "1  UCBJuEqXfXTdcPSbGO9qqn1g  Film and Animation 2017-07-10  3.940857e+05   \n",
       "2  UCBJuEqXfXTdcPSbGO9qqn1g  Film and Animation 2017-07-17  8.353938e+05   \n",
       "3  UCBJuEqXfXTdcPSbGO9qqn1g  Film and Animation 2017-07-24  1.104577e+06   \n",
       "4  UCBJuEqXfXTdcPSbGO9qqn1g  Film and Animation 2017-07-31  1.284406e+06   \n",
       "\n",
       "     delta_views         subs  delta_subs  videos  delta_videos  activity  \n",
       "0       0.000000   650.222222    0.000000       5             0         3  \n",
       "1  191591.111111  1046.000000  395.777778       6             1         1  \n",
       "2  441308.083333  1501.500000  455.500000       6             0         1  \n",
       "3  269183.250000  1750.000000  248.500000       6             0         0  \n",
       "4  179828.600000  2008.300000  258.300000       6             0         0  "
      ]
     },
     "execution_count": 3,
     "metadata": {},
     "output_type": "execute_result"
    }
   ],
   "source": [
    "df_sb_f = pd.read_csv(data_dir + \"/df_timeseries_en.tsv.gz\", compression=\"infer\", sep=\"\\t\")\n",
    "df_sb_f[\"datetime\"] = pd.to_datetime(df_sb_f[\"datetime\"])\n",
    "df_sb_f.head(5)\n"
   ]
  },
  {
   "cell_type": "code",
   "execution_count": 4,
   "metadata": {},
   "outputs": [
    {
     "name": "stdout",
     "output_type": "stream",
     "text": [
      "channel count in TimeSeries table: 133516\n"
     ]
    },
    {
     "data": {
      "text/plain": [
       "array(['Film and Animation', 'Music', 'Comedy', 'Gaming',\n",
       "       'Science & Technology', 'Sports', 'Entertainment', 'Education',\n",
       "       'Nonprofits & Activism', 'People & Blogs', 'Howto & Style',\n",
       "       'News & Politics', 'Travel & Events', 'Autos & Vehicles',\n",
       "       'Pets & Animals', nan], dtype=object)"
      ]
     },
     "execution_count": 4,
     "metadata": {},
     "output_type": "execute_result"
    }
   ],
   "source": [
    "print(\"channel count in TimeSeries table:\", df_sb_f['channel'].nunique())\n",
    "df_sb_f[\"category\"].unique()"
   ]
  },
  {
   "cell_type": "code",
   "execution_count": 5,
   "metadata": {},
   "outputs": [
    {
     "name": "stdout",
     "output_type": "stream",
     "text": [
      "channel count in TimeSeries table after filteration: 21163\n"
     ]
    }
   ],
   "source": [
    "df_sb_f = df_sb_f.loc[df_sb_f[\"category\"].isin(['Nonprofits & Activism', 'People & Blogs', 'News & Politics'])]\n",
    "print(\"channel count in TimeSeries table after filteration:\", df_sb_f['channel'].nunique())"
   ]
  },
  {
   "cell_type": "markdown",
   "metadata": {},
   "source": [
    "Now we save the reduced timeseries table"
   ]
  },
  {
   "cell_type": "code",
   "execution_count": 6,
   "metadata": {},
   "outputs": [],
   "source": [
    "#save data:\n",
    "#df_sb_f.to_pickle(data_dir + \"/df_timeseries_reduced.tsv.gz\")"
   ]
  },
  {
   "cell_type": "code",
   "execution_count": 7,
   "metadata": {},
   "outputs": [],
   "source": [
    "#too big.. don't fit in memory\n",
    "#del df_sb_f\n",
    "#df_vd_f = pd.read_feather(\"data/yt_metadata_helper.feather\")\n",
    "#df_vd_f[\"dummmy\"] = 1\n",
    "#df_vd_f.head(5)\n"
   ]
  },
  {
   "cell_type": "code",
   "execution_count": 8,
   "metadata": {},
   "outputs": [
    {
     "data": {
      "text/html": [
       "<div>\n",
       "<style scoped>\n",
       "    .dataframe tbody tr th:only-of-type {\n",
       "        vertical-align: middle;\n",
       "    }\n",
       "\n",
       "    .dataframe tbody tr th {\n",
       "        vertical-align: top;\n",
       "    }\n",
       "\n",
       "    .dataframe thead th {\n",
       "        text-align: right;\n",
       "    }\n",
       "</style>\n",
       "<table border=\"1\" class=\"dataframe\">\n",
       "  <thead>\n",
       "    <tr style=\"text-align: right;\">\n",
       "      <th></th>\n",
       "      <th>category_cc</th>\n",
       "      <th>join_date</th>\n",
       "      <th>channel</th>\n",
       "      <th>name_cc</th>\n",
       "      <th>subscribers_cc</th>\n",
       "      <th>videos_cc</th>\n",
       "      <th>subscriber_rank_sb</th>\n",
       "      <th>weights</th>\n",
       "    </tr>\n",
       "  </thead>\n",
       "  <tbody>\n",
       "    <tr>\n",
       "      <th>0</th>\n",
       "      <td>Gaming</td>\n",
       "      <td>2010-04-29</td>\n",
       "      <td>UC-lHJZR3Gqxm24_Vd_AJ5Yw</td>\n",
       "      <td>PewDiePie</td>\n",
       "      <td>101000000</td>\n",
       "      <td>3956</td>\n",
       "      <td>3.0</td>\n",
       "      <td>2.087</td>\n",
       "    </tr>\n",
       "    <tr>\n",
       "      <th>1</th>\n",
       "      <td>Education</td>\n",
       "      <td>2006-09-01</td>\n",
       "      <td>UCbCmjCuTUZos6Inko4u57UQ</td>\n",
       "      <td>Cocomelon - Nursery ...</td>\n",
       "      <td>60100000</td>\n",
       "      <td>458</td>\n",
       "      <td>7.0</td>\n",
       "      <td>2.087</td>\n",
       "    </tr>\n",
       "    <tr>\n",
       "      <th>2</th>\n",
       "      <td>Entertainment</td>\n",
       "      <td>2006-09-20</td>\n",
       "      <td>UCpEhnqL0y41EpW2TvWAHD7Q</td>\n",
       "      <td>SET India</td>\n",
       "      <td>56018869</td>\n",
       "      <td>32661</td>\n",
       "      <td>8.0</td>\n",
       "      <td>2.087</td>\n",
       "    </tr>\n",
       "    <tr>\n",
       "      <th>3</th>\n",
       "      <td>Howto &amp; Style</td>\n",
       "      <td>2016-11-15</td>\n",
       "      <td>UC295-Dw_tDNtZXFeAPAW6Aw</td>\n",
       "      <td>5-Minute Crafts</td>\n",
       "      <td>60600000</td>\n",
       "      <td>3591</td>\n",
       "      <td>9.0</td>\n",
       "      <td>2.087</td>\n",
       "    </tr>\n",
       "    <tr>\n",
       "      <th>4</th>\n",
       "      <td>Sports</td>\n",
       "      <td>2007-05-11</td>\n",
       "      <td>UCJ5v_MCY6GNUBTO8-D3XoAg</td>\n",
       "      <td>WWE</td>\n",
       "      <td>48400000</td>\n",
       "      <td>43421</td>\n",
       "      <td>11.0</td>\n",
       "      <td>2.087</td>\n",
       "    </tr>\n",
       "  </tbody>\n",
       "</table>\n",
       "</div>"
      ],
      "text/plain": [
       "     category_cc  join_date                   channel  \\\n",
       "0         Gaming 2010-04-29  UC-lHJZR3Gqxm24_Vd_AJ5Yw   \n",
       "1      Education 2006-09-01  UCbCmjCuTUZos6Inko4u57UQ   \n",
       "2  Entertainment 2006-09-20  UCpEhnqL0y41EpW2TvWAHD7Q   \n",
       "3  Howto & Style 2016-11-15  UC295-Dw_tDNtZXFeAPAW6Aw   \n",
       "4         Sports 2007-05-11  UCJ5v_MCY6GNUBTO8-D3XoAg   \n",
       "\n",
       "                   name_cc  subscribers_cc  videos_cc  subscriber_rank_sb  \\\n",
       "0                PewDiePie       101000000       3956                 3.0   \n",
       "1  Cocomelon - Nursery ...        60100000        458                 7.0   \n",
       "2                SET India        56018869      32661                 8.0   \n",
       "3          5-Minute Crafts        60600000       3591                 9.0   \n",
       "4                      WWE        48400000      43421                11.0   \n",
       "\n",
       "   weights  \n",
       "0    2.087  \n",
       "1    2.087  \n",
       "2    2.087  \n",
       "3    2.087  \n",
       "4    2.087  "
      ]
     },
     "execution_count": 8,
     "metadata": {},
     "output_type": "execute_result"
    }
   ],
   "source": [
    "df_ch_f = pd.read_csv(data_dir + \"/df_channels_en.tsv.gz\", compression=\"infer\", sep=\"\\t\")\n",
    "df_ch_f[\"join_date\"] = pd.to_datetime(df_ch_f[\"join_date\"])\n",
    "df_ch_f.head(5)\n"
   ]
  },
  {
   "cell_type": "code",
   "execution_count": 9,
   "metadata": {},
   "outputs": [
    {
     "name": "stdout",
     "output_type": "stream",
     "text": [
      "channel count in TimeSeries table 136470\n"
     ]
    },
    {
     "data": {
      "text/plain": [
       "array(['Gaming', 'Education', 'Entertainment', 'Howto & Style', 'Sports',\n",
       "       'Music', 'Film and Animation', 'Comedy', 'Nonprofits & Activism',\n",
       "       'People & Blogs', 'News & Politics', 'Science & Technology',\n",
       "       'Pets & Animals', 'Autos & Vehicles', 'Travel & Events', nan],\n",
       "      dtype=object)"
      ]
     },
     "execution_count": 9,
     "metadata": {},
     "output_type": "execute_result"
    }
   ],
   "source": [
    "print(\"channel count in TimeSeries table\", df_ch_f['channel'].nunique())\n",
    "df_ch_f['category_cc'].unique()"
   ]
  },
  {
   "cell_type": "code",
   "execution_count": 10,
   "metadata": {},
   "outputs": [
    {
     "name": "stdout",
     "output_type": "stream",
     "text": [
      "channel count in TimeSeries table after filteration: 21645\n"
     ]
    }
   ],
   "source": [
    "df_ch_f = df_ch_f.loc[df_ch_f[\"category_cc\"].isin(['Nonprofits & Activism', 'People & Blogs', 'News & Politics'])]\n",
    "print(\"channel count in TimeSeries table after filteration:\", df_ch_f['channel'].nunique())"
   ]
  },
  {
   "cell_type": "code",
   "execution_count": 16,
   "metadata": {},
   "outputs": [],
   "source": [
    "#save data:\n",
    "#df_ch_f.to_pickle(data_dir + \"/df_channels_reduced.tsv.gz\")"
   ]
  },
  {
   "cell_type": "code",
   "execution_count": null,
   "metadata": {},
   "outputs": [],
   "source": [
    "from tqdm import tqdm\n",
    "count = 0\n",
    "count_after = 0\n",
    "chunksize = 10 ** 5\n",
    "flag=False\n",
    "for chunk in tqdm(pd.read_json(data_dir + \"/yt_metadata_en.jsonl.gz\",lines=True, chunksize=chunksize)):\n",
    "    count += chunk['display_id'].nunique() \n",
    "    chunk = chunk.loc[chunk[\"categories\"].isin(['Nonprofits & Activism', 'People & Blogs', 'News & Politics'])]\n",
    "    chunk.drop(['crawl_date', 'categories'], axis=1)\n",
    "    if not flag:\n",
    "        flag=True\n",
    "        chunk.to_csv(data_dir + '/yt_metadata_reduced.tsv.gz')\n",
    "    else:\n",
    "        chunk.to_csv(data_dir + '/yt_metadata_reduced.tsv.gz', mode='a', index=False, header=False)\n",
    "    count_after += chunk['display_id'].nunique()\n",
    "\n",
    "print(\"videos count: \", count)\n",
    "print(\"videos count after reduction: \", count_after)\n"
   ]
  },
  {
   "cell_type": "markdown",
   "metadata": {},
   "source": [
    "*2) Data Exploration & Processing:*"
   ]
  },
  {
   "cell_type": "code",
   "execution_count": null,
   "metadata": {},
   "outputs": [],
   "source": []
  },
  {
   "cell_type": "code",
   "execution_count": 12,
   "metadata": {},
   "outputs": [
    {
     "data": {
      "text/plain": [
       "array(['Alt-lite', 'Alt-right', 'Incel', 'Intellectual Dark Web', 'NONE',\n",
       "       'MGTOW', 'MRA', 'PUA', 'PUA ', 'center', 'left', 'left-center',\n",
       "       'right-center', 'right'], dtype=object)"
      ]
     },
     "execution_count": 12,
     "metadata": {},
     "output_type": "execute_result"
    }
   ],
   "source": [
    "#load classified channels\n",
    "test_channels = pd.read_csv(data_dir + \"/test_set_channels.csv\")\n",
    "\n",
    "#print all different political categorizations\n",
    "test_channels.Category.unique()"
   ]
  },
  {
   "cell_type": "code",
   "execution_count": 13,
   "metadata": {},
   "outputs": [],
   "source": [
    "#categorize each of the channels (created a respective column \"pol_orient\")\n",
    "\n",
    "right = [\"Alt-lite\", \"Alt-right\", \"Incel\", \"MGTOW\", \"MRA\", \"right\"]\n",
    "left  = [\"left\"]\n",
    "center = [\"center\", \"right-center\", \"left-center\"]\n",
    "extreme = [\"Intellectual Dark Web\"]\n",
    "unknown = [\"PUA\", \"PUA \"]\n",
    "\n",
    "#TODO: still to clasify PUA \n",
    "#TODO: what do we do with \"Intellectual Dark Web\" --> has both left extrem and right extreme supporters\n",
    "\n",
    "def pol_orientation(x):\n",
    "    if x in right: \n",
    "        return \"right\"\n",
    "    elif x in left:\n",
    "        return \"left\"\n",
    "    elif x in center:\n",
    "        return \"center\"\n",
    "    else:\n",
    "        return 0\n",
    "        \n",
    "        \n",
    "test_channels[\"pol_orient\"] = test_channels.Category.apply(pol_orientation)"
   ]
  },
  {
   "cell_type": "code",
   "execution_count": 22,
   "metadata": {},
   "outputs": [
    {
     "data": {
      "text/html": [
       "<div>\n",
       "<style scoped>\n",
       "    .dataframe tbody tr th:only-of-type {\n",
       "        vertical-align: middle;\n",
       "    }\n",
       "\n",
       "    .dataframe tbody tr th {\n",
       "        vertical-align: top;\n",
       "    }\n",
       "\n",
       "    .dataframe thead th {\n",
       "        text-align: right;\n",
       "    }\n",
       "</style>\n",
       "<table border=\"1\" class=\"dataframe\">\n",
       "  <thead>\n",
       "    <tr style=\"text-align: right;\">\n",
       "      <th></th>\n",
       "      <th>Name</th>\n",
       "      <th>Category</th>\n",
       "      <th>Data Collection step</th>\n",
       "      <th>Id</th>\n",
       "      <th>pol_orient</th>\n",
       "    </tr>\n",
       "  </thead>\n",
       "  <tbody>\n",
       "    <tr>\n",
       "      <th>0</th>\n",
       "      <td>DailyCallerVideo</td>\n",
       "      <td>Alt-lite</td>\n",
       "      <td>2</td>\n",
       "      <td>UCfDdlNLRVb1h3_7Xh-WhL3w</td>\n",
       "      <td>right</td>\n",
       "    </tr>\n",
       "    <tr>\n",
       "      <th>1</th>\n",
       "      <td>Liberty Machine News</td>\n",
       "      <td>Alt-lite</td>\n",
       "      <td>2</td>\n",
       "      <td>UCso6oQ3qy7z61Fr8b0WNBMw</td>\n",
       "      <td>right</td>\n",
       "    </tr>\n",
       "    <tr>\n",
       "      <th>2</th>\n",
       "      <td>AIU-Resurrection</td>\n",
       "      <td>Alt-lite</td>\n",
       "      <td>2</td>\n",
       "      <td>UCplXdu0g94UynzYCmO2zOjw</td>\n",
       "      <td>right</td>\n",
       "    </tr>\n",
       "    <tr>\n",
       "      <th>3</th>\n",
       "      <td>Tree Of Logic</td>\n",
       "      <td>Alt-lite</td>\n",
       "      <td>2</td>\n",
       "      <td>UCl3RCEtooHD5bhPCHJw3btA</td>\n",
       "      <td>right</td>\n",
       "    </tr>\n",
       "    <tr>\n",
       "      <th>4</th>\n",
       "      <td>DailyKenn</td>\n",
       "      <td>Alt-lite</td>\n",
       "      <td>2</td>\n",
       "      <td>UCbukZErY9SjdGTHabMzY7qg</td>\n",
       "      <td>right</td>\n",
       "    </tr>\n",
       "    <tr>\n",
       "      <th>...</th>\n",
       "      <td>...</td>\n",
       "      <td>...</td>\n",
       "      <td>...</td>\n",
       "      <td>...</td>\n",
       "      <td>...</td>\n",
       "    </tr>\n",
       "    <tr>\n",
       "      <th>671</th>\n",
       "      <td>national rifle association (nra)</td>\n",
       "      <td>right</td>\n",
       "      <td>0</td>\n",
       "      <td>UCZr49eSL2aHQ_41476IrkbA</td>\n",
       "      <td>right</td>\n",
       "    </tr>\n",
       "    <tr>\n",
       "      <th>672</th>\n",
       "      <td>project veritas</td>\n",
       "      <td>right</td>\n",
       "      <td>0</td>\n",
       "      <td>UCL9PlYkRD3Q-RZca6CCnPKw</td>\n",
       "      <td>right</td>\n",
       "    </tr>\n",
       "    <tr>\n",
       "      <th>673</th>\n",
       "      <td>american enterprise institute</td>\n",
       "      <td>right</td>\n",
       "      <td>0</td>\n",
       "      <td>UCt8lRYpzb-sSrKFb4DT2ECw</td>\n",
       "      <td>right</td>\n",
       "    </tr>\n",
       "    <tr>\n",
       "      <th>674</th>\n",
       "      <td>ron paul liberty report</td>\n",
       "      <td>right</td>\n",
       "      <td>0</td>\n",
       "      <td>UCkJ1N-7g9Q6n7KnriGit-Ig</td>\n",
       "      <td>right</td>\n",
       "    </tr>\n",
       "    <tr>\n",
       "      <th>675</th>\n",
       "      <td>judicial watch</td>\n",
       "      <td>right</td>\n",
       "      <td>0</td>\n",
       "      <td>UCGDaOZg2INC0Qg2Z203F1dA</td>\n",
       "      <td>right</td>\n",
       "    </tr>\n",
       "  </tbody>\n",
       "</table>\n",
       "<p>676 rows × 5 columns</p>\n",
       "</div>"
      ],
      "text/plain": [
       "                                 Name  Category  Data Collection step  \\\n",
       "0                    DailyCallerVideo  Alt-lite                     2   \n",
       "1                Liberty Machine News  Alt-lite                     2   \n",
       "2                    AIU-Resurrection  Alt-lite                     2   \n",
       "3                       Tree Of Logic  Alt-lite                     2   \n",
       "4                           DailyKenn  Alt-lite                     2   \n",
       "..                                ...       ...                   ...   \n",
       "671  national rifle association (nra)     right                     0   \n",
       "672                   project veritas     right                     0   \n",
       "673     american enterprise institute     right                     0   \n",
       "674           ron paul liberty report     right                     0   \n",
       "675                    judicial watch     right                     0   \n",
       "\n",
       "                           Id pol_orient  \n",
       "0    UCfDdlNLRVb1h3_7Xh-WhL3w      right  \n",
       "1    UCso6oQ3qy7z61Fr8b0WNBMw      right  \n",
       "2    UCplXdu0g94UynzYCmO2zOjw      right  \n",
       "3    UCl3RCEtooHD5bhPCHJw3btA      right  \n",
       "4    UCbukZErY9SjdGTHabMzY7qg      right  \n",
       "..                        ...        ...  \n",
       "671  UCZr49eSL2aHQ_41476IrkbA      right  \n",
       "672  UCL9PlYkRD3Q-RZca6CCnPKw      right  \n",
       "673  UCt8lRYpzb-sSrKFb4DT2ECw      right  \n",
       "674  UCkJ1N-7g9Q6n7KnriGit-Ig      right  \n",
       "675  UCGDaOZg2INC0Qg2Z203F1dA      right  \n",
       "\n",
       "[676 rows x 5 columns]"
      ]
     },
     "execution_count": 22,
     "metadata": {},
     "output_type": "execute_result"
    }
   ],
   "source": [
    "#test_channels.to_csv(data_dir + \"/test_channels_incl_pol_orient.csv\", index = False)\n",
    "test_channels"
   ]
  },
  {
   "cell_type": "code",
   "execution_count": null,
   "metadata": {},
   "outputs": [],
   "source": [
    "test_channels.loc[test_channels.]"
   ]
  },
  {
   "cell_type": "code",
   "execution_count": 101,
   "metadata": {},
   "outputs": [
    {
     "name": "stderr",
     "output_type": "stream",
     "text": [
      "1it [00:02,  2.76s/it]"
     ]
    },
    {
     "name": "stdout",
     "output_type": "stream",
     "text": [
      "1\n"
     ]
    },
    {
     "name": "stderr",
     "output_type": "stream",
     "text": [
      "\r",
      "2it [00:05,  2.70s/it]"
     ]
    },
    {
     "name": "stdout",
     "output_type": "stream",
     "text": [
      "2\n"
     ]
    },
    {
     "name": "stderr",
     "output_type": "stream",
     "text": [
      "\r",
      "3it [00:08,  2.81s/it]"
     ]
    },
    {
     "name": "stdout",
     "output_type": "stream",
     "text": [
      "3\n"
     ]
    },
    {
     "name": "stderr",
     "output_type": "stream",
     "text": [
      "\r",
      "4it [00:10,  2.73s/it]"
     ]
    },
    {
     "name": "stdout",
     "output_type": "stream",
     "text": [
      "4\n"
     ]
    },
    {
     "name": "stderr",
     "output_type": "stream",
     "text": [
      "\r",
      "5it [00:14,  2.84s/it]"
     ]
    },
    {
     "name": "stdout",
     "output_type": "stream",
     "text": [
      "5\n"
     ]
    },
    {
     "name": "stderr",
     "output_type": "stream",
     "text": [
      "\r",
      "6it [00:17,  2.93s/it]"
     ]
    },
    {
     "name": "stdout",
     "output_type": "stream",
     "text": [
      "6\n"
     ]
    },
    {
     "name": "stderr",
     "output_type": "stream",
     "text": [
      "\r",
      "7it [00:20,  2.92s/it]"
     ]
    },
    {
     "name": "stdout",
     "output_type": "stream",
     "text": [
      "7\n"
     ]
    },
    {
     "name": "stderr",
     "output_type": "stream",
     "text": [
      "\r",
      "8it [00:22,  2.81s/it]"
     ]
    },
    {
     "name": "stdout",
     "output_type": "stream",
     "text": [
      "8\n"
     ]
    },
    {
     "name": "stderr",
     "output_type": "stream",
     "text": [
      "\r",
      "9it [00:25,  2.75s/it]"
     ]
    },
    {
     "name": "stdout",
     "output_type": "stream",
     "text": [
      "9\n"
     ]
    },
    {
     "name": "stderr",
     "output_type": "stream",
     "text": [
      "\r",
      "10it [00:27,  2.63s/it]"
     ]
    },
    {
     "name": "stdout",
     "output_type": "stream",
     "text": [
      "10\n",
      "11\n"
     ]
    },
    {
     "name": "stderr",
     "output_type": "stream",
     "text": [
      "12it [00:34,  3.08s/it]"
     ]
    },
    {
     "name": "stdout",
     "output_type": "stream",
     "text": [
      "12\n"
     ]
    },
    {
     "name": "stderr",
     "output_type": "stream",
     "text": [
      "\r",
      "13it [00:37,  2.98s/it]"
     ]
    },
    {
     "name": "stdout",
     "output_type": "stream",
     "text": [
      "13\n"
     ]
    },
    {
     "name": "stderr",
     "output_type": "stream",
     "text": [
      "\r",
      "14it [00:40,  2.94s/it]"
     ]
    },
    {
     "name": "stdout",
     "output_type": "stream",
     "text": [
      "14\n"
     ]
    },
    {
     "name": "stderr",
     "output_type": "stream",
     "text": [
      "\r",
      "15it [00:43,  2.86s/it]"
     ]
    },
    {
     "name": "stdout",
     "output_type": "stream",
     "text": [
      "15\n"
     ]
    },
    {
     "name": "stderr",
     "output_type": "stream",
     "text": [
      "\r",
      "16it [00:46,  2.96s/it]"
     ]
    },
    {
     "name": "stdout",
     "output_type": "stream",
     "text": [
      "16\n"
     ]
    },
    {
     "name": "stderr",
     "output_type": "stream",
     "text": [
      "\r",
      "17it [00:49,  2.95s/it]"
     ]
    },
    {
     "name": "stdout",
     "output_type": "stream",
     "text": [
      "17\n"
     ]
    },
    {
     "name": "stderr",
     "output_type": "stream",
     "text": [
      "\r",
      "18it [00:51,  2.85s/it]"
     ]
    },
    {
     "name": "stdout",
     "output_type": "stream",
     "text": [
      "18\n"
     ]
    },
    {
     "name": "stderr",
     "output_type": "stream",
     "text": [
      "\r",
      "19it [00:54,  2.85s/it]"
     ]
    },
    {
     "name": "stdout",
     "output_type": "stream",
     "text": [
      "19\n"
     ]
    },
    {
     "name": "stderr",
     "output_type": "stream",
     "text": [
      "\r",
      "20it [00:58,  3.06s/it]"
     ]
    },
    {
     "name": "stdout",
     "output_type": "stream",
     "text": [
      "20\n"
     ]
    },
    {
     "name": "stderr",
     "output_type": "stream",
     "text": [
      "\r",
      "21it [01:00,  2.99s/it]"
     ]
    },
    {
     "name": "stdout",
     "output_type": "stream",
     "text": [
      "21\n"
     ]
    },
    {
     "name": "stderr",
     "output_type": "stream",
     "text": [
      "\r",
      "22it [01:03,  2.79s/it]"
     ]
    },
    {
     "name": "stdout",
     "output_type": "stream",
     "text": [
      "22\n"
     ]
    },
    {
     "name": "stderr",
     "output_type": "stream",
     "text": [
      "\r",
      "23it [01:06,  2.77s/it]"
     ]
    },
    {
     "name": "stdout",
     "output_type": "stream",
     "text": [
      "23\n"
     ]
    },
    {
     "name": "stderr",
     "output_type": "stream",
     "text": [
      "\r",
      "24it [01:09,  2.89s/it]"
     ]
    },
    {
     "name": "stdout",
     "output_type": "stream",
     "text": [
      "24\n"
     ]
    },
    {
     "name": "stderr",
     "output_type": "stream",
     "text": [
      "\r",
      "25it [01:12,  3.10s/it]"
     ]
    },
    {
     "name": "stdout",
     "output_type": "stream",
     "text": [
      "25\n"
     ]
    },
    {
     "name": "stderr",
     "output_type": "stream",
     "text": [
      "\r",
      "26it [01:15,  2.99s/it]"
     ]
    },
    {
     "name": "stdout",
     "output_type": "stream",
     "text": [
      "26\n"
     ]
    },
    {
     "name": "stderr",
     "output_type": "stream",
     "text": [
      "\r",
      "27it [01:18,  2.88s/it]"
     ]
    },
    {
     "name": "stdout",
     "output_type": "stream",
     "text": [
      "27\n"
     ]
    },
    {
     "name": "stderr",
     "output_type": "stream",
     "text": [
      "\r",
      "28it [01:20,  2.74s/it]"
     ]
    },
    {
     "name": "stdout",
     "output_type": "stream",
     "text": [
      "28\n"
     ]
    },
    {
     "name": "stderr",
     "output_type": "stream",
     "text": [
      "\r",
      "29it [01:24,  3.16s/it]"
     ]
    },
    {
     "name": "stdout",
     "output_type": "stream",
     "text": [
      "29\n"
     ]
    },
    {
     "name": "stderr",
     "output_type": "stream",
     "text": [
      "\r",
      "30it [01:27,  3.19s/it]"
     ]
    },
    {
     "name": "stdout",
     "output_type": "stream",
     "text": [
      "30\n"
     ]
    },
    {
     "name": "stderr",
     "output_type": "stream",
     "text": [
      "\r",
      "31it [01:30,  2.97s/it]"
     ]
    },
    {
     "name": "stdout",
     "output_type": "stream",
     "text": [
      "31\n"
     ]
    },
    {
     "name": "stderr",
     "output_type": "stream",
     "text": [
      "\r",
      "32it [01:32,  2.85s/it]"
     ]
    },
    {
     "name": "stdout",
     "output_type": "stream",
     "text": [
      "32\n"
     ]
    },
    {
     "name": "stderr",
     "output_type": "stream",
     "text": [
      "\r",
      "33it [01:35,  2.90s/it]"
     ]
    },
    {
     "name": "stdout",
     "output_type": "stream",
     "text": [
      "33\n"
     ]
    },
    {
     "name": "stderr",
     "output_type": "stream",
     "text": [
      "\r",
      "34it [01:38,  2.83s/it]"
     ]
    },
    {
     "name": "stdout",
     "output_type": "stream",
     "text": [
      "34\n"
     ]
    },
    {
     "name": "stderr",
     "output_type": "stream",
     "text": [
      "\r",
      "35it [01:41,  2.77s/it]"
     ]
    },
    {
     "name": "stdout",
     "output_type": "stream",
     "text": [
      "35\n"
     ]
    },
    {
     "name": "stderr",
     "output_type": "stream",
     "text": [
      "\r",
      "36it [01:44,  2.88s/it]"
     ]
    },
    {
     "name": "stdout",
     "output_type": "stream",
     "text": [
      "36\n",
      "37\n"
     ]
    },
    {
     "name": "stderr",
     "output_type": "stream",
     "text": [
      "38it [01:50,  2.85s/it]"
     ]
    },
    {
     "name": "stdout",
     "output_type": "stream",
     "text": [
      "38\n"
     ]
    },
    {
     "name": "stderr",
     "output_type": "stream",
     "text": [
      "\r",
      "39it [01:53,  2.88s/it]"
     ]
    },
    {
     "name": "stdout",
     "output_type": "stream",
     "text": [
      "39\n"
     ]
    },
    {
     "name": "stderr",
     "output_type": "stream",
     "text": [
      "\r",
      "40it [01:56,  2.98s/it]"
     ]
    },
    {
     "name": "stdout",
     "output_type": "stream",
     "text": [
      "40\n"
     ]
    },
    {
     "name": "stderr",
     "output_type": "stream",
     "text": [
      "\r",
      "41it [01:59,  2.97s/it]"
     ]
    },
    {
     "name": "stdout",
     "output_type": "stream",
     "text": [
      "41\n"
     ]
    },
    {
     "name": "stderr",
     "output_type": "stream",
     "text": [
      "\r",
      "42it [02:02,  2.90s/it]"
     ]
    },
    {
     "name": "stdout",
     "output_type": "stream",
     "text": [
      "42\n"
     ]
    },
    {
     "name": "stderr",
     "output_type": "stream",
     "text": [
      "\r",
      "43it [02:04,  2.85s/it]"
     ]
    },
    {
     "name": "stdout",
     "output_type": "stream",
     "text": [
      "43\n",
      "44\n"
     ]
    },
    {
     "name": "stderr",
     "output_type": "stream",
     "text": [
      "45it [02:10,  2.88s/it]"
     ]
    },
    {
     "name": "stdout",
     "output_type": "stream",
     "text": [
      "45\n",
      "46\n"
     ]
    },
    {
     "name": "stderr",
     "output_type": "stream",
     "text": [
      "47it [02:16,  2.98s/it]"
     ]
    },
    {
     "name": "stdout",
     "output_type": "stream",
     "text": [
      "47\n"
     ]
    },
    {
     "name": "stderr",
     "output_type": "stream",
     "text": [
      "\r",
      "48it [02:19,  3.01s/it]"
     ]
    },
    {
     "name": "stdout",
     "output_type": "stream",
     "text": [
      "48\n"
     ]
    },
    {
     "name": "stderr",
     "output_type": "stream",
     "text": [
      "\r",
      "49it [02:22,  2.92s/it]"
     ]
    },
    {
     "name": "stdout",
     "output_type": "stream",
     "text": [
      "49\n"
     ]
    },
    {
     "name": "stderr",
     "output_type": "stream",
     "text": [
      "\r",
      "50it [02:25,  2.91s/it]"
     ]
    },
    {
     "name": "stdout",
     "output_type": "stream",
     "text": [
      "50\n"
     ]
    },
    {
     "name": "stderr",
     "output_type": "stream",
     "text": [
      "\r",
      "51it [02:27,  2.59s/it]"
     ]
    },
    {
     "name": "stdout",
     "output_type": "stream",
     "text": [
      "51\n"
     ]
    },
    {
     "name": "stderr",
     "output_type": "stream",
     "text": [
      "\r",
      "52it [02:30,  2.64s/it]"
     ]
    },
    {
     "name": "stdout",
     "output_type": "stream",
     "text": [
      "52\n",
      "53\n"
     ]
    },
    {
     "name": "stderr",
     "output_type": "stream",
     "text": [
      "\r",
      "53it [02:33,  2.92s/it]"
     ]
    },
    {
     "name": "stdout",
     "output_type": "stream",
     "text": [
      "54\n"
     ]
    },
    {
     "name": "stderr",
     "output_type": "stream",
     "text": [
      "55it [02:39,  2.89s/it]"
     ]
    },
    {
     "name": "stdout",
     "output_type": "stream",
     "text": [
      "55\n"
     ]
    },
    {
     "name": "stderr",
     "output_type": "stream",
     "text": [
      "\r",
      "56it [02:43,  3.19s/it]"
     ]
    },
    {
     "name": "stdout",
     "output_type": "stream",
     "text": [
      "56\n"
     ]
    },
    {
     "name": "stderr",
     "output_type": "stream",
     "text": [
      "\r",
      "57it [02:46,  3.12s/it]"
     ]
    },
    {
     "name": "stdout",
     "output_type": "stream",
     "text": [
      "57\n"
     ]
    },
    {
     "name": "stderr",
     "output_type": "stream",
     "text": [
      "\r",
      "58it [02:48,  2.91s/it]"
     ]
    },
    {
     "name": "stdout",
     "output_type": "stream",
     "text": [
      "58\n"
     ]
    },
    {
     "name": "stderr",
     "output_type": "stream",
     "text": [
      "\r",
      "59it [02:51,  2.70s/it]"
     ]
    },
    {
     "name": "stdout",
     "output_type": "stream",
     "text": [
      "59\n"
     ]
    },
    {
     "name": "stderr",
     "output_type": "stream",
     "text": [
      "\r",
      "60it [02:53,  2.65s/it]"
     ]
    },
    {
     "name": "stdout",
     "output_type": "stream",
     "text": [
      "60\n"
     ]
    },
    {
     "name": "stderr",
     "output_type": "stream",
     "text": [
      "\r",
      "61it [02:56,  2.62s/it]"
     ]
    },
    {
     "name": "stdout",
     "output_type": "stream",
     "text": [
      "61\n",
      "62\n"
     ]
    },
    {
     "name": "stderr",
     "output_type": "stream",
     "text": [
      "63it [03:01,  2.73s/it]"
     ]
    },
    {
     "name": "stdout",
     "output_type": "stream",
     "text": [
      "63\n"
     ]
    },
    {
     "name": "stderr",
     "output_type": "stream",
     "text": [
      "\r",
      "64it [03:04,  2.67s/it]"
     ]
    },
    {
     "name": "stdout",
     "output_type": "stream",
     "text": [
      "64\n"
     ]
    },
    {
     "name": "stderr",
     "output_type": "stream",
     "text": [
      "\r",
      "65it [03:06,  2.54s/it]"
     ]
    },
    {
     "name": "stdout",
     "output_type": "stream",
     "text": [
      "65\n",
      "66\n"
     ]
    },
    {
     "name": "stderr",
     "output_type": "stream",
     "text": [
      "67it [03:12,  2.67s/it]"
     ]
    },
    {
     "name": "stdout",
     "output_type": "stream",
     "text": [
      "67\n"
     ]
    },
    {
     "name": "stderr",
     "output_type": "stream",
     "text": [
      "\r",
      "68it [03:14,  2.68s/it]"
     ]
    },
    {
     "name": "stdout",
     "output_type": "stream",
     "text": [
      "68\n"
     ]
    },
    {
     "name": "stderr",
     "output_type": "stream",
     "text": [
      "\r",
      "69it [03:17,  2.65s/it]"
     ]
    },
    {
     "name": "stdout",
     "output_type": "stream",
     "text": [
      "69\n"
     ]
    },
    {
     "name": "stderr",
     "output_type": "stream",
     "text": [
      "\r",
      "70it [03:19,  2.58s/it]"
     ]
    },
    {
     "name": "stdout",
     "output_type": "stream",
     "text": [
      "70\n"
     ]
    },
    {
     "name": "stderr",
     "output_type": "stream",
     "text": [
      "\r",
      "71it [03:22,  2.64s/it]"
     ]
    },
    {
     "name": "stdout",
     "output_type": "stream",
     "text": [
      "71\n"
     ]
    },
    {
     "name": "stderr",
     "output_type": "stream",
     "text": [
      "\r",
      "72it [03:25,  2.80s/it]"
     ]
    },
    {
     "name": "stdout",
     "output_type": "stream",
     "text": [
      "72\n"
     ]
    },
    {
     "name": "stderr",
     "output_type": "stream",
     "text": [
      "\r",
      "73it [03:29,  2.94s/it]"
     ]
    },
    {
     "name": "stdout",
     "output_type": "stream",
     "text": [
      "73\n"
     ]
    },
    {
     "name": "stderr",
     "output_type": "stream",
     "text": [
      "\r",
      "74it [03:32,  3.10s/it]"
     ]
    },
    {
     "name": "stdout",
     "output_type": "stream",
     "text": [
      "74\n"
     ]
    },
    {
     "name": "stderr",
     "output_type": "stream",
     "text": [
      "\r",
      "75it [03:36,  3.43s/it]"
     ]
    },
    {
     "name": "stdout",
     "output_type": "stream",
     "text": [
      "75\n"
     ]
    },
    {
     "name": "stderr",
     "output_type": "stream",
     "text": [
      "\r",
      "76it [03:40,  3.43s/it]"
     ]
    },
    {
     "name": "stdout",
     "output_type": "stream",
     "text": [
      "76\n"
     ]
    },
    {
     "name": "stderr",
     "output_type": "stream",
     "text": [
      "\r",
      "77it [03:42,  3.20s/it]"
     ]
    },
    {
     "name": "stdout",
     "output_type": "stream",
     "text": [
      "77\n"
     ]
    },
    {
     "name": "stderr",
     "output_type": "stream",
     "text": [
      "\r",
      "78it [03:45,  2.99s/it]"
     ]
    },
    {
     "name": "stdout",
     "output_type": "stream",
     "text": [
      "78\n"
     ]
    },
    {
     "name": "stderr",
     "output_type": "stream",
     "text": [
      "\r",
      "79it [03:48,  2.94s/it]"
     ]
    },
    {
     "name": "stdout",
     "output_type": "stream",
     "text": [
      "79\n"
     ]
    },
    {
     "name": "stderr",
     "output_type": "stream",
     "text": [
      "\r",
      "80it [03:51,  3.00s/it]"
     ]
    },
    {
     "name": "stdout",
     "output_type": "stream",
     "text": [
      "80\n"
     ]
    },
    {
     "name": "stderr",
     "output_type": "stream",
     "text": [
      "\r",
      "81it [03:54,  2.94s/it]"
     ]
    },
    {
     "name": "stdout",
     "output_type": "stream",
     "text": [
      "81\n"
     ]
    },
    {
     "name": "stderr",
     "output_type": "stream",
     "text": [
      "\r",
      "82it [03:57,  2.94s/it]"
     ]
    },
    {
     "name": "stdout",
     "output_type": "stream",
     "text": [
      "82\n"
     ]
    },
    {
     "name": "stderr",
     "output_type": "stream",
     "text": [
      "\r",
      "83it [03:59,  2.78s/it]"
     ]
    },
    {
     "name": "stdout",
     "output_type": "stream",
     "text": [
      "83\n"
     ]
    },
    {
     "name": "stderr",
     "output_type": "stream",
     "text": [
      "\r",
      "84it [04:02,  2.73s/it]"
     ]
    },
    {
     "name": "stdout",
     "output_type": "stream",
     "text": [
      "84\n",
      "85\n"
     ]
    },
    {
     "name": "stderr",
     "output_type": "stream",
     "text": [
      "86it [04:08,  2.92s/it]"
     ]
    },
    {
     "name": "stdout",
     "output_type": "stream",
     "text": [
      "86\n"
     ]
    },
    {
     "name": "stderr",
     "output_type": "stream",
     "text": [
      "\r",
      "87it [04:10,  2.63s/it]"
     ]
    },
    {
     "name": "stdout",
     "output_type": "stream",
     "text": [
      "87\n"
     ]
    },
    {
     "name": "stderr",
     "output_type": "stream",
     "text": [
      "\r",
      "88it [04:12,  2.57s/it]"
     ]
    },
    {
     "name": "stdout",
     "output_type": "stream",
     "text": [
      "88\n"
     ]
    },
    {
     "name": "stderr",
     "output_type": "stream",
     "text": [
      "\r",
      "89it [04:15,  2.55s/it]"
     ]
    },
    {
     "name": "stdout",
     "output_type": "stream",
     "text": [
      "89\n"
     ]
    },
    {
     "name": "stderr",
     "output_type": "stream",
     "text": [
      "\r",
      "90it [04:17,  2.53s/it]"
     ]
    },
    {
     "name": "stdout",
     "output_type": "stream",
     "text": [
      "90\n"
     ]
    },
    {
     "name": "stderr",
     "output_type": "stream",
     "text": [
      "\r",
      "91it [04:20,  2.59s/it]"
     ]
    },
    {
     "name": "stdout",
     "output_type": "stream",
     "text": [
      "91\n"
     ]
    },
    {
     "name": "stderr",
     "output_type": "stream",
     "text": [
      "\r",
      "92it [04:23,  2.56s/it]"
     ]
    },
    {
     "name": "stdout",
     "output_type": "stream",
     "text": [
      "92\n"
     ]
    },
    {
     "name": "stderr",
     "output_type": "stream",
     "text": [
      "\r",
      "93it [04:25,  2.49s/it]"
     ]
    },
    {
     "name": "stdout",
     "output_type": "stream",
     "text": [
      "93\n",
      "94\n"
     ]
    },
    {
     "name": "stderr",
     "output_type": "stream",
     "text": [
      "95it [04:29,  2.30s/it]"
     ]
    },
    {
     "name": "stdout",
     "output_type": "stream",
     "text": [
      "95\n"
     ]
    },
    {
     "name": "stderr",
     "output_type": "stream",
     "text": [
      "\r",
      "96it [04:31,  2.24s/it]"
     ]
    },
    {
     "name": "stdout",
     "output_type": "stream",
     "text": [
      "96\n"
     ]
    },
    {
     "name": "stderr",
     "output_type": "stream",
     "text": [
      "\r",
      "97it [04:33,  2.19s/it]"
     ]
    },
    {
     "name": "stdout",
     "output_type": "stream",
     "text": [
      "97\n"
     ]
    },
    {
     "name": "stderr",
     "output_type": "stream",
     "text": [
      "\r",
      "98it [04:36,  2.40s/it]"
     ]
    },
    {
     "name": "stdout",
     "output_type": "stream",
     "text": [
      "98\n",
      "99\n"
     ]
    },
    {
     "name": "stderr",
     "output_type": "stream",
     "text": [
      "100it [04:43,  2.92s/it]"
     ]
    },
    {
     "name": "stdout",
     "output_type": "stream",
     "text": [
      "100\n",
      "101\n"
     ]
    },
    {
     "name": "stderr",
     "output_type": "stream",
     "text": [
      "102it [04:49,  2.88s/it]"
     ]
    },
    {
     "name": "stdout",
     "output_type": "stream",
     "text": [
      "102\n"
     ]
    },
    {
     "name": "stderr",
     "output_type": "stream",
     "text": [
      "\r",
      "103it [04:52,  2.77s/it]"
     ]
    },
    {
     "name": "stdout",
     "output_type": "stream",
     "text": [
      "103\n"
     ]
    },
    {
     "name": "stderr",
     "output_type": "stream",
     "text": [
      "\r",
      "104it [04:54,  2.60s/it]"
     ]
    },
    {
     "name": "stdout",
     "output_type": "stream",
     "text": [
      "104\n"
     ]
    },
    {
     "name": "stderr",
     "output_type": "stream",
     "text": [
      "\r",
      "105it [04:56,  2.47s/it]"
     ]
    },
    {
     "name": "stdout",
     "output_type": "stream",
     "text": [
      "105\n",
      "106\n"
     ]
    },
    {
     "name": "stderr",
     "output_type": "stream",
     "text": [
      "\r",
      "106it [04:59,  2.50s/it]"
     ]
    },
    {
     "name": "stdout",
     "output_type": "stream",
     "text": [
      "107\n"
     ]
    },
    {
     "name": "stderr",
     "output_type": "stream",
     "text": [
      "108it [05:05,  2.88s/it]"
     ]
    },
    {
     "name": "stdout",
     "output_type": "stream",
     "text": [
      "108\n",
      "109\n"
     ]
    },
    {
     "name": "stderr",
     "output_type": "stream",
     "text": [
      "110it [05:12,  3.02s/it]"
     ]
    },
    {
     "name": "stdout",
     "output_type": "stream",
     "text": [
      "110\n"
     ]
    },
    {
     "name": "stderr",
     "output_type": "stream",
     "text": [
      "\r",
      "111it [05:14,  2.90s/it]"
     ]
    },
    {
     "name": "stdout",
     "output_type": "stream",
     "text": [
      "111\n"
     ]
    },
    {
     "name": "stderr",
     "output_type": "stream",
     "text": [
      "\r",
      "112it [05:17,  2.73s/it]"
     ]
    },
    {
     "name": "stdout",
     "output_type": "stream",
     "text": [
      "112\n",
      "113\n"
     ]
    },
    {
     "name": "stderr",
     "output_type": "stream",
     "text": [
      "114it [05:23,  2.88s/it]"
     ]
    },
    {
     "name": "stdout",
     "output_type": "stream",
     "text": [
      "114\n"
     ]
    },
    {
     "name": "stderr",
     "output_type": "stream",
     "text": [
      "\r",
      "115it [05:25,  2.80s/it]"
     ]
    },
    {
     "name": "stdout",
     "output_type": "stream",
     "text": [
      "115\n"
     ]
    },
    {
     "name": "stderr",
     "output_type": "stream",
     "text": [
      "\r",
      "116it [05:28,  2.68s/it]"
     ]
    },
    {
     "name": "stdout",
     "output_type": "stream",
     "text": [
      "116\n"
     ]
    },
    {
     "name": "stderr",
     "output_type": "stream",
     "text": [
      "\r",
      "117it [05:30,  2.53s/it]"
     ]
    },
    {
     "name": "stdout",
     "output_type": "stream",
     "text": [
      "117\n"
     ]
    },
    {
     "name": "stderr",
     "output_type": "stream",
     "text": [
      "\r",
      "118it [05:32,  2.53s/it]"
     ]
    },
    {
     "name": "stdout",
     "output_type": "stream",
     "text": [
      "118\n"
     ]
    },
    {
     "name": "stderr",
     "output_type": "stream",
     "text": [
      "\r",
      "119it [05:35,  2.65s/it]"
     ]
    },
    {
     "name": "stdout",
     "output_type": "stream",
     "text": [
      "119\n"
     ]
    },
    {
     "name": "stderr",
     "output_type": "stream",
     "text": [
      "\r",
      "120it [05:38,  2.59s/it]"
     ]
    },
    {
     "name": "stdout",
     "output_type": "stream",
     "text": [
      "120\n"
     ]
    },
    {
     "name": "stderr",
     "output_type": "stream",
     "text": [
      "\r",
      "121it [05:40,  2.51s/it]"
     ]
    },
    {
     "name": "stdout",
     "output_type": "stream",
     "text": [
      "121\n",
      "122\n"
     ]
    },
    {
     "name": "stderr",
     "output_type": "stream",
     "text": [
      "123it [05:45,  2.42s/it]"
     ]
    },
    {
     "name": "stdout",
     "output_type": "stream",
     "text": [
      "123\n"
     ]
    },
    {
     "name": "stderr",
     "output_type": "stream",
     "text": [
      "\r",
      "124it [05:47,  2.51s/it]"
     ]
    },
    {
     "name": "stdout",
     "output_type": "stream",
     "text": [
      "124\n"
     ]
    },
    {
     "name": "stderr",
     "output_type": "stream",
     "text": [
      "\r",
      "125it [05:51,  2.73s/it]"
     ]
    },
    {
     "name": "stdout",
     "output_type": "stream",
     "text": [
      "125\n"
     ]
    },
    {
     "name": "stderr",
     "output_type": "stream",
     "text": [
      "\r",
      "126it [05:53,  2.64s/it]"
     ]
    },
    {
     "name": "stdout",
     "output_type": "stream",
     "text": [
      "126\n"
     ]
    },
    {
     "name": "stderr",
     "output_type": "stream",
     "text": [
      "\r",
      "127it [05:55,  2.55s/it]"
     ]
    },
    {
     "name": "stdout",
     "output_type": "stream",
     "text": [
      "127\n"
     ]
    },
    {
     "name": "stderr",
     "output_type": "stream",
     "text": [
      "\r",
      "128it [05:58,  2.48s/it]"
     ]
    },
    {
     "name": "stdout",
     "output_type": "stream",
     "text": [
      "128\n"
     ]
    },
    {
     "name": "stderr",
     "output_type": "stream",
     "text": [
      "\r",
      "129it [06:00,  2.44s/it]"
     ]
    },
    {
     "name": "stdout",
     "output_type": "stream",
     "text": [
      "129\n"
     ]
    },
    {
     "name": "stderr",
     "output_type": "stream",
     "text": [
      "\r",
      "130it [06:02,  2.38s/it]"
     ]
    },
    {
     "name": "stdout",
     "output_type": "stream",
     "text": [
      "130\n"
     ]
    },
    {
     "name": "stderr",
     "output_type": "stream",
     "text": [
      "\r",
      "131it [06:05,  2.53s/it]"
     ]
    },
    {
     "name": "stdout",
     "output_type": "stream",
     "text": [
      "131\n"
     ]
    },
    {
     "name": "stderr",
     "output_type": "stream",
     "text": [
      "\r",
      "132it [06:07,  2.37s/it]"
     ]
    },
    {
     "name": "stdout",
     "output_type": "stream",
     "text": [
      "132\n"
     ]
    },
    {
     "name": "stderr",
     "output_type": "stream",
     "text": [
      "\r",
      "133it [06:10,  2.46s/it]"
     ]
    },
    {
     "name": "stdout",
     "output_type": "stream",
     "text": [
      "133\n"
     ]
    },
    {
     "name": "stderr",
     "output_type": "stream",
     "text": [
      "\r",
      "134it [06:13,  2.63s/it]"
     ]
    },
    {
     "name": "stdout",
     "output_type": "stream",
     "text": [
      "134\n"
     ]
    },
    {
     "name": "stderr",
     "output_type": "stream",
     "text": [
      "\r",
      "135it [06:15,  2.57s/it]"
     ]
    },
    {
     "name": "stdout",
     "output_type": "stream",
     "text": [
      "135\n"
     ]
    },
    {
     "name": "stderr",
     "output_type": "stream",
     "text": [
      "\r",
      "136it [06:18,  2.73s/it]"
     ]
    },
    {
     "name": "stdout",
     "output_type": "stream",
     "text": [
      "136\n"
     ]
    },
    {
     "name": "stderr",
     "output_type": "stream",
     "text": [
      "\r",
      "137it [06:21,  2.60s/it]"
     ]
    },
    {
     "name": "stdout",
     "output_type": "stream",
     "text": [
      "137\n"
     ]
    },
    {
     "name": "stderr",
     "output_type": "stream",
     "text": [
      "\r",
      "138it [06:23,  2.54s/it]"
     ]
    },
    {
     "name": "stdout",
     "output_type": "stream",
     "text": [
      "138\n",
      "139\n"
     ]
    },
    {
     "name": "stderr",
     "output_type": "stream",
     "text": [
      "140it [06:30,  2.88s/it]"
     ]
    },
    {
     "name": "stdout",
     "output_type": "stream",
     "text": [
      "140\n"
     ]
    },
    {
     "name": "stderr",
     "output_type": "stream",
     "text": [
      "\r",
      "141it [06:32,  2.77s/it]"
     ]
    },
    {
     "name": "stdout",
     "output_type": "stream",
     "text": [
      "141\n"
     ]
    },
    {
     "name": "stderr",
     "output_type": "stream",
     "text": [
      "\r",
      "142it [06:35,  2.69s/it]"
     ]
    },
    {
     "name": "stdout",
     "output_type": "stream",
     "text": [
      "142\n"
     ]
    },
    {
     "name": "stderr",
     "output_type": "stream",
     "text": [
      "\r",
      "143it [06:38,  2.73s/it]"
     ]
    },
    {
     "name": "stdout",
     "output_type": "stream",
     "text": [
      "143\n"
     ]
    },
    {
     "name": "stderr",
     "output_type": "stream",
     "text": [
      "\r",
      "144it [06:40,  2.64s/it]"
     ]
    },
    {
     "name": "stdout",
     "output_type": "stream",
     "text": [
      "144\n"
     ]
    },
    {
     "name": "stderr",
     "output_type": "stream",
     "text": [
      "\r",
      "145it [06:43,  2.59s/it]"
     ]
    },
    {
     "name": "stdout",
     "output_type": "stream",
     "text": [
      "145\n"
     ]
    },
    {
     "name": "stderr",
     "output_type": "stream",
     "text": [
      "\r",
      "146it [06:45,  2.50s/it]"
     ]
    },
    {
     "name": "stdout",
     "output_type": "stream",
     "text": [
      "146\n"
     ]
    },
    {
     "name": "stderr",
     "output_type": "stream",
     "text": [
      "\r",
      "147it [06:47,  2.55s/it]"
     ]
    },
    {
     "name": "stdout",
     "output_type": "stream",
     "text": [
      "147\n"
     ]
    },
    {
     "name": "stderr",
     "output_type": "stream",
     "text": [
      "\r",
      "148it [06:50,  2.54s/it]"
     ]
    },
    {
     "name": "stdout",
     "output_type": "stream",
     "text": [
      "148\n"
     ]
    },
    {
     "name": "stderr",
     "output_type": "stream",
     "text": [
      "\r",
      "149it [06:52,  2.51s/it]"
     ]
    },
    {
     "name": "stdout",
     "output_type": "stream",
     "text": [
      "149\n"
     ]
    },
    {
     "name": "stderr",
     "output_type": "stream",
     "text": [
      "\r",
      "150it [06:56,  2.70s/it]"
     ]
    },
    {
     "name": "stdout",
     "output_type": "stream",
     "text": [
      "150\n"
     ]
    },
    {
     "name": "stderr",
     "output_type": "stream",
     "text": [
      "\r",
      "151it [06:59,  2.86s/it]"
     ]
    },
    {
     "name": "stdout",
     "output_type": "stream",
     "text": [
      "151\n"
     ]
    },
    {
     "name": "stderr",
     "output_type": "stream",
     "text": [
      "\r",
      "152it [07:02,  3.08s/it]"
     ]
    },
    {
     "name": "stdout",
     "output_type": "stream",
     "text": [
      "152\n"
     ]
    },
    {
     "name": "stderr",
     "output_type": "stream",
     "text": [
      "\r",
      "153it [07:05,  3.06s/it]"
     ]
    },
    {
     "name": "stdout",
     "output_type": "stream",
     "text": [
      "153\n"
     ]
    },
    {
     "name": "stderr",
     "output_type": "stream",
     "text": [
      "\r",
      "154it [07:07,  2.74s/it]"
     ]
    },
    {
     "name": "stdout",
     "output_type": "stream",
     "text": [
      "154\n",
      "155\n"
     ]
    },
    {
     "name": "stderr",
     "output_type": "stream",
     "text": [
      "156it [07:13,  2.82s/it]"
     ]
    },
    {
     "name": "stdout",
     "output_type": "stream",
     "text": [
      "156\n"
     ]
    },
    {
     "name": "stderr",
     "output_type": "stream",
     "text": [
      "\r",
      "157it [07:16,  2.84s/it]"
     ]
    },
    {
     "name": "stdout",
     "output_type": "stream",
     "text": [
      "157\n"
     ]
    },
    {
     "name": "stderr",
     "output_type": "stream",
     "text": [
      "\r",
      "158it [07:19,  2.75s/it]"
     ]
    },
    {
     "name": "stdout",
     "output_type": "stream",
     "text": [
      "158\n"
     ]
    },
    {
     "name": "stderr",
     "output_type": "stream",
     "text": [
      "\r",
      "159it [07:22,  2.87s/it]"
     ]
    },
    {
     "name": "stdout",
     "output_type": "stream",
     "text": [
      "159\n"
     ]
    },
    {
     "name": "stderr",
     "output_type": "stream",
     "text": [
      "\r",
      "160it [07:25,  2.95s/it]"
     ]
    },
    {
     "name": "stdout",
     "output_type": "stream",
     "text": [
      "160\n"
     ]
    },
    {
     "name": "stderr",
     "output_type": "stream",
     "text": [
      "\r",
      "161it [07:27,  2.80s/it]"
     ]
    },
    {
     "name": "stdout",
     "output_type": "stream",
     "text": [
      "161\n"
     ]
    },
    {
     "name": "stderr",
     "output_type": "stream",
     "text": [
      "\r",
      "162it [07:30,  2.77s/it]"
     ]
    },
    {
     "name": "stdout",
     "output_type": "stream",
     "text": [
      "162\n"
     ]
    },
    {
     "name": "stderr",
     "output_type": "stream",
     "text": [
      "\r",
      "163it [07:34,  2.99s/it]"
     ]
    },
    {
     "name": "stdout",
     "output_type": "stream",
     "text": [
      "163\n"
     ]
    },
    {
     "name": "stderr",
     "output_type": "stream",
     "text": [
      "\r",
      "164it [07:37,  3.18s/it]"
     ]
    },
    {
     "name": "stdout",
     "output_type": "stream",
     "text": [
      "164\n"
     ]
    },
    {
     "name": "stderr",
     "output_type": "stream",
     "text": [
      "\r",
      "165it [07:40,  3.02s/it]"
     ]
    },
    {
     "name": "stdout",
     "output_type": "stream",
     "text": [
      "165\n"
     ]
    },
    {
     "name": "stderr",
     "output_type": "stream",
     "text": [
      "166it [07:41,  2.78s/it]"
     ]
    },
    {
     "name": "stdout",
     "output_type": "stream",
     "text": [
      "166\n"
     ]
    },
    {
     "name": "stderr",
     "output_type": "stream",
     "text": [
      "\n"
     ]
    }
   ],
   "source": [
    "from tqdm import tqdm\n",
    "\n",
    "flag = False\n",
    "chunksize = 10 ** 5\n",
    "chunk_number = 0\n",
    "\n",
    "for chunk in tqdm(pd.read_csv(data_dir + \"/old/yt_metadata_reduced.tsv-001.gz\", chunksize=chunksize, error_bad_lines=False, engine = \"python\")):\n",
    "    chunk_number += 1\n",
    "    print(chunk_number)\n",
    "    chunk = chunk.loc[chunk[\"channel_id\"].isin(test_channels.Id.values)]\n",
    "    chunk.drop(['crawl_date', 'categories'], axis=1)\n",
    "    if not flag:\n",
    "        flag = True\n",
    "        chunk.to_csv(data_dir + '/yt_metadata_reduced_test.tsv.gz', index = False)\n",
    "    else:\n",
    "        chunk.to_csv(data_dir + '/yt_metadata_reduced_test.tsv.gz', mode='a', index = False, header=False)\n"
   ]
  },
  {
   "cell_type": "code",
   "execution_count": 15,
   "metadata": {},
   "outputs": [
    {
     "name": "stderr",
     "output_type": "stream",
     "text": [
      "/var/folders/y4/4q8xmnkn6hz_5l0rkmxwphqm0000gn/T/ipykernel_3040/1466563182.py:1: DtypeWarning: Columns (4,6,7) have mixed types. Specify dtype option on import or set low_memory=False.\n",
      "  test_meta_data = pd.read_csv(data_dir + \"/yt_metadata_reduced_test.tsv.gz\")\n"
     ]
    }
   ],
   "source": [
    "test_meta_data = pd.read_csv(data_dir + \"/yt_metadata_reduced_test.tsv.gz\")"
   ]
  },
  {
   "cell_type": "code",
   "execution_count": 16,
   "metadata": {},
   "outputs": [
    {
     "data": {
      "text/html": [
       "<div>\n",
       "<style scoped>\n",
       "    .dataframe tbody tr th:only-of-type {\n",
       "        vertical-align: middle;\n",
       "    }\n",
       "\n",
       "    .dataframe tbody tr th {\n",
       "        vertical-align: top;\n",
       "    }\n",
       "\n",
       "    .dataframe thead th {\n",
       "        text-align: right;\n",
       "    }\n",
       "</style>\n",
       "<table border=\"1\" class=\"dataframe\">\n",
       "  <thead>\n",
       "    <tr style=\"text-align: right;\">\n",
       "      <th></th>\n",
       "      <th>categories</th>\n",
       "      <th>channel_id</th>\n",
       "      <th>crawl_date</th>\n",
       "      <th>description</th>\n",
       "      <th>dislike_count</th>\n",
       "      <th>display_id</th>\n",
       "      <th>duration</th>\n",
       "      <th>like_count</th>\n",
       "      <th>tags</th>\n",
       "      <th>title</th>\n",
       "      <th>upload_date</th>\n",
       "      <th>view_count</th>\n",
       "    </tr>\n",
       "  </thead>\n",
       "  <tbody>\n",
       "    <tr>\n",
       "      <th>0</th>\n",
       "      <td>News &amp; Politics</td>\n",
       "      <td>UCzUV5283-l5c0oKRtyenj6Q</td>\n",
       "      <td>2019-11-22 08:47:10.520209</td>\n",
       "      <td>👕 Order your shirts here: https://Teespring.co...</td>\n",
       "      <td>195.0</td>\n",
       "      <td>MBgzne7djFU</td>\n",
       "      <td>378</td>\n",
       "      <td>47027.0</td>\n",
       "      <td>Funny,Entertainment,Fun,Laughing,Educational,L...</td>\n",
       "      <td>Elizabeth Warren Gets a Big Surprise at the Ai...</td>\n",
       "      <td>2019-10-03 00:00:00</td>\n",
       "      <td>374711.0</td>\n",
       "    </tr>\n",
       "    <tr>\n",
       "      <th>1</th>\n",
       "      <td>News &amp; Politics</td>\n",
       "      <td>UCzUV5283-l5c0oKRtyenj6Q</td>\n",
       "      <td>2019-11-22 08:46:16.481889</td>\n",
       "      <td>👕 Order your shirts here: https://Teespring.co...</td>\n",
       "      <td>114.0</td>\n",
       "      <td>AbH3pJnFgY8</td>\n",
       "      <td>278</td>\n",
       "      <td>36384.0</td>\n",
       "      <td>Funny,Entertainment,Fun,Laughing,Educational,L...</td>\n",
       "      <td>No More Twitter? 😂</td>\n",
       "      <td>2019-10-02 00:00:00</td>\n",
       "      <td>245617.0</td>\n",
       "    </tr>\n",
       "    <tr>\n",
       "      <th>2</th>\n",
       "      <td>News &amp; Politics</td>\n",
       "      <td>UCzUV5283-l5c0oKRtyenj6Q</td>\n",
       "      <td>2019-11-22 08:46:17.137786</td>\n",
       "      <td>👕 Order your shirts here: https://Teespring.co...</td>\n",
       "      <td>143.0</td>\n",
       "      <td>QBuwj_h1SH4</td>\n",
       "      <td>385</td>\n",
       "      <td>40597.0</td>\n",
       "      <td>Funny,Entertainment,Fun,Laughing,Educational,L...</td>\n",
       "      <td>The Only Thing Stopping Them 😂</td>\n",
       "      <td>2019-10-01 00:00:00</td>\n",
       "      <td>299535.0</td>\n",
       "    </tr>\n",
       "    <tr>\n",
       "      <th>3</th>\n",
       "      <td>News &amp; Politics</td>\n",
       "      <td>UCzUV5283-l5c0oKRtyenj6Q</td>\n",
       "      <td>2019-11-22 08:46:17.823119</td>\n",
       "      <td>👕 Order your shirts here: https://Teespring.co...</td>\n",
       "      <td>193.0</td>\n",
       "      <td>Reogq26-KpI</td>\n",
       "      <td>419</td>\n",
       "      <td>42658.0</td>\n",
       "      <td>Funny,Entertainment,Fun,Laughing,Educational,L...</td>\n",
       "      <td>Speaking of Losers...</td>\n",
       "      <td>2019-09-30 00:00:00</td>\n",
       "      <td>357126.0</td>\n",
       "    </tr>\n",
       "    <tr>\n",
       "      <th>4</th>\n",
       "      <td>News &amp; Politics</td>\n",
       "      <td>UCzUV5283-l5c0oKRtyenj6Q</td>\n",
       "      <td>2019-11-22 08:46:18.497042</td>\n",
       "      <td>👕 Order your shirts here: https://Teespring.co...</td>\n",
       "      <td>136.0</td>\n",
       "      <td>uBY9OtlSnX8</td>\n",
       "      <td>414</td>\n",
       "      <td>44246.0</td>\n",
       "      <td>Funny,Entertainment,Laughing,Educational,Learn...</td>\n",
       "      <td>The Circus Continues!</td>\n",
       "      <td>2019-09-27 00:00:00</td>\n",
       "      <td>297704.0</td>\n",
       "    </tr>\n",
       "    <tr>\n",
       "      <th>...</th>\n",
       "      <td>...</td>\n",
       "      <td>...</td>\n",
       "      <td>...</td>\n",
       "      <td>...</td>\n",
       "      <td>...</td>\n",
       "      <td>...</td>\n",
       "      <td>...</td>\n",
       "      <td>...</td>\n",
       "      <td>...</td>\n",
       "      <td>...</td>\n",
       "      <td>...</td>\n",
       "      <td>...</td>\n",
       "    </tr>\n",
       "    <tr>\n",
       "      <th>228725</th>\n",
       "      <td>People &amp; Blogs</td>\n",
       "      <td>UCs-brcHDxKqrOGU9cEWuCMQ</td>\n",
       "      <td>2019-11-13 02:57:16.081645</td>\n",
       "      <td>MGTOW: The Dark Side of Female Sexuality.\\nThe...</td>\n",
       "      <td>35.0</td>\n",
       "      <td>jAclz1oy_q4</td>\n",
       "      <td>896</td>\n",
       "      <td>306.0</td>\n",
       "      <td>MGTOW,Female,Sexuality,Male,Feminism,Female Se...</td>\n",
       "      <td>MGTOW: The Dark Side of Female Sexuality.</td>\n",
       "      <td>2016-02-10 00:00:00</td>\n",
       "      <td>20176.0</td>\n",
       "    </tr>\n",
       "    <tr>\n",
       "      <th>228726</th>\n",
       "      <td>People &amp; Blogs</td>\n",
       "      <td>UCs-brcHDxKqrOGU9cEWuCMQ</td>\n",
       "      <td>2019-11-13 02:57:16.688428</td>\n",
       "      <td>Black Widow Spiders and Modern Women - MGTOW\\n...</td>\n",
       "      <td>18.0</td>\n",
       "      <td>QOjI2f0lc98</td>\n",
       "      <td>1027</td>\n",
       "      <td>505.0</td>\n",
       "      <td>MGTOW,Mating Rituals,Modern Women,Black Widow,...</td>\n",
       "      <td>Black Widow Spiders and Modern Women - MGTOW</td>\n",
       "      <td>2016-02-03 00:00:00</td>\n",
       "      <td>12157.0</td>\n",
       "    </tr>\n",
       "    <tr>\n",
       "      <th>228727</th>\n",
       "      <td>People &amp; Blogs</td>\n",
       "      <td>UCs-brcHDxKqrOGU9cEWuCMQ</td>\n",
       "      <td>2019-11-13 02:57:17.309036</td>\n",
       "      <td>MGTOW: Going Crazy Death by a thousand cuts ev...</td>\n",
       "      <td>3.0</td>\n",
       "      <td>p221TExEgDY</td>\n",
       "      <td>705</td>\n",
       "      <td>47.0</td>\n",
       "      <td>MGTOW:,Going Crazy,Howard Dare,Suffering,Ratio...</td>\n",
       "      <td>MGTOW: Going Crazy</td>\n",
       "      <td>2016-01-15 00:00:00</td>\n",
       "      <td>675.0</td>\n",
       "    </tr>\n",
       "    <tr>\n",
       "      <th>228728</th>\n",
       "      <td>People &amp; Blogs</td>\n",
       "      <td>UCs-brcHDxKqrOGU9cEWuCMQ</td>\n",
       "      <td>2019-11-13 02:57:17.866052</td>\n",
       "      <td>Men and boys have been conditioned for centuri...</td>\n",
       "      <td>1.0</td>\n",
       "      <td>CKAFnI6oWVo</td>\n",
       "      <td>649</td>\n",
       "      <td>121.0</td>\n",
       "      <td>The Sacrificial Male,feminism,MGTOW,sex,female...</td>\n",
       "      <td>MGTOW: The Sacrificial Male</td>\n",
       "      <td>2016-01-14 00:00:00</td>\n",
       "      <td>1664.0</td>\n",
       "    </tr>\n",
       "    <tr>\n",
       "      <th>228729</th>\n",
       "      <td>People &amp; Blogs</td>\n",
       "      <td>UCs-brcHDxKqrOGU9cEWuCMQ</td>\n",
       "      <td>2019-11-13 02:57:18.433661</td>\n",
       "      <td>Some opening thoughts and views on feminism an...</td>\n",
       "      <td>2.0</td>\n",
       "      <td>J0JA2ZTuJV0</td>\n",
       "      <td>721</td>\n",
       "      <td>79.0</td>\n",
       "      <td>MGTOW,Feminism,Men,women,gender,sex,sexual,sex...</td>\n",
       "      <td>MGTOW Feminism My Views (Part One)</td>\n",
       "      <td>2016-01-11 00:00:00</td>\n",
       "      <td>1083.0</td>\n",
       "    </tr>\n",
       "  </tbody>\n",
       "</table>\n",
       "<p>228730 rows × 12 columns</p>\n",
       "</div>"
      ],
      "text/plain": [
       "             categories                channel_id                  crawl_date  \\\n",
       "0       News & Politics  UCzUV5283-l5c0oKRtyenj6Q  2019-11-22 08:47:10.520209   \n",
       "1       News & Politics  UCzUV5283-l5c0oKRtyenj6Q  2019-11-22 08:46:16.481889   \n",
       "2       News & Politics  UCzUV5283-l5c0oKRtyenj6Q  2019-11-22 08:46:17.137786   \n",
       "3       News & Politics  UCzUV5283-l5c0oKRtyenj6Q  2019-11-22 08:46:17.823119   \n",
       "4       News & Politics  UCzUV5283-l5c0oKRtyenj6Q  2019-11-22 08:46:18.497042   \n",
       "...                 ...                       ...                         ...   \n",
       "228725   People & Blogs  UCs-brcHDxKqrOGU9cEWuCMQ  2019-11-13 02:57:16.081645   \n",
       "228726   People & Blogs  UCs-brcHDxKqrOGU9cEWuCMQ  2019-11-13 02:57:16.688428   \n",
       "228727   People & Blogs  UCs-brcHDxKqrOGU9cEWuCMQ  2019-11-13 02:57:17.309036   \n",
       "228728   People & Blogs  UCs-brcHDxKqrOGU9cEWuCMQ  2019-11-13 02:57:17.866052   \n",
       "228729   People & Blogs  UCs-brcHDxKqrOGU9cEWuCMQ  2019-11-13 02:57:18.433661   \n",
       "\n",
       "                                              description dislike_count  \\\n",
       "0       👕 Order your shirts here: https://Teespring.co...         195.0   \n",
       "1       👕 Order your shirts here: https://Teespring.co...         114.0   \n",
       "2       👕 Order your shirts here: https://Teespring.co...         143.0   \n",
       "3       👕 Order your shirts here: https://Teespring.co...         193.0   \n",
       "4       👕 Order your shirts here: https://Teespring.co...         136.0   \n",
       "...                                                   ...           ...   \n",
       "228725  MGTOW: The Dark Side of Female Sexuality.\\nThe...          35.0   \n",
       "228726  Black Widow Spiders and Modern Women - MGTOW\\n...          18.0   \n",
       "228727  MGTOW: Going Crazy Death by a thousand cuts ev...           3.0   \n",
       "228728  Men and boys have been conditioned for centuri...           1.0   \n",
       "228729  Some opening thoughts and views on feminism an...           2.0   \n",
       "\n",
       "         display_id duration like_count  \\\n",
       "0       MBgzne7djFU      378    47027.0   \n",
       "1       AbH3pJnFgY8      278    36384.0   \n",
       "2       QBuwj_h1SH4      385    40597.0   \n",
       "3       Reogq26-KpI      419    42658.0   \n",
       "4       uBY9OtlSnX8      414    44246.0   \n",
       "...             ...      ...        ...   \n",
       "228725  jAclz1oy_q4      896      306.0   \n",
       "228726  QOjI2f0lc98     1027      505.0   \n",
       "228727  p221TExEgDY      705       47.0   \n",
       "228728  CKAFnI6oWVo      649      121.0   \n",
       "228729  J0JA2ZTuJV0      721       79.0   \n",
       "\n",
       "                                                     tags  \\\n",
       "0       Funny,Entertainment,Fun,Laughing,Educational,L...   \n",
       "1       Funny,Entertainment,Fun,Laughing,Educational,L...   \n",
       "2       Funny,Entertainment,Fun,Laughing,Educational,L...   \n",
       "3       Funny,Entertainment,Fun,Laughing,Educational,L...   \n",
       "4       Funny,Entertainment,Laughing,Educational,Learn...   \n",
       "...                                                   ...   \n",
       "228725  MGTOW,Female,Sexuality,Male,Feminism,Female Se...   \n",
       "228726  MGTOW,Mating Rituals,Modern Women,Black Widow,...   \n",
       "228727  MGTOW:,Going Crazy,Howard Dare,Suffering,Ratio...   \n",
       "228728  The Sacrificial Male,feminism,MGTOW,sex,female...   \n",
       "228729  MGTOW,Feminism,Men,women,gender,sex,sexual,sex...   \n",
       "\n",
       "                                                    title  \\\n",
       "0       Elizabeth Warren Gets a Big Surprise at the Ai...   \n",
       "1                                      No More Twitter? 😂   \n",
       "2                          The Only Thing Stopping Them 😂   \n",
       "3                                   Speaking of Losers...   \n",
       "4                                   The Circus Continues!   \n",
       "...                                                   ...   \n",
       "228725          MGTOW: The Dark Side of Female Sexuality.   \n",
       "228726       Black Widow Spiders and Modern Women - MGTOW   \n",
       "228727                                 MGTOW: Going Crazy   \n",
       "228728                        MGTOW: The Sacrificial Male   \n",
       "228729                 MGTOW Feminism My Views (Part One)   \n",
       "\n",
       "                upload_date  view_count  \n",
       "0       2019-10-03 00:00:00    374711.0  \n",
       "1       2019-10-02 00:00:00    245617.0  \n",
       "2       2019-10-01 00:00:00    299535.0  \n",
       "3       2019-09-30 00:00:00    357126.0  \n",
       "4       2019-09-27 00:00:00    297704.0  \n",
       "...                     ...         ...  \n",
       "228725  2016-02-10 00:00:00     20176.0  \n",
       "228726  2016-02-03 00:00:00     12157.0  \n",
       "228727  2016-01-15 00:00:00       675.0  \n",
       "228728  2016-01-14 00:00:00      1664.0  \n",
       "228729  2016-01-11 00:00:00      1083.0  \n",
       "\n",
       "[228730 rows x 12 columns]"
      ]
     },
     "execution_count": 16,
     "metadata": {},
     "output_type": "execute_result"
    }
   ],
   "source": [
    "test_meta_data"
   ]
  },
  {
   "cell_type": "code",
   "execution_count": 17,
   "metadata": {},
   "outputs": [],
   "source": [
    "def orient_match(x):\n",
    "    var = test_channels.loc[test_channels[\"Id\"] == x][\"pol_orient\"].values\n",
    "    if len(var) > 0:\n",
    "        return var[0]\n",
    "    else:\n",
    "        return 0\n",
    "\n",
    "test_meta_data[\"pol_orient\"] = test_meta_data[\"channel_id\"].apply(orient_match)    "
   ]
  },
  {
   "cell_type": "code",
   "execution_count": 18,
   "metadata": {},
   "outputs": [
    {
     "data": {
      "text/html": [
       "<div>\n",
       "<style scoped>\n",
       "    .dataframe tbody tr th:only-of-type {\n",
       "        vertical-align: middle;\n",
       "    }\n",
       "\n",
       "    .dataframe tbody tr th {\n",
       "        vertical-align: top;\n",
       "    }\n",
       "\n",
       "    .dataframe thead th {\n",
       "        text-align: right;\n",
       "    }\n",
       "</style>\n",
       "<table border=\"1\" class=\"dataframe\">\n",
       "  <thead>\n",
       "    <tr style=\"text-align: right;\">\n",
       "      <th></th>\n",
       "      <th>categories</th>\n",
       "      <th>channel_id</th>\n",
       "      <th>crawl_date</th>\n",
       "      <th>description</th>\n",
       "      <th>dislike_count</th>\n",
       "      <th>display_id</th>\n",
       "      <th>duration</th>\n",
       "      <th>like_count</th>\n",
       "      <th>tags</th>\n",
       "      <th>title</th>\n",
       "      <th>upload_date</th>\n",
       "      <th>view_count</th>\n",
       "      <th>pol_orient</th>\n",
       "    </tr>\n",
       "  </thead>\n",
       "  <tbody>\n",
       "    <tr>\n",
       "      <th>0</th>\n",
       "      <td>News &amp; Politics</td>\n",
       "      <td>UCzUV5283-l5c0oKRtyenj6Q</td>\n",
       "      <td>2019-11-22 08:47:10.520209</td>\n",
       "      <td>👕 Order your shirts here: https://Teespring.co...</td>\n",
       "      <td>195.0</td>\n",
       "      <td>MBgzne7djFU</td>\n",
       "      <td>378</td>\n",
       "      <td>47027.0</td>\n",
       "      <td>Funny,Entertainment,Fun,Laughing,Educational,L...</td>\n",
       "      <td>Elizabeth Warren Gets a Big Surprise at the Ai...</td>\n",
       "      <td>2019-10-03 00:00:00</td>\n",
       "      <td>374711.0</td>\n",
       "      <td>right</td>\n",
       "    </tr>\n",
       "    <tr>\n",
       "      <th>1</th>\n",
       "      <td>News &amp; Politics</td>\n",
       "      <td>UCzUV5283-l5c0oKRtyenj6Q</td>\n",
       "      <td>2019-11-22 08:46:16.481889</td>\n",
       "      <td>👕 Order your shirts here: https://Teespring.co...</td>\n",
       "      <td>114.0</td>\n",
       "      <td>AbH3pJnFgY8</td>\n",
       "      <td>278</td>\n",
       "      <td>36384.0</td>\n",
       "      <td>Funny,Entertainment,Fun,Laughing,Educational,L...</td>\n",
       "      <td>No More Twitter? 😂</td>\n",
       "      <td>2019-10-02 00:00:00</td>\n",
       "      <td>245617.0</td>\n",
       "      <td>right</td>\n",
       "    </tr>\n",
       "    <tr>\n",
       "      <th>2</th>\n",
       "      <td>News &amp; Politics</td>\n",
       "      <td>UCzUV5283-l5c0oKRtyenj6Q</td>\n",
       "      <td>2019-11-22 08:46:17.137786</td>\n",
       "      <td>👕 Order your shirts here: https://Teespring.co...</td>\n",
       "      <td>143.0</td>\n",
       "      <td>QBuwj_h1SH4</td>\n",
       "      <td>385</td>\n",
       "      <td>40597.0</td>\n",
       "      <td>Funny,Entertainment,Fun,Laughing,Educational,L...</td>\n",
       "      <td>The Only Thing Stopping Them 😂</td>\n",
       "      <td>2019-10-01 00:00:00</td>\n",
       "      <td>299535.0</td>\n",
       "      <td>right</td>\n",
       "    </tr>\n",
       "    <tr>\n",
       "      <th>3</th>\n",
       "      <td>News &amp; Politics</td>\n",
       "      <td>UCzUV5283-l5c0oKRtyenj6Q</td>\n",
       "      <td>2019-11-22 08:46:17.823119</td>\n",
       "      <td>👕 Order your shirts here: https://Teespring.co...</td>\n",
       "      <td>193.0</td>\n",
       "      <td>Reogq26-KpI</td>\n",
       "      <td>419</td>\n",
       "      <td>42658.0</td>\n",
       "      <td>Funny,Entertainment,Fun,Laughing,Educational,L...</td>\n",
       "      <td>Speaking of Losers...</td>\n",
       "      <td>2019-09-30 00:00:00</td>\n",
       "      <td>357126.0</td>\n",
       "      <td>right</td>\n",
       "    </tr>\n",
       "    <tr>\n",
       "      <th>4</th>\n",
       "      <td>News &amp; Politics</td>\n",
       "      <td>UCzUV5283-l5c0oKRtyenj6Q</td>\n",
       "      <td>2019-11-22 08:46:18.497042</td>\n",
       "      <td>👕 Order your shirts here: https://Teespring.co...</td>\n",
       "      <td>136.0</td>\n",
       "      <td>uBY9OtlSnX8</td>\n",
       "      <td>414</td>\n",
       "      <td>44246.0</td>\n",
       "      <td>Funny,Entertainment,Laughing,Educational,Learn...</td>\n",
       "      <td>The Circus Continues!</td>\n",
       "      <td>2019-09-27 00:00:00</td>\n",
       "      <td>297704.0</td>\n",
       "      <td>right</td>\n",
       "    </tr>\n",
       "    <tr>\n",
       "      <th>...</th>\n",
       "      <td>...</td>\n",
       "      <td>...</td>\n",
       "      <td>...</td>\n",
       "      <td>...</td>\n",
       "      <td>...</td>\n",
       "      <td>...</td>\n",
       "      <td>...</td>\n",
       "      <td>...</td>\n",
       "      <td>...</td>\n",
       "      <td>...</td>\n",
       "      <td>...</td>\n",
       "      <td>...</td>\n",
       "      <td>...</td>\n",
       "    </tr>\n",
       "    <tr>\n",
       "      <th>228725</th>\n",
       "      <td>People &amp; Blogs</td>\n",
       "      <td>UCs-brcHDxKqrOGU9cEWuCMQ</td>\n",
       "      <td>2019-11-13 02:57:16.081645</td>\n",
       "      <td>MGTOW: The Dark Side of Female Sexuality.\\nThe...</td>\n",
       "      <td>35.0</td>\n",
       "      <td>jAclz1oy_q4</td>\n",
       "      <td>896</td>\n",
       "      <td>306.0</td>\n",
       "      <td>MGTOW,Female,Sexuality,Male,Feminism,Female Se...</td>\n",
       "      <td>MGTOW: The Dark Side of Female Sexuality.</td>\n",
       "      <td>2016-02-10 00:00:00</td>\n",
       "      <td>20176.0</td>\n",
       "      <td>right</td>\n",
       "    </tr>\n",
       "    <tr>\n",
       "      <th>228726</th>\n",
       "      <td>People &amp; Blogs</td>\n",
       "      <td>UCs-brcHDxKqrOGU9cEWuCMQ</td>\n",
       "      <td>2019-11-13 02:57:16.688428</td>\n",
       "      <td>Black Widow Spiders and Modern Women - MGTOW\\n...</td>\n",
       "      <td>18.0</td>\n",
       "      <td>QOjI2f0lc98</td>\n",
       "      <td>1027</td>\n",
       "      <td>505.0</td>\n",
       "      <td>MGTOW,Mating Rituals,Modern Women,Black Widow,...</td>\n",
       "      <td>Black Widow Spiders and Modern Women - MGTOW</td>\n",
       "      <td>2016-02-03 00:00:00</td>\n",
       "      <td>12157.0</td>\n",
       "      <td>right</td>\n",
       "    </tr>\n",
       "    <tr>\n",
       "      <th>228727</th>\n",
       "      <td>People &amp; Blogs</td>\n",
       "      <td>UCs-brcHDxKqrOGU9cEWuCMQ</td>\n",
       "      <td>2019-11-13 02:57:17.309036</td>\n",
       "      <td>MGTOW: Going Crazy Death by a thousand cuts ev...</td>\n",
       "      <td>3.0</td>\n",
       "      <td>p221TExEgDY</td>\n",
       "      <td>705</td>\n",
       "      <td>47.0</td>\n",
       "      <td>MGTOW:,Going Crazy,Howard Dare,Suffering,Ratio...</td>\n",
       "      <td>MGTOW: Going Crazy</td>\n",
       "      <td>2016-01-15 00:00:00</td>\n",
       "      <td>675.0</td>\n",
       "      <td>right</td>\n",
       "    </tr>\n",
       "    <tr>\n",
       "      <th>228728</th>\n",
       "      <td>People &amp; Blogs</td>\n",
       "      <td>UCs-brcHDxKqrOGU9cEWuCMQ</td>\n",
       "      <td>2019-11-13 02:57:17.866052</td>\n",
       "      <td>Men and boys have been conditioned for centuri...</td>\n",
       "      <td>1.0</td>\n",
       "      <td>CKAFnI6oWVo</td>\n",
       "      <td>649</td>\n",
       "      <td>121.0</td>\n",
       "      <td>The Sacrificial Male,feminism,MGTOW,sex,female...</td>\n",
       "      <td>MGTOW: The Sacrificial Male</td>\n",
       "      <td>2016-01-14 00:00:00</td>\n",
       "      <td>1664.0</td>\n",
       "      <td>right</td>\n",
       "    </tr>\n",
       "    <tr>\n",
       "      <th>228729</th>\n",
       "      <td>People &amp; Blogs</td>\n",
       "      <td>UCs-brcHDxKqrOGU9cEWuCMQ</td>\n",
       "      <td>2019-11-13 02:57:18.433661</td>\n",
       "      <td>Some opening thoughts and views on feminism an...</td>\n",
       "      <td>2.0</td>\n",
       "      <td>J0JA2ZTuJV0</td>\n",
       "      <td>721</td>\n",
       "      <td>79.0</td>\n",
       "      <td>MGTOW,Feminism,Men,women,gender,sex,sexual,sex...</td>\n",
       "      <td>MGTOW Feminism My Views (Part One)</td>\n",
       "      <td>2016-01-11 00:00:00</td>\n",
       "      <td>1083.0</td>\n",
       "      <td>right</td>\n",
       "    </tr>\n",
       "  </tbody>\n",
       "</table>\n",
       "<p>228730 rows × 13 columns</p>\n",
       "</div>"
      ],
      "text/plain": [
       "             categories                channel_id                  crawl_date  \\\n",
       "0       News & Politics  UCzUV5283-l5c0oKRtyenj6Q  2019-11-22 08:47:10.520209   \n",
       "1       News & Politics  UCzUV5283-l5c0oKRtyenj6Q  2019-11-22 08:46:16.481889   \n",
       "2       News & Politics  UCzUV5283-l5c0oKRtyenj6Q  2019-11-22 08:46:17.137786   \n",
       "3       News & Politics  UCzUV5283-l5c0oKRtyenj6Q  2019-11-22 08:46:17.823119   \n",
       "4       News & Politics  UCzUV5283-l5c0oKRtyenj6Q  2019-11-22 08:46:18.497042   \n",
       "...                 ...                       ...                         ...   \n",
       "228725   People & Blogs  UCs-brcHDxKqrOGU9cEWuCMQ  2019-11-13 02:57:16.081645   \n",
       "228726   People & Blogs  UCs-brcHDxKqrOGU9cEWuCMQ  2019-11-13 02:57:16.688428   \n",
       "228727   People & Blogs  UCs-brcHDxKqrOGU9cEWuCMQ  2019-11-13 02:57:17.309036   \n",
       "228728   People & Blogs  UCs-brcHDxKqrOGU9cEWuCMQ  2019-11-13 02:57:17.866052   \n",
       "228729   People & Blogs  UCs-brcHDxKqrOGU9cEWuCMQ  2019-11-13 02:57:18.433661   \n",
       "\n",
       "                                              description dislike_count  \\\n",
       "0       👕 Order your shirts here: https://Teespring.co...         195.0   \n",
       "1       👕 Order your shirts here: https://Teespring.co...         114.0   \n",
       "2       👕 Order your shirts here: https://Teespring.co...         143.0   \n",
       "3       👕 Order your shirts here: https://Teespring.co...         193.0   \n",
       "4       👕 Order your shirts here: https://Teespring.co...         136.0   \n",
       "...                                                   ...           ...   \n",
       "228725  MGTOW: The Dark Side of Female Sexuality.\\nThe...          35.0   \n",
       "228726  Black Widow Spiders and Modern Women - MGTOW\\n...          18.0   \n",
       "228727  MGTOW: Going Crazy Death by a thousand cuts ev...           3.0   \n",
       "228728  Men and boys have been conditioned for centuri...           1.0   \n",
       "228729  Some opening thoughts and views on feminism an...           2.0   \n",
       "\n",
       "         display_id duration like_count  \\\n",
       "0       MBgzne7djFU      378    47027.0   \n",
       "1       AbH3pJnFgY8      278    36384.0   \n",
       "2       QBuwj_h1SH4      385    40597.0   \n",
       "3       Reogq26-KpI      419    42658.0   \n",
       "4       uBY9OtlSnX8      414    44246.0   \n",
       "...             ...      ...        ...   \n",
       "228725  jAclz1oy_q4      896      306.0   \n",
       "228726  QOjI2f0lc98     1027      505.0   \n",
       "228727  p221TExEgDY      705       47.0   \n",
       "228728  CKAFnI6oWVo      649      121.0   \n",
       "228729  J0JA2ZTuJV0      721       79.0   \n",
       "\n",
       "                                                     tags  \\\n",
       "0       Funny,Entertainment,Fun,Laughing,Educational,L...   \n",
       "1       Funny,Entertainment,Fun,Laughing,Educational,L...   \n",
       "2       Funny,Entertainment,Fun,Laughing,Educational,L...   \n",
       "3       Funny,Entertainment,Fun,Laughing,Educational,L...   \n",
       "4       Funny,Entertainment,Laughing,Educational,Learn...   \n",
       "...                                                   ...   \n",
       "228725  MGTOW,Female,Sexuality,Male,Feminism,Female Se...   \n",
       "228726  MGTOW,Mating Rituals,Modern Women,Black Widow,...   \n",
       "228727  MGTOW:,Going Crazy,Howard Dare,Suffering,Ratio...   \n",
       "228728  The Sacrificial Male,feminism,MGTOW,sex,female...   \n",
       "228729  MGTOW,Feminism,Men,women,gender,sex,sexual,sex...   \n",
       "\n",
       "                                                    title  \\\n",
       "0       Elizabeth Warren Gets a Big Surprise at the Ai...   \n",
       "1                                      No More Twitter? 😂   \n",
       "2                          The Only Thing Stopping Them 😂   \n",
       "3                                   Speaking of Losers...   \n",
       "4                                   The Circus Continues!   \n",
       "...                                                   ...   \n",
       "228725          MGTOW: The Dark Side of Female Sexuality.   \n",
       "228726       Black Widow Spiders and Modern Women - MGTOW   \n",
       "228727                                 MGTOW: Going Crazy   \n",
       "228728                        MGTOW: The Sacrificial Male   \n",
       "228729                 MGTOW Feminism My Views (Part One)   \n",
       "\n",
       "                upload_date  view_count pol_orient  \n",
       "0       2019-10-03 00:00:00    374711.0      right  \n",
       "1       2019-10-02 00:00:00    245617.0      right  \n",
       "2       2019-10-01 00:00:00    299535.0      right  \n",
       "3       2019-09-30 00:00:00    357126.0      right  \n",
       "4       2019-09-27 00:00:00    297704.0      right  \n",
       "...                     ...         ...        ...  \n",
       "228725  2016-02-10 00:00:00     20176.0      right  \n",
       "228726  2016-02-03 00:00:00     12157.0      right  \n",
       "228727  2016-01-15 00:00:00       675.0      right  \n",
       "228728  2016-01-14 00:00:00      1664.0      right  \n",
       "228729  2016-01-11 00:00:00      1083.0      right  \n",
       "\n",
       "[228730 rows x 13 columns]"
      ]
     },
     "execution_count": 18,
     "metadata": {},
     "output_type": "execute_result"
    }
   ],
   "source": [
    "test_meta_data"
   ]
  },
  {
   "cell_type": "code",
   "execution_count": 107,
   "metadata": {},
   "outputs": [],
   "source": [
    "def classify(title):\n",
    "    \n",
    "    return [prob_left, prob_right, na]\n",
    "# --------> should return \"right\", \"center\" or \"left\" directly based on probability"
   ]
  },
  {
   "cell_type": "code",
   "execution_count": 108,
   "metadata": {},
   "outputs": [],
   "source": [
    "def test(classify):\n",
    "    test_size = 1000\n",
    "    test_df = test_meta_data.sample(test_size)\n",
    "    test_df = test_df[test_df.columns[test_df.columns.isin([\"title\", \"pol_orient\"])]]\n",
    "    test_df[\"pol_orient_pred\"] = test_df.title.apply(classify)\n",
    "    test_df[\"real_pred_equal\"] = test_df.pol_orient == test_df.pol_orient_pred\n",
    "    pct_correct_pred = 100 * test_df[\"real_pred_equal\"].sum()/test_size\n",
    "    return pct_correct_pred"
   ]
  },
  {
   "cell_type": "code",
   "execution_count": 85,
   "metadata": {},
   "outputs": [
    {
     "data": {
      "text/html": [
       "<div>\n",
       "<style scoped>\n",
       "    .dataframe tbody tr th:only-of-type {\n",
       "        vertical-align: middle;\n",
       "    }\n",
       "\n",
       "    .dataframe tbody tr th {\n",
       "        vertical-align: top;\n",
       "    }\n",
       "\n",
       "    .dataframe thead th {\n",
       "        text-align: right;\n",
       "    }\n",
       "</style>\n",
       "<table border=\"1\" class=\"dataframe\">\n",
       "  <thead>\n",
       "    <tr style=\"text-align: right;\">\n",
       "      <th></th>\n",
       "      <th>channel_id</th>\n",
       "      <th>score</th>\n",
       "      <th>pol_orient_pred</th>\n",
       "    </tr>\n",
       "  </thead>\n",
       "  <tbody>\n",
       "    <tr>\n",
       "      <th>0</th>\n",
       "      <td>UC-1Hd_LdAj766JDS_ILKEig</td>\n",
       "      <td>-0.330190</td>\n",
       "      <td>left</td>\n",
       "    </tr>\n",
       "    <tr>\n",
       "      <th>1</th>\n",
       "      <td>UC-1PkmLrFt6apyXAnB0LbNw</td>\n",
       "      <td>0.965999</td>\n",
       "      <td>right</td>\n",
       "    </tr>\n",
       "    <tr>\n",
       "      <th>2</th>\n",
       "      <td>UC-2JUs_G21BrJ0efehwGkUw</td>\n",
       "      <td>0.155782</td>\n",
       "      <td>right</td>\n",
       "    </tr>\n",
       "    <tr>\n",
       "      <th>3</th>\n",
       "      <td>UC-2MJlKSq9_pYk5-bdvMhnw</td>\n",
       "      <td>-0.283323</td>\n",
       "      <td>left</td>\n",
       "    </tr>\n",
       "    <tr>\n",
       "      <th>4</th>\n",
       "      <td>UC-2WWk_2TkYzYM2dW8UCcXQ</td>\n",
       "      <td>0.649750</td>\n",
       "      <td>right</td>\n",
       "    </tr>\n",
       "    <tr>\n",
       "      <th>...</th>\n",
       "      <td>...</td>\n",
       "      <td>...</td>\n",
       "      <td>...</td>\n",
       "    </tr>\n",
       "    <tr>\n",
       "      <th>5144</th>\n",
       "      <td>UCzyR6O1o5fjdwvmKOaMOBaQ</td>\n",
       "      <td>0.000000</td>\n",
       "      <td>right</td>\n",
       "    </tr>\n",
       "    <tr>\n",
       "      <th>5145</th>\n",
       "      <td>UCzzKrtcSbLq28-JuTfYmZDg</td>\n",
       "      <td>-0.250662</td>\n",
       "      <td>left</td>\n",
       "    </tr>\n",
       "    <tr>\n",
       "      <th>5146</th>\n",
       "      <td>UCzzLIhDbFYU46T4VFBz_m_g</td>\n",
       "      <td>-0.473430</td>\n",
       "      <td>left</td>\n",
       "    </tr>\n",
       "    <tr>\n",
       "      <th>5147</th>\n",
       "      <td>UCzzQnR2e5VIgziK3SiJ6uIg</td>\n",
       "      <td>0.000000</td>\n",
       "      <td>right</td>\n",
       "    </tr>\n",
       "    <tr>\n",
       "      <th>5148</th>\n",
       "      <td>UCzzYnZ8GIzfB1Vr3hk2Nj9Q</td>\n",
       "      <td>-0.181494</td>\n",
       "      <td>right</td>\n",
       "    </tr>\n",
       "  </tbody>\n",
       "</table>\n",
       "<p>5149 rows × 3 columns</p>\n",
       "</div>"
      ],
      "text/plain": [
       "                    channel_id     score pol_orient_pred\n",
       "0     UC-1Hd_LdAj766JDS_ILKEig -0.330190            left\n",
       "1     UC-1PkmLrFt6apyXAnB0LbNw  0.965999           right\n",
       "2     UC-2JUs_G21BrJ0efehwGkUw  0.155782           right\n",
       "3     UC-2MJlKSq9_pYk5-bdvMhnw -0.283323            left\n",
       "4     UC-2WWk_2TkYzYM2dW8UCcXQ  0.649750           right\n",
       "...                        ...       ...             ...\n",
       "5144  UCzyR6O1o5fjdwvmKOaMOBaQ  0.000000           right\n",
       "5145  UCzzKrtcSbLq28-JuTfYmZDg -0.250662            left\n",
       "5146  UCzzLIhDbFYU46T4VFBz_m_g -0.473430            left\n",
       "5147  UCzzQnR2e5VIgziK3SiJ6uIg  0.000000           right\n",
       "5148  UCzzYnZ8GIzfB1Vr3hk2Nj9Q -0.181494           right\n",
       "\n",
       "[5149 rows x 3 columns]"
      ]
     },
     "execution_count": 85,
     "metadata": {},
     "output_type": "execute_result"
    }
   ],
   "source": [
    "#testing for trump dataset\n",
    "\n",
    "def pol_thresh(x):\n",
    "    if x < -0.2:\n",
    "        return \"left\"\n",
    "    else:\n",
    "        return \"right\"\n",
    "#    else:\n",
    "#        return \"center\"\n",
    "\n",
    "trump_data = pd.read_pickle(data_dir + '/trump_classified.tsv.gz')\n",
    "trump_data[\"pol_orient_pred\"] = trump_data[\"score\"].apply(pol_thresh)\n",
    "trump_data"
   ]
  },
  {
   "cell_type": "code",
   "execution_count": 86,
   "metadata": {},
   "outputs": [],
   "source": [
    "def orient_match_2(x):\n",
    "    try:\n",
    "        var = test_meta_data.loc[test_meta_data[\"channel_id\"] == x][\"pol_orient\"].values\n",
    "        if len(var) > 0:\n",
    "            return var[0]\n",
    "        else:\n",
    "            return 0\n",
    "    except:\n",
    "        return float('nan')\n",
    "\n",
    "trump_data[\"pol_orient_true\"] = trump_data[\"channel_id\"].apply(orient_match_2)"
   ]
  },
  {
   "cell_type": "code",
   "execution_count": 87,
   "metadata": {},
   "outputs": [
    {
     "data": {
      "text/html": [
       "<div>\n",
       "<style scoped>\n",
       "    .dataframe tbody tr th:only-of-type {\n",
       "        vertical-align: middle;\n",
       "    }\n",
       "\n",
       "    .dataframe tbody tr th {\n",
       "        vertical-align: top;\n",
       "    }\n",
       "\n",
       "    .dataframe thead th {\n",
       "        text-align: right;\n",
       "    }\n",
       "</style>\n",
       "<table border=\"1\" class=\"dataframe\">\n",
       "  <thead>\n",
       "    <tr style=\"text-align: right;\">\n",
       "      <th></th>\n",
       "      <th>channel_id</th>\n",
       "      <th>score</th>\n",
       "      <th>pol_orient_pred</th>\n",
       "      <th>pol_orient_true</th>\n",
       "    </tr>\n",
       "  </thead>\n",
       "  <tbody>\n",
       "    <tr>\n",
       "      <th>0</th>\n",
       "      <td>UC-1Hd_LdAj766JDS_ILKEig</td>\n",
       "      <td>-0.330190</td>\n",
       "      <td>left</td>\n",
       "      <td>0</td>\n",
       "    </tr>\n",
       "    <tr>\n",
       "      <th>1</th>\n",
       "      <td>UC-1PkmLrFt6apyXAnB0LbNw</td>\n",
       "      <td>0.965999</td>\n",
       "      <td>right</td>\n",
       "      <td>0</td>\n",
       "    </tr>\n",
       "    <tr>\n",
       "      <th>2</th>\n",
       "      <td>UC-2JUs_G21BrJ0efehwGkUw</td>\n",
       "      <td>0.155782</td>\n",
       "      <td>right</td>\n",
       "      <td>0</td>\n",
       "    </tr>\n",
       "    <tr>\n",
       "      <th>3</th>\n",
       "      <td>UC-2MJlKSq9_pYk5-bdvMhnw</td>\n",
       "      <td>-0.283323</td>\n",
       "      <td>left</td>\n",
       "      <td>0</td>\n",
       "    </tr>\n",
       "    <tr>\n",
       "      <th>4</th>\n",
       "      <td>UC-2WWk_2TkYzYM2dW8UCcXQ</td>\n",
       "      <td>0.649750</td>\n",
       "      <td>right</td>\n",
       "      <td>0</td>\n",
       "    </tr>\n",
       "    <tr>\n",
       "      <th>...</th>\n",
       "      <td>...</td>\n",
       "      <td>...</td>\n",
       "      <td>...</td>\n",
       "      <td>...</td>\n",
       "    </tr>\n",
       "    <tr>\n",
       "      <th>5144</th>\n",
       "      <td>UCzyR6O1o5fjdwvmKOaMOBaQ</td>\n",
       "      <td>0.000000</td>\n",
       "      <td>right</td>\n",
       "      <td>0</td>\n",
       "    </tr>\n",
       "    <tr>\n",
       "      <th>5145</th>\n",
       "      <td>UCzzKrtcSbLq28-JuTfYmZDg</td>\n",
       "      <td>-0.250662</td>\n",
       "      <td>left</td>\n",
       "      <td>0</td>\n",
       "    </tr>\n",
       "    <tr>\n",
       "      <th>5146</th>\n",
       "      <td>UCzzLIhDbFYU46T4VFBz_m_g</td>\n",
       "      <td>-0.473430</td>\n",
       "      <td>left</td>\n",
       "      <td>right</td>\n",
       "    </tr>\n",
       "    <tr>\n",
       "      <th>5147</th>\n",
       "      <td>UCzzQnR2e5VIgziK3SiJ6uIg</td>\n",
       "      <td>0.000000</td>\n",
       "      <td>right</td>\n",
       "      <td>0</td>\n",
       "    </tr>\n",
       "    <tr>\n",
       "      <th>5148</th>\n",
       "      <td>UCzzYnZ8GIzfB1Vr3hk2Nj9Q</td>\n",
       "      <td>-0.181494</td>\n",
       "      <td>right</td>\n",
       "      <td>0</td>\n",
       "    </tr>\n",
       "  </tbody>\n",
       "</table>\n",
       "<p>5149 rows × 4 columns</p>\n",
       "</div>"
      ],
      "text/plain": [
       "                    channel_id     score pol_orient_pred pol_orient_true\n",
       "0     UC-1Hd_LdAj766JDS_ILKEig -0.330190            left               0\n",
       "1     UC-1PkmLrFt6apyXAnB0LbNw  0.965999           right               0\n",
       "2     UC-2JUs_G21BrJ0efehwGkUw  0.155782           right               0\n",
       "3     UC-2MJlKSq9_pYk5-bdvMhnw -0.283323            left               0\n",
       "4     UC-2WWk_2TkYzYM2dW8UCcXQ  0.649750           right               0\n",
       "...                        ...       ...             ...             ...\n",
       "5144  UCzyR6O1o5fjdwvmKOaMOBaQ  0.000000           right               0\n",
       "5145  UCzzKrtcSbLq28-JuTfYmZDg -0.250662            left               0\n",
       "5146  UCzzLIhDbFYU46T4VFBz_m_g -0.473430            left           right\n",
       "5147  UCzzQnR2e5VIgziK3SiJ6uIg  0.000000           right               0\n",
       "5148  UCzzYnZ8GIzfB1Vr3hk2Nj9Q -0.181494           right               0\n",
       "\n",
       "[5149 rows x 4 columns]"
      ]
     },
     "execution_count": 87,
     "metadata": {},
     "output_type": "execute_result"
    }
   ],
   "source": [
    "trump_data"
   ]
  },
  {
   "cell_type": "code",
   "execution_count": 88,
   "metadata": {},
   "outputs": [
    {
     "data": {
      "text/html": [
       "<div>\n",
       "<style scoped>\n",
       "    .dataframe tbody tr th:only-of-type {\n",
       "        vertical-align: middle;\n",
       "    }\n",
       "\n",
       "    .dataframe tbody tr th {\n",
       "        vertical-align: top;\n",
       "    }\n",
       "\n",
       "    .dataframe thead th {\n",
       "        text-align: right;\n",
       "    }\n",
       "</style>\n",
       "<table border=\"1\" class=\"dataframe\">\n",
       "  <thead>\n",
       "    <tr style=\"text-align: right;\">\n",
       "      <th></th>\n",
       "      <th>channel_id</th>\n",
       "      <th>score</th>\n",
       "      <th>pol_orient_pred</th>\n",
       "      <th>pol_orient_true</th>\n",
       "    </tr>\n",
       "  </thead>\n",
       "  <tbody>\n",
       "    <tr>\n",
       "      <th>55</th>\n",
       "      <td>UC-jlxuVAVEl2PXTaGno7gSA</td>\n",
       "      <td>-0.944432</td>\n",
       "      <td>left</td>\n",
       "      <td>right</td>\n",
       "    </tr>\n",
       "    <tr>\n",
       "      <th>71</th>\n",
       "      <td>UC-yewGHQbNFpDrGM0diZOLA</td>\n",
       "      <td>-0.434957</td>\n",
       "      <td>left</td>\n",
       "      <td>right</td>\n",
       "    </tr>\n",
       "    <tr>\n",
       "      <th>117</th>\n",
       "      <td>UC0aVoboXBUx2-tVIWHc3W2Q</td>\n",
       "      <td>-0.019635</td>\n",
       "      <td>right</td>\n",
       "      <td>right</td>\n",
       "    </tr>\n",
       "    <tr>\n",
       "      <th>137</th>\n",
       "      <td>UC0rZoXAD5lxgBHMsjrGwWWQ</td>\n",
       "      <td>0.095500</td>\n",
       "      <td>right</td>\n",
       "      <td>right</td>\n",
       "    </tr>\n",
       "    <tr>\n",
       "      <th>241</th>\n",
       "      <td>UC255AfKquZnQMO0amxdEGWw</td>\n",
       "      <td>-0.957396</td>\n",
       "      <td>left</td>\n",
       "      <td>right</td>\n",
       "    </tr>\n",
       "    <tr>\n",
       "      <th>...</th>\n",
       "      <td>...</td>\n",
       "      <td>...</td>\n",
       "      <td>...</td>\n",
       "      <td>...</td>\n",
       "    </tr>\n",
       "    <tr>\n",
       "      <th>5064</th>\n",
       "      <td>UCz-y9OLmILUM1HGCE4Ffbkw</td>\n",
       "      <td>-0.207163</td>\n",
       "      <td>left</td>\n",
       "      <td>right</td>\n",
       "    </tr>\n",
       "    <tr>\n",
       "      <th>5092</th>\n",
       "      <td>UCzIjg5vIfBGcdyLWu6lhXxw</td>\n",
       "      <td>-0.281808</td>\n",
       "      <td>left</td>\n",
       "      <td>right</td>\n",
       "    </tr>\n",
       "    <tr>\n",
       "      <th>5106</th>\n",
       "      <td>UCzUV5283-l5c0oKRtyenj6Q</td>\n",
       "      <td>-0.199582</td>\n",
       "      <td>right</td>\n",
       "      <td>right</td>\n",
       "    </tr>\n",
       "    <tr>\n",
       "      <th>5141</th>\n",
       "      <td>UCzuqE7-t13O4NIDYJfakrhw</td>\n",
       "      <td>-0.268183</td>\n",
       "      <td>left</td>\n",
       "      <td>left</td>\n",
       "    </tr>\n",
       "    <tr>\n",
       "      <th>5146</th>\n",
       "      <td>UCzzLIhDbFYU46T4VFBz_m_g</td>\n",
       "      <td>-0.473430</td>\n",
       "      <td>left</td>\n",
       "      <td>right</td>\n",
       "    </tr>\n",
       "  </tbody>\n",
       "</table>\n",
       "<p>96 rows × 4 columns</p>\n",
       "</div>"
      ],
      "text/plain": [
       "                    channel_id     score pol_orient_pred pol_orient_true\n",
       "55    UC-jlxuVAVEl2PXTaGno7gSA -0.944432            left           right\n",
       "71    UC-yewGHQbNFpDrGM0diZOLA -0.434957            left           right\n",
       "117   UC0aVoboXBUx2-tVIWHc3W2Q -0.019635           right           right\n",
       "137   UC0rZoXAD5lxgBHMsjrGwWWQ  0.095500           right           right\n",
       "241   UC255AfKquZnQMO0amxdEGWw -0.957396            left           right\n",
       "...                        ...       ...             ...             ...\n",
       "5064  UCz-y9OLmILUM1HGCE4Ffbkw -0.207163            left           right\n",
       "5092  UCzIjg5vIfBGcdyLWu6lhXxw -0.281808            left           right\n",
       "5106  UCzUV5283-l5c0oKRtyenj6Q -0.199582           right           right\n",
       "5141  UCzuqE7-t13O4NIDYJfakrhw -0.268183            left            left\n",
       "5146  UCzzLIhDbFYU46T4VFBz_m_g -0.473430            left           right\n",
       "\n",
       "[96 rows x 4 columns]"
      ]
     },
     "execution_count": 88,
     "metadata": {},
     "output_type": "execute_result"
    }
   ],
   "source": [
    "trump_data_relevant = trump_data.loc[trump_data.pol_orient_true != 0]\n",
    "trump_data_relevant = trump_data_relevant.loc[trump_data_relevant.pol_orient_true != \"center\"]\n",
    "trump_data_relevant"
   ]
  },
  {
   "cell_type": "code",
   "execution_count": 99,
   "metadata": {},
   "outputs": [
    {
     "data": {
      "text/plain": [
       "11"
      ]
     },
     "execution_count": 99,
     "metadata": {},
     "output_type": "execute_result"
    }
   ],
   "source": [
    "trump_data_relevant.loc[trump_data_relevant.pol_orient_true == \"left\"].shape[0]"
   ]
  },
  {
   "cell_type": "code",
   "execution_count": 100,
   "metadata": {},
   "outputs": [
    {
     "data": {
      "text/plain": [
       "85"
      ]
     },
     "execution_count": 100,
     "metadata": {},
     "output_type": "execute_result"
    }
   ],
   "source": [
    "trump_data_relevant.loc[trump_data_relevant.pol_orient_true == \"right\"].shape[0]"
   ]
  },
  {
   "cell_type": "code",
   "execution_count": 89,
   "metadata": {},
   "outputs": [
    {
     "data": {
      "text/plain": [
       "0.5"
      ]
     },
     "execution_count": 89,
     "metadata": {},
     "output_type": "execute_result"
    }
   ],
   "source": [
    "trump_data_relevant[\"equal\"] = trump_data_relevant.pol_orient_pred == trump_data_relevant.pol_orient_true\n",
    "trump_data_relevant.equal.sum()/trump_data_relevant.shape[0]"
   ]
  },
  {
   "cell_type": "code",
   "execution_count": 90,
   "metadata": {},
   "outputs": [
    {
     "data": {
      "text/plain": [
       "96"
      ]
     },
     "execution_count": 90,
     "metadata": {},
     "output_type": "execute_result"
    }
   ],
   "source": [
    "trump_data_relevant.shape[0]"
   ]
  },
  {
   "cell_type": "code",
   "execution_count": 93,
   "metadata": {},
   "outputs": [
    {
     "data": {
      "text/plain": [
       "0.9111111111111111"
      ]
     },
     "execution_count": 93,
     "metadata": {},
     "output_type": "execute_result"
    }
   ],
   "source": [
    "trump_data_relevant.loc[trump_data_relevant.score > -0.2].equal.sum()/trump_data_relevant.loc[trump_data_relevant.score > -0.2].equal.size\n"
   ]
  },
  {
   "cell_type": "code",
   "execution_count": 94,
   "metadata": {},
   "outputs": [
    {
     "data": {
      "text/plain": [
       "0.13725490196078433"
      ]
     },
     "execution_count": 94,
     "metadata": {},
     "output_type": "execute_result"
    }
   ],
   "source": [
    "trump_data_relevant.loc[trump_data_relevant.score < -0.2].equal.sum()/trump_data_relevant.loc[trump_data_relevant.score < -0.2].equal.size\n"
   ]
  },
  {
   "cell_type": "code",
   "execution_count": null,
   "metadata": {},
   "outputs": [],
   "source": []
  }
 ],
 "metadata": {
  "kernelspec": {
   "display_name": "Python 3 (ipykernel)",
   "language": "python",
   "name": "python3"
  },
  "language_info": {
   "codemirror_mode": {
    "name": "ipython",
    "version": 3
   },
   "file_extension": ".py",
   "mimetype": "text/x-python",
   "name": "python",
   "nbconvert_exporter": "python",
   "pygments_lexer": "ipython3",
   "version": "3.9.12"
  },
  "vscode": {
   "interpreter": {
    "hash": "3e49b19f4795d8aa2b46258d081b41fb60f494b9e430959b1c60548bcfc5d77f"
   }
  }
 },
 "nbformat": 4,
 "nbformat_minor": 2
}
