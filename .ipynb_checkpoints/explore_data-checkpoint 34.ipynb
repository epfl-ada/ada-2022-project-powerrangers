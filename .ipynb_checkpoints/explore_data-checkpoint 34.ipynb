{
 "cells": [
  {
   "cell_type": "markdown",
   "metadata": {},
   "source": [
    "*1) Data Reduction:*"
   ]
  },
  {
   "cell_type": "code",
   "execution_count": 1,
   "metadata": {},
   "outputs": [],
   "source": [
    "#!pip install pyarrow\n",
    "import pandas as pd\n",
    "import matplotlib.pyplot as plt\n",
    "from tqdm import tqdm"
   ]
  },
  {
   "cell_type": "code",
   "execution_count": 3,
   "metadata": {},
   "outputs": [
    {
     "data": {
      "text/html": [
       "<div>\n",
       "<style scoped>\n",
       "    .dataframe tbody tr th:only-of-type {\n",
       "        vertical-align: middle;\n",
       "    }\n",
       "\n",
       "    .dataframe tbody tr th {\n",
       "        vertical-align: top;\n",
       "    }\n",
       "\n",
       "    .dataframe thead th {\n",
       "        text-align: right;\n",
       "    }\n",
       "</style>\n",
       "<table border=\"1\" class=\"dataframe\">\n",
       "  <thead>\n",
       "    <tr style=\"text-align: right;\">\n",
       "      <th></th>\n",
       "      <th>channel</th>\n",
       "      <th>category</th>\n",
       "      <th>datetime</th>\n",
       "      <th>views</th>\n",
       "      <th>delta_views</th>\n",
       "      <th>subs</th>\n",
       "      <th>delta_subs</th>\n",
       "      <th>videos</th>\n",
       "      <th>delta_videos</th>\n",
       "      <th>activity</th>\n",
       "    </tr>\n",
       "  </thead>\n",
       "  <tbody>\n",
       "    <tr>\n",
       "      <th>0</th>\n",
       "      <td>UCBJuEqXfXTdcPSbGO9qqn1g</td>\n",
       "      <td>Film and Animation</td>\n",
       "      <td>2017-07-03</td>\n",
       "      <td>2.024946e+05</td>\n",
       "      <td>0.000000</td>\n",
       "      <td>650.222222</td>\n",
       "      <td>0.000000</td>\n",
       "      <td>5</td>\n",
       "      <td>0</td>\n",
       "      <td>3</td>\n",
       "    </tr>\n",
       "    <tr>\n",
       "      <th>1</th>\n",
       "      <td>UCBJuEqXfXTdcPSbGO9qqn1g</td>\n",
       "      <td>Film and Animation</td>\n",
       "      <td>2017-07-10</td>\n",
       "      <td>3.940857e+05</td>\n",
       "      <td>191591.111111</td>\n",
       "      <td>1046.000000</td>\n",
       "      <td>395.777778</td>\n",
       "      <td>6</td>\n",
       "      <td>1</td>\n",
       "      <td>1</td>\n",
       "    </tr>\n",
       "    <tr>\n",
       "      <th>2</th>\n",
       "      <td>UCBJuEqXfXTdcPSbGO9qqn1g</td>\n",
       "      <td>Film and Animation</td>\n",
       "      <td>2017-07-17</td>\n",
       "      <td>8.353938e+05</td>\n",
       "      <td>441308.083333</td>\n",
       "      <td>1501.500000</td>\n",
       "      <td>455.500000</td>\n",
       "      <td>6</td>\n",
       "      <td>0</td>\n",
       "      <td>1</td>\n",
       "    </tr>\n",
       "    <tr>\n",
       "      <th>3</th>\n",
       "      <td>UCBJuEqXfXTdcPSbGO9qqn1g</td>\n",
       "      <td>Film and Animation</td>\n",
       "      <td>2017-07-24</td>\n",
       "      <td>1.104577e+06</td>\n",
       "      <td>269183.250000</td>\n",
       "      <td>1750.000000</td>\n",
       "      <td>248.500000</td>\n",
       "      <td>6</td>\n",
       "      <td>0</td>\n",
       "      <td>0</td>\n",
       "    </tr>\n",
       "    <tr>\n",
       "      <th>4</th>\n",
       "      <td>UCBJuEqXfXTdcPSbGO9qqn1g</td>\n",
       "      <td>Film and Animation</td>\n",
       "      <td>2017-07-31</td>\n",
       "      <td>1.284406e+06</td>\n",
       "      <td>179828.600000</td>\n",
       "      <td>2008.300000</td>\n",
       "      <td>258.300000</td>\n",
       "      <td>6</td>\n",
       "      <td>0</td>\n",
       "      <td>0</td>\n",
       "    </tr>\n",
       "  </tbody>\n",
       "</table>\n",
       "</div>"
      ],
      "text/plain": [
       "                    channel            category   datetime         views  \\\n",
       "0  UCBJuEqXfXTdcPSbGO9qqn1g  Film and Animation 2017-07-03  2.024946e+05   \n",
       "1  UCBJuEqXfXTdcPSbGO9qqn1g  Film and Animation 2017-07-10  3.940857e+05   \n",
       "2  UCBJuEqXfXTdcPSbGO9qqn1g  Film and Animation 2017-07-17  8.353938e+05   \n",
       "3  UCBJuEqXfXTdcPSbGO9qqn1g  Film and Animation 2017-07-24  1.104577e+06   \n",
       "4  UCBJuEqXfXTdcPSbGO9qqn1g  Film and Animation 2017-07-31  1.284406e+06   \n",
       "\n",
       "     delta_views         subs  delta_subs  videos  delta_videos  activity  \n",
       "0       0.000000   650.222222    0.000000       5             0         3  \n",
       "1  191591.111111  1046.000000  395.777778       6             1         1  \n",
       "2  441308.083333  1501.500000  455.500000       6             0         1  \n",
       "3  269183.250000  1750.000000  248.500000       6             0         0  \n",
       "4  179828.600000  2008.300000  258.300000       6             0         0  "
      ]
     },
     "execution_count": 3,
     "metadata": {},
     "output_type": "execute_result"
    }
   ],
   "source": [
    "df_sb_f = pd.read_csv(\"data/df_timeseries_en.tsv.gz\", compression=\"infer\", sep=\"\\t\")\n",
    "df_sb_f[\"datetime\"] = pd.to_datetime(df_sb_f[\"datetime\"])\n",
    "df_sb_f.head(5)\n"
   ]
  },
  {
   "cell_type": "code",
   "execution_count": 4,
   "metadata": {},
   "outputs": [
    {
     "name": "stdout",
     "output_type": "stream",
     "text": [
      "channel count in TimeSeries table: 133516\n"
     ]
    },
    {
     "data": {
      "text/plain": [
       "array(['Film and Animation', 'Music', 'Comedy', 'Gaming',\n",
       "       'Science & Technology', 'Sports', 'Entertainment', 'Education',\n",
       "       'Nonprofits & Activism', 'People & Blogs', 'Howto & Style',\n",
       "       'News & Politics', 'Travel & Events', 'Autos & Vehicles',\n",
       "       'Pets & Animals', nan], dtype=object)"
      ]
     },
     "execution_count": 4,
     "metadata": {},
     "output_type": "execute_result"
    }
   ],
   "source": [
    "print(\"channel count in TimeSeries table:\", df_sb_f['channel'].nunique())\n",
    "df_sb_f[\"category\"].unique()"
   ]
  },
  {
   "cell_type": "code",
   "execution_count": 5,
   "metadata": {},
   "outputs": [
    {
     "name": "stdout",
     "output_type": "stream",
     "text": [
      "channel count in TimeSeries table after filteration: 21163\n"
     ]
    }
   ],
   "source": [
    "df_sb_f = df_sb_f.loc[df_sb_f[\"category\"].isin(['Nonprofits & Activism', 'People & Blogs', 'News & Politics'])]\n",
    "print(\"channel count in TimeSeries table after filteration:\", df_sb_f['channel'].nunique())"
   ]
  },
  {
   "cell_type": "markdown",
   "metadata": {},
   "source": [
    "Now we save the reduced timeseries table"
   ]
  },
  {
   "cell_type": "code",
   "execution_count": 10,
   "metadata": {},
   "outputs": [],
   "source": [
    "df_sb_f.to_pickle(\"data/df_timeseries_reduced.tsv.gz\")"
   ]
  },
  {
   "cell_type": "code",
   "execution_count": 5,
   "metadata": {},
   "outputs": [],
   "source": [
    "#too big.. don't fit in memory\n",
    "#del df_sb_f\n",
    "#df_vd_f = pd.read_feather(\"data/yt_metadata_helper.feather\")\n",
    "#df_vd_f[\"dummmy\"] = 1\n",
    "#df_vd_f.head(5)\n"
   ]
  },
  {
   "cell_type": "code",
   "execution_count": 6,
   "metadata": {},
   "outputs": [
    {
     "data": {
      "text/html": [
       "<div>\n",
       "<style scoped>\n",
       "    .dataframe tbody tr th:only-of-type {\n",
       "        vertical-align: middle;\n",
       "    }\n",
       "\n",
       "    .dataframe tbody tr th {\n",
       "        vertical-align: top;\n",
       "    }\n",
       "\n",
       "    .dataframe thead th {\n",
       "        text-align: right;\n",
       "    }\n",
       "</style>\n",
       "<table border=\"1\" class=\"dataframe\">\n",
       "  <thead>\n",
       "    <tr style=\"text-align: right;\">\n",
       "      <th></th>\n",
       "      <th>category_cc</th>\n",
       "      <th>join_date</th>\n",
       "      <th>channel</th>\n",
       "      <th>name_cc</th>\n",
       "      <th>subscribers_cc</th>\n",
       "      <th>videos_cc</th>\n",
       "      <th>subscriber_rank_sb</th>\n",
       "      <th>weights</th>\n",
       "    </tr>\n",
       "  </thead>\n",
       "  <tbody>\n",
       "    <tr>\n",
       "      <th>0</th>\n",
       "      <td>Gaming</td>\n",
       "      <td>2010-04-29</td>\n",
       "      <td>UC-lHJZR3Gqxm24_Vd_AJ5Yw</td>\n",
       "      <td>PewDiePie</td>\n",
       "      <td>101000000</td>\n",
       "      <td>3956</td>\n",
       "      <td>3.0</td>\n",
       "      <td>2.087</td>\n",
       "    </tr>\n",
       "    <tr>\n",
       "      <th>1</th>\n",
       "      <td>Education</td>\n",
       "      <td>2006-09-01</td>\n",
       "      <td>UCbCmjCuTUZos6Inko4u57UQ</td>\n",
       "      <td>Cocomelon - Nursery ...</td>\n",
       "      <td>60100000</td>\n",
       "      <td>458</td>\n",
       "      <td>7.0</td>\n",
       "      <td>2.087</td>\n",
       "    </tr>\n",
       "    <tr>\n",
       "      <th>2</th>\n",
       "      <td>Entertainment</td>\n",
       "      <td>2006-09-20</td>\n",
       "      <td>UCpEhnqL0y41EpW2TvWAHD7Q</td>\n",
       "      <td>SET India</td>\n",
       "      <td>56018869</td>\n",
       "      <td>32661</td>\n",
       "      <td>8.0</td>\n",
       "      <td>2.087</td>\n",
       "    </tr>\n",
       "    <tr>\n",
       "      <th>3</th>\n",
       "      <td>Howto &amp; Style</td>\n",
       "      <td>2016-11-15</td>\n",
       "      <td>UC295-Dw_tDNtZXFeAPAW6Aw</td>\n",
       "      <td>5-Minute Crafts</td>\n",
       "      <td>60600000</td>\n",
       "      <td>3591</td>\n",
       "      <td>9.0</td>\n",
       "      <td>2.087</td>\n",
       "    </tr>\n",
       "    <tr>\n",
       "      <th>4</th>\n",
       "      <td>Sports</td>\n",
       "      <td>2007-05-11</td>\n",
       "      <td>UCJ5v_MCY6GNUBTO8-D3XoAg</td>\n",
       "      <td>WWE</td>\n",
       "      <td>48400000</td>\n",
       "      <td>43421</td>\n",
       "      <td>11.0</td>\n",
       "      <td>2.087</td>\n",
       "    </tr>\n",
       "  </tbody>\n",
       "</table>\n",
       "</div>"
      ],
      "text/plain": [
       "     category_cc  join_date                   channel  \\\n",
       "0         Gaming 2010-04-29  UC-lHJZR3Gqxm24_Vd_AJ5Yw   \n",
       "1      Education 2006-09-01  UCbCmjCuTUZos6Inko4u57UQ   \n",
       "2  Entertainment 2006-09-20  UCpEhnqL0y41EpW2TvWAHD7Q   \n",
       "3  Howto & Style 2016-11-15  UC295-Dw_tDNtZXFeAPAW6Aw   \n",
       "4         Sports 2007-05-11  UCJ5v_MCY6GNUBTO8-D3XoAg   \n",
       "\n",
       "                   name_cc  subscribers_cc  videos_cc  subscriber_rank_sb  \\\n",
       "0                PewDiePie       101000000       3956                 3.0   \n",
       "1  Cocomelon - Nursery ...        60100000        458                 7.0   \n",
       "2                SET India        56018869      32661                 8.0   \n",
       "3          5-Minute Crafts        60600000       3591                 9.0   \n",
       "4                      WWE        48400000      43421                11.0   \n",
       "\n",
       "   weights  \n",
       "0    2.087  \n",
       "1    2.087  \n",
       "2    2.087  \n",
       "3    2.087  \n",
       "4    2.087  "
      ]
     },
     "execution_count": 6,
     "metadata": {},
     "output_type": "execute_result"
    }
   ],
   "source": [
    "df_ch_f = pd.read_csv(\"data/df_channels_en.tsv.gz\", compression=\"infer\", sep=\"\\t\")\n",
    "df_ch_f[\"join_date\"] = pd.to_datetime(df_ch_f[\"join_date\"])\n",
    "df_ch_f.head(5)\n"
   ]
  },
  {
   "cell_type": "code",
   "execution_count": 7,
   "metadata": {},
   "outputs": [
    {
     "name": "stdout",
     "output_type": "stream",
     "text": [
      "channel count in TimeSeries table 136470\n"
     ]
    },
    {
     "data": {
      "text/plain": [
       "array(['Gaming', 'Education', 'Entertainment', 'Howto & Style', 'Sports',\n",
       "       'Music', 'Film and Animation', 'Comedy', 'Nonprofits & Activism',\n",
       "       'People & Blogs', 'News & Politics', 'Science & Technology',\n",
       "       'Pets & Animals', 'Autos & Vehicles', 'Travel & Events', nan],\n",
       "      dtype=object)"
      ]
     },
     "execution_count": 7,
     "metadata": {},
     "output_type": "execute_result"
    }
   ],
   "source": [
    "print(\"channel count in TimeSeries table\", df_ch_f['channel'].nunique())\n",
    "df_ch_f['category_cc'].unique()"
   ]
  },
  {
   "cell_type": "code",
   "execution_count": 8,
   "metadata": {},
   "outputs": [
    {
     "name": "stdout",
     "output_type": "stream",
     "text": [
      "channel count in TimeSeries table after filteration: 21645\n"
     ]
    }
   ],
   "source": [
    "df_ch_f = df_ch_f.loc[df_ch_f[\"category_cc\"].isin(['Nonprofits & Activism', 'People & Blogs', 'News & Politics'])]\n",
    "print(\"channel count in TimeSeries table after filteration:\", df_ch_f['channel'].nunique())"
   ]
  },
  {
   "cell_type": "code",
   "execution_count": 16,
   "metadata": {},
   "outputs": [],
   "source": [
    "df_ch_f.to_pickle(\"data/df_channels_reduced.tsv.gz\")"
   ]
  },
  {
   "cell_type": "code",
   "execution_count": 13,
   "metadata": {},
   "outputs": [
    {
     "name": "stderr",
     "output_type": "stream",
     "text": [
      "0it [00:02, ?it/s]"
     ]
    },
    {
     "name": "stdout",
     "output_type": "stream",
     "text": [
      "Index(['categories', 'channel_id', 'crawl_date', 'description',\n",
      "       'dislike_count', 'display_id', 'duration', 'like_count', 'tags',\n",
      "       'title', 'upload_date', 'view_count'],\n",
      "      dtype='object')\n",
      "videos count:  100000\n",
      "videos count after reduction:  0\n"
     ]
    },
    {
     "name": "stderr",
     "output_type": "stream",
     "text": [
      "\n"
     ]
    }
   ],
   "source": [
    "\n",
    "count = 0\n",
    "count_after = 0\n",
    "chunksize = 10 ** 5\n",
    "flag=False\n",
    "for chunk in tqdm(pd.read_json(\"data/yt_metadata_en.jsonl.gz\",lines=True, chunksize=chunksize)):\n",
    "    count += chunk['display_id'].nunique() \n",
    "    chunk = chunk.loc[chunk[\"categories\"].isin(['Nonprofits & Activism', 'People & Blogs', 'News & Politics'])]\n",
    "    chunk.drop(['crawl_date', 'categories'], axis=1)\n",
    "    print(chunk.columns)\n",
    "    break\n",
    "    if not flag:\n",
    "        flag=True\n",
    "        chunk.to_csv('data/yt_metadata_reduced.tsv.gz', index=False)\n",
    "    else:\n",
    "        chunk.to_csv('data/yt_metadata_reduced.tsv.gz', index=False, header=False, mode='a')\n",
    "    count_after += chunk['display_id'].nunique()\n",
    "\n",
    "print(\"videos count: \", count)\n",
    "print(\"videos count after reduction: \", count_after)\n"
   ]
  },
  {
   "cell_type": "markdown",
   "metadata": {},
   "source": [
    "*2) Data Exploration & Processing:*"
   ]
  },
  {
   "cell_type": "code",
   "execution_count": 35,
   "metadata": {},
   "outputs": [
    {
     "name": "stderr",
     "output_type": "stream",
     "text": [
      "0it [00:00, ?it/s]/home/ewais/anaconda3/envs/deca-env/lib/python3.7/site-packages/IPython/core/interactiveshell.py:3553: DtypeWarning: Columns (4,6,7,11) have mixed types.Specify dtype option on import or set low_memory=False.\n",
      "  exec(code_obj, self.user_global_ns, self.user_ns)\n",
      "5it [00:08,  1.85s/it]/home/ewais/anaconda3/envs/deca-env/lib/python3.7/site-packages/IPython/core/interactiveshell.py:3553: DtypeWarning: Columns (4,6,7) have mixed types.Specify dtype option on import or set low_memory=False.\n",
      "  exec(code_obj, self.user_global_ns, self.user_ns)\n",
      "49it [01:23,  1.85s/it]/home/ewais/anaconda3/envs/deca-env/lib/python3.7/site-packages/IPython/core/interactiveshell.py:3553: DtypeWarning: Columns (6) have mixed types.Specify dtype option on import or set low_memory=False.\n",
      "  exec(code_obj, self.user_global_ns, self.user_ns)\n",
      "166it [04:56,  1.78s/it]"
     ]
    },
    {
     "name": "stdout",
     "output_type": "stream",
     "text": [
      "349091\n"
     ]
    },
    {
     "name": "stderr",
     "output_type": "stream",
     "text": [
      "\n"
     ]
    }
   ],
   "source": [
    "\n",
    "\n",
    "columns = ['categories', 'channel_id', 'crawl_date', 'description',\n",
    "       'dislike_count', 'display_id', 'duration', 'like_count', 'tags',\n",
    "       'title', 'upload_date', 'view_count']\n",
    "trump_df = pd.DataFrame(columns=columns)\n",
    "for chunk in tqdm(pd.read_csv('data/yt_metadata_reduced.tsv.gz', chunksize=10**5, names=columns)):\n",
    "    trump_df = pd.concat([trump_df, chunk[chunk['description'].str.contains('trump', case=False, na=False)]])\n",
    "\n",
    "print(trump_df['display_id'].nunique())\n"
   ]
  },
  {
   "cell_type": "code",
   "execution_count": 17,
   "metadata": {},
   "outputs": [
    {
     "name": "stdout",
     "output_type": "stream",
     "text": [
      "Requirement already satisfied: tensorflow in /Users/joshuavoelkel/opt/anaconda3/lib/python3.9/site-packages (2.10.0)\n",
      "Requirement already satisfied: keras-preprocessing>=1.1.1 in /Users/joshuavoelkel/opt/anaconda3/lib/python3.9/site-packages (from tensorflow) (1.1.2)\n",
      "Requirement already satisfied: packaging in /Users/joshuavoelkel/opt/anaconda3/lib/python3.9/site-packages (from tensorflow) (21.3)\n",
      "Requirement already satisfied: h5py>=2.9.0 in /Users/joshuavoelkel/opt/anaconda3/lib/python3.9/site-packages (from tensorflow) (3.6.0)\n",
      "Requirement already satisfied: setuptools in /Users/joshuavoelkel/opt/anaconda3/lib/python3.9/site-packages (from tensorflow) (61.2.0)\n",
      "Requirement already satisfied: tensorboard<2.11,>=2.10 in /Users/joshuavoelkel/opt/anaconda3/lib/python3.9/site-packages (from tensorflow) (2.10.1)\n",
      "Requirement already satisfied: wrapt>=1.11.0 in /Users/joshuavoelkel/opt/anaconda3/lib/python3.9/site-packages (from tensorflow) (1.12.1)\n",
      "Requirement already satisfied: typing-extensions>=3.6.6 in /Users/joshuavoelkel/opt/anaconda3/lib/python3.9/site-packages (from tensorflow) (4.1.1)\n",
      "Requirement already satisfied: absl-py>=1.0.0 in /Users/joshuavoelkel/opt/anaconda3/lib/python3.9/site-packages (from tensorflow) (1.3.0)\n",
      "Requirement already satisfied: google-pasta>=0.1.1 in /Users/joshuavoelkel/opt/anaconda3/lib/python3.9/site-packages (from tensorflow) (0.2.0)\n",
      "Requirement already satisfied: opt-einsum>=2.3.2 in /Users/joshuavoelkel/opt/anaconda3/lib/python3.9/site-packages (from tensorflow) (3.3.0)\n",
      "Requirement already satisfied: tensorflow-io-gcs-filesystem>=0.23.1 in /Users/joshuavoelkel/opt/anaconda3/lib/python3.9/site-packages (from tensorflow) (0.27.0)\n",
      "Requirement already satisfied: grpcio<2.0,>=1.24.3 in /Users/joshuavoelkel/opt/anaconda3/lib/python3.9/site-packages (from tensorflow) (1.42.0)\n",
      "Requirement already satisfied: six>=1.12.0 in /Users/joshuavoelkel/opt/anaconda3/lib/python3.9/site-packages (from tensorflow) (1.16.0)\n",
      "Requirement already satisfied: flatbuffers>=2.0 in /Users/joshuavoelkel/opt/anaconda3/lib/python3.9/site-packages (from tensorflow) (22.10.26)\n",
      "Requirement already satisfied: keras<2.11,>=2.10.0 in /Users/joshuavoelkel/opt/anaconda3/lib/python3.9/site-packages (from tensorflow) (2.10.0)\n",
      "Requirement already satisfied: termcolor>=1.1.0 in /Users/joshuavoelkel/opt/anaconda3/lib/python3.9/site-packages (from tensorflow) (2.1.0)\n",
      "Requirement already satisfied: libclang>=13.0.0 in /Users/joshuavoelkel/opt/anaconda3/lib/python3.9/site-packages (from tensorflow) (14.0.6)\n",
      "Requirement already satisfied: tensorflow-estimator<2.11,>=2.10.0 in /Users/joshuavoelkel/opt/anaconda3/lib/python3.9/site-packages (from tensorflow) (2.10.0)\n",
      "Requirement already satisfied: numpy>=1.20 in /Users/joshuavoelkel/opt/anaconda3/lib/python3.9/site-packages (from tensorflow) (1.21.5)\n",
      "Requirement already satisfied: astunparse>=1.6.0 in /Users/joshuavoelkel/opt/anaconda3/lib/python3.9/site-packages (from tensorflow) (1.6.3)\n",
      "Requirement already satisfied: protobuf<3.20,>=3.9.2 in /Users/joshuavoelkel/opt/anaconda3/lib/python3.9/site-packages (from tensorflow) (3.19.1)\n",
      "Requirement already satisfied: gast<=0.4.0,>=0.2.1 in /Users/joshuavoelkel/opt/anaconda3/lib/python3.9/site-packages (from tensorflow) (0.4.0)\n",
      "Requirement already satisfied: wheel<1.0,>=0.23.0 in /Users/joshuavoelkel/opt/anaconda3/lib/python3.9/site-packages (from astunparse>=1.6.0->tensorflow) (0.37.1)\n",
      "Requirement already satisfied: werkzeug>=1.0.1 in /Users/joshuavoelkel/opt/anaconda3/lib/python3.9/site-packages (from tensorboard<2.11,>=2.10->tensorflow) (2.0.3)\n",
      "Requirement already satisfied: google-auth-oauthlib<0.5,>=0.4.1 in /Users/joshuavoelkel/opt/anaconda3/lib/python3.9/site-packages (from tensorboard<2.11,>=2.10->tensorflow) (0.4.6)\n",
      "Requirement already satisfied: requests<3,>=2.21.0 in /Users/joshuavoelkel/opt/anaconda3/lib/python3.9/site-packages (from tensorboard<2.11,>=2.10->tensorflow) (2.27.1)\n",
      "Requirement already satisfied: tensorboard-data-server<0.7.0,>=0.6.0 in /Users/joshuavoelkel/opt/anaconda3/lib/python3.9/site-packages (from tensorboard<2.11,>=2.10->tensorflow) (0.6.1)\n",
      "Requirement already satisfied: markdown>=2.6.8 in /Users/joshuavoelkel/opt/anaconda3/lib/python3.9/site-packages (from tensorboard<2.11,>=2.10->tensorflow) (3.3.4)\n",
      "Requirement already satisfied: google-auth<3,>=1.6.3 in /Users/joshuavoelkel/opt/anaconda3/lib/python3.9/site-packages (from tensorboard<2.11,>=2.10->tensorflow) (1.33.0)\n",
      "Requirement already satisfied: tensorboard-plugin-wit>=1.6.0 in /Users/joshuavoelkel/opt/anaconda3/lib/python3.9/site-packages (from tensorboard<2.11,>=2.10->tensorflow) (1.8.1)\n",
      "Requirement already satisfied: pyparsing!=3.0.5,>=2.0.2 in /Users/joshuavoelkel/opt/anaconda3/lib/python3.9/site-packages (from packaging->tensorflow) (3.0.4)\n",
      "Requirement already satisfied: pyasn1-modules>=0.2.1 in /Users/joshuavoelkel/opt/anaconda3/lib/python3.9/site-packages (from google-auth<3,>=1.6.3->tensorboard<2.11,>=2.10->tensorflow) (0.2.8)\n",
      "Requirement already satisfied: rsa<5,>=3.1.4 in /Users/joshuavoelkel/opt/anaconda3/lib/python3.9/site-packages (from google-auth<3,>=1.6.3->tensorboard<2.11,>=2.10->tensorflow) (4.7.2)\n",
      "Requirement already satisfied: cachetools<5.0,>=2.0.0 in /Users/joshuavoelkel/opt/anaconda3/lib/python3.9/site-packages (from google-auth<3,>=1.6.3->tensorboard<2.11,>=2.10->tensorflow) (4.2.2)\n",
      "Requirement already satisfied: requests-oauthlib>=0.7.0 in /Users/joshuavoelkel/opt/anaconda3/lib/python3.9/site-packages (from google-auth-oauthlib<0.5,>=0.4.1->tensorboard<2.11,>=2.10->tensorflow) (1.3.1)\n",
      "Requirement already satisfied: charset-normalizer~=2.0.0 in /Users/joshuavoelkel/opt/anaconda3/lib/python3.9/site-packages (from requests<3,>=2.21.0->tensorboard<2.11,>=2.10->tensorflow) (2.0.4)\n",
      "Requirement already satisfied: certifi>=2017.4.17 in /Users/joshuavoelkel/opt/anaconda3/lib/python3.9/site-packages (from requests<3,>=2.21.0->tensorboard<2.11,>=2.10->tensorflow) (2021.10.8)\n",
      "Requirement already satisfied: idna<4,>=2.5 in /Users/joshuavoelkel/opt/anaconda3/lib/python3.9/site-packages (from requests<3,>=2.21.0->tensorboard<2.11,>=2.10->tensorflow) (3.3)\n",
      "Requirement already satisfied: urllib3<1.27,>=1.21.1 in /Users/joshuavoelkel/opt/anaconda3/lib/python3.9/site-packages (from requests<3,>=2.21.0->tensorboard<2.11,>=2.10->tensorflow) (1.26.9)\n",
      "Requirement already satisfied: pyasn1<0.5.0,>=0.4.6 in /Users/joshuavoelkel/opt/anaconda3/lib/python3.9/site-packages (from pyasn1-modules>=0.2.1->google-auth<3,>=1.6.3->tensorboard<2.11,>=2.10->tensorflow) (0.4.8)\n",
      "Requirement already satisfied: oauthlib>=3.0.0 in /Users/joshuavoelkel/opt/anaconda3/lib/python3.9/site-packages (from requests-oauthlib>=0.7.0->google-auth-oauthlib<0.5,>=0.4.1->tensorboard<2.11,>=2.10->tensorflow) (3.2.2)\n"
     ]
    },
    {
     "ename": "RuntimeError",
     "evalue": "At least one of TensorFlow 2.0 or PyTorch should be installed. To install TensorFlow 2.0, read the instructions at https://www.tensorflow.org/install/ To install PyTorch, read the instructions at https://pytorch.org/.",
     "output_type": "error",
     "traceback": [
      "\u001b[0;31m---------------------------------------------------------------------------\u001b[0m",
      "\u001b[0;31mRuntimeError\u001b[0m                              Traceback (most recent call last)",
      "Input \u001b[0;32mIn [17]\u001b[0m, in \u001b[0;36m<cell line: 7>\u001b[0;34m()\u001b[0m\n\u001b[1;32m      4\u001b[0m \u001b[38;5;66;03m#!pip install -q transformers\u001b[39;00m\n\u001b[1;32m      5\u001b[0m \u001b[38;5;66;03m#!pip3 install emoji==0.6.0\u001b[39;00m\n\u001b[1;32m      6\u001b[0m \u001b[38;5;28;01mfrom\u001b[39;00m \u001b[38;5;21;01mtransformers\u001b[39;00m \u001b[38;5;28;01mimport\u001b[39;00m pipeline\n\u001b[0;32m----> 7\u001b[0m sentiment_pipeline \u001b[38;5;241m=\u001b[39m \u001b[43mpipeline\u001b[49m\u001b[43m(\u001b[49m\u001b[38;5;124;43m\"\u001b[39;49m\u001b[38;5;124;43msentiment-analysis\u001b[39;49m\u001b[38;5;124;43m\"\u001b[39;49m\u001b[43m,\u001b[49m\u001b[38;5;124;43m\"\u001b[39;49m\u001b[38;5;124;43mfiniteautomata/bertweet-base-sentiment-analysis\u001b[39;49m\u001b[38;5;124;43m\"\u001b[39;49m\u001b[43m,\u001b[49m\n\u001b[1;32m      8\u001b[0m \u001b[43m \u001b[49m\u001b[43mtruncation\u001b[49m\u001b[38;5;241;43m=\u001b[39;49m\u001b[38;5;28;43;01mTrue\u001b[39;49;00m\u001b[43m,\u001b[49m\n\u001b[1;32m      9\u001b[0m \u001b[43m   \u001b[49m\u001b[43mdevice\u001b[49m\u001b[38;5;241;43m=\u001b[39;49m\u001b[38;5;124;43m'\u001b[39;49m\u001b[38;5;124;43mcuda:0\u001b[39;49m\u001b[38;5;124;43m'\u001b[39;49m\u001b[43m,\u001b[49m\n\u001b[1;32m     10\u001b[0m \u001b[43m   \u001b[49m\u001b[43mbatch_size\u001b[49m\u001b[38;5;241;43m=\u001b[39;49m\u001b[38;5;241;43m64\u001b[39;49m\u001b[43m,\u001b[49m\n\u001b[1;32m     11\u001b[0m \u001b[43m   \u001b[49m\u001b[43mnum_workers\u001b[49m\u001b[38;5;241;43m=\u001b[39;49m\u001b[38;5;241;43m16\u001b[39;49m\u001b[43m)\u001b[49m\n\u001b[1;32m     12\u001b[0m \u001b[38;5;28;01mdef\u001b[39;00m \u001b[38;5;21msent_analysis\u001b[39m(desc):\n\u001b[1;32m     13\u001b[0m     \u001b[38;5;66;03m#print(desc)\u001b[39;00m\n\u001b[1;32m     14\u001b[0m     out \u001b[38;5;241m=\u001b[39m sentiment_pipeline(desc)\n",
      "File \u001b[0;32m~/opt/anaconda3/lib/python3.9/site-packages/transformers/pipelines/__init__.py:727\u001b[0m, in \u001b[0;36mpipeline\u001b[0;34m(task, model, config, tokenizer, feature_extractor, framework, revision, use_fast, use_auth_token, device, device_map, torch_dtype, trust_remote_code, model_kwargs, pipeline_class, **kwargs)\u001b[0m\n\u001b[1;32m    723\u001b[0m \u001b[38;5;66;03m# Infer the framework from the model\u001b[39;00m\n\u001b[1;32m    724\u001b[0m \u001b[38;5;66;03m# Forced if framework already defined, inferred if it's None\u001b[39;00m\n\u001b[1;32m    725\u001b[0m \u001b[38;5;66;03m# Will load the correct model if possible\u001b[39;00m\n\u001b[1;32m    726\u001b[0m model_classes \u001b[38;5;241m=\u001b[39m {\u001b[38;5;124m\"\u001b[39m\u001b[38;5;124mtf\u001b[39m\u001b[38;5;124m\"\u001b[39m: targeted_task[\u001b[38;5;124m\"\u001b[39m\u001b[38;5;124mtf\u001b[39m\u001b[38;5;124m\"\u001b[39m], \u001b[38;5;124m\"\u001b[39m\u001b[38;5;124mpt\u001b[39m\u001b[38;5;124m\"\u001b[39m: targeted_task[\u001b[38;5;124m\"\u001b[39m\u001b[38;5;124mpt\u001b[39m\u001b[38;5;124m\"\u001b[39m]}\n\u001b[0;32m--> 727\u001b[0m framework, model \u001b[38;5;241m=\u001b[39m \u001b[43minfer_framework_load_model\u001b[49m\u001b[43m(\u001b[49m\n\u001b[1;32m    728\u001b[0m \u001b[43m    \u001b[49m\u001b[43mmodel\u001b[49m\u001b[43m,\u001b[49m\n\u001b[1;32m    729\u001b[0m \u001b[43m    \u001b[49m\u001b[43mmodel_classes\u001b[49m\u001b[38;5;241;43m=\u001b[39;49m\u001b[43mmodel_classes\u001b[49m\u001b[43m,\u001b[49m\n\u001b[1;32m    730\u001b[0m \u001b[43m    \u001b[49m\u001b[43mconfig\u001b[49m\u001b[38;5;241;43m=\u001b[39;49m\u001b[43mconfig\u001b[49m\u001b[43m,\u001b[49m\n\u001b[1;32m    731\u001b[0m \u001b[43m    \u001b[49m\u001b[43mframework\u001b[49m\u001b[38;5;241;43m=\u001b[39;49m\u001b[43mframework\u001b[49m\u001b[43m,\u001b[49m\n\u001b[1;32m    732\u001b[0m \u001b[43m    \u001b[49m\u001b[43mtask\u001b[49m\u001b[38;5;241;43m=\u001b[39;49m\u001b[43mtask\u001b[49m\u001b[43m,\u001b[49m\n\u001b[1;32m    733\u001b[0m \u001b[43m    \u001b[49m\u001b[38;5;241;43m*\u001b[39;49m\u001b[38;5;241;43m*\u001b[39;49m\u001b[43mhub_kwargs\u001b[49m\u001b[43m,\u001b[49m\n\u001b[1;32m    734\u001b[0m \u001b[43m    \u001b[49m\u001b[38;5;241;43m*\u001b[39;49m\u001b[38;5;241;43m*\u001b[39;49m\u001b[43mmodel_kwargs\u001b[49m\u001b[43m,\u001b[49m\n\u001b[1;32m    735\u001b[0m \u001b[43m\u001b[49m\u001b[43m)\u001b[49m\n\u001b[1;32m    737\u001b[0m model_config \u001b[38;5;241m=\u001b[39m model\u001b[38;5;241m.\u001b[39mconfig\n\u001b[1;32m    738\u001b[0m hub_kwargs[\u001b[38;5;124m\"\u001b[39m\u001b[38;5;124m_commit_hash\u001b[39m\u001b[38;5;124m\"\u001b[39m] \u001b[38;5;241m=\u001b[39m model\u001b[38;5;241m.\u001b[39mconfig\u001b[38;5;241m.\u001b[39m_commit_hash\n",
      "File \u001b[0;32m~/opt/anaconda3/lib/python3.9/site-packages/transformers/pipelines/base.py:209\u001b[0m, in \u001b[0;36minfer_framework_load_model\u001b[0;34m(model, config, model_classes, task, framework, **model_kwargs)\u001b[0m\n\u001b[1;32m    183\u001b[0m \u001b[38;5;124;03m\"\"\"\u001b[39;00m\n\u001b[1;32m    184\u001b[0m \u001b[38;5;124;03mSelect framework (TensorFlow or PyTorch) to use from the `model` passed. Returns a tuple (framework, model).\u001b[39;00m\n\u001b[1;32m    185\u001b[0m \n\u001b[0;32m   (...)\u001b[0m\n\u001b[1;32m    206\u001b[0m \u001b[38;5;124;03m    `Tuple`: A tuple framework, model.\u001b[39;00m\n\u001b[1;32m    207\u001b[0m \u001b[38;5;124;03m\"\"\"\u001b[39;00m\n\u001b[1;32m    208\u001b[0m \u001b[38;5;28;01mif\u001b[39;00m \u001b[38;5;129;01mnot\u001b[39;00m is_tf_available() \u001b[38;5;129;01mand\u001b[39;00m \u001b[38;5;129;01mnot\u001b[39;00m is_torch_available():\n\u001b[0;32m--> 209\u001b[0m     \u001b[38;5;28;01mraise\u001b[39;00m \u001b[38;5;167;01mRuntimeError\u001b[39;00m(\n\u001b[1;32m    210\u001b[0m         \u001b[38;5;124m\"\u001b[39m\u001b[38;5;124mAt least one of TensorFlow 2.0 or PyTorch should be installed. \u001b[39m\u001b[38;5;124m\"\u001b[39m\n\u001b[1;32m    211\u001b[0m         \u001b[38;5;124m\"\u001b[39m\u001b[38;5;124mTo install TensorFlow 2.0, read the instructions at https://www.tensorflow.org/install/ \u001b[39m\u001b[38;5;124m\"\u001b[39m\n\u001b[1;32m    212\u001b[0m         \u001b[38;5;124m\"\u001b[39m\u001b[38;5;124mTo install PyTorch, read the instructions at https://pytorch.org/.\u001b[39m\u001b[38;5;124m\"\u001b[39m\n\u001b[1;32m    213\u001b[0m     )\n\u001b[1;32m    214\u001b[0m \u001b[38;5;28;01mif\u001b[39;00m \u001b[38;5;28misinstance\u001b[39m(model, \u001b[38;5;28mstr\u001b[39m):\n\u001b[1;32m    215\u001b[0m     model_kwargs[\u001b[38;5;124m\"\u001b[39m\u001b[38;5;124m_from_pipeline\u001b[39m\u001b[38;5;124m\"\u001b[39m] \u001b[38;5;241m=\u001b[39m task\n",
      "\u001b[0;31mRuntimeError\u001b[0m: At least one of TensorFlow 2.0 or PyTorch should be installed. To install TensorFlow 2.0, read the instructions at https://www.tensorflow.org/install/ To install PyTorch, read the instructions at https://pytorch.org/."
     ]
    }
   ],
   "source": [
    "#!pip3 install torch\n",
    "#!pip install --upgrade pip\n",
    "#!pip3 install tensorflow\n",
    "#!pip install -q transformers\n",
    "#!pip3 install emoji==0.6.0\n",
    "from transformers import pipeline\n",
    "sentiment_pipeline = pipeline(\"sentiment-analysis\",\"finiteautomata/bertweet-base-sentiment-analysis\",\n",
    " truncation=True,\n",
    "   device='cuda:0',\n",
    "   batch_size=64,\n",
    "   num_workers=16)\n",
    "def sent_analysis(desc):\n",
    "    #print(desc)\n",
    "    out = sentiment_pipeline(desc)\n",
    "    return out\n",
    "\n",
    "print(sent_analysis('Trump is amazing!'))\n",
    "print(sent_analysis('Trump is a nightmare for the country!'))\n",
    "print(sent_analysis('Trump visits china for the first time, we will see how that goes!'))\n",
    "print(sent_analysis('Order your Trump 2020 shirts here:'))"
   ]
  },
  {
   "cell_type": "code",
   "execution_count": 38,
   "metadata": {},
   "outputs": [
    {
     "name": "stdout",
     "output_type": "stream",
     "text": [
      "349594\n"
     ]
    }
   ],
   "source": [
    "\n",
    "out = sent_analysis(trump_df['description'].to_list())\n",
    "print(len(out))\n",
    "temp = pd.DataFrame.from_dict(out)\n"
   ]
  },
  {
   "cell_type": "code",
   "execution_count": 41,
   "metadata": {},
   "outputs": [],
   "source": [
    "temp.to_pickle('./data/trump_sent.tsv.gz')\n",
    "trump_df.to_pickle('./data/trump_data.tsv.gz')"
   ]
  },
  {
   "cell_type": "code",
   "execution_count": 56,
   "metadata": {},
   "outputs": [
    {
     "name": "stdout",
     "output_type": "stream",
     "text": [
      "349594\n",
      "349594\n"
     ]
    }
   ],
   "source": [
    "print(len(temp['score']))\n",
    "\n",
    "trump_df = pd.read_pickle('./data/trump_data.tsv.gz')\n",
    "print(len(trump_df))\n",
    "trump_df = trump_df.set_index(temp.index)\n",
    "trump_df = trump_df.join(temp['label'])\n",
    "trump_df = trump_df.join(temp['score'])\n"
   ]
  },
  {
   "cell_type": "code",
   "execution_count": 57,
   "metadata": {},
   "outputs": [
    {
     "name": "stdout",
     "output_type": "stream",
     "text": [
      "channel_id\n",
      "UC-1Hd_LdAj766JDS_ILKEig   -0.330190\n",
      "UC-1PkmLrFt6apyXAnB0LbNw    0.965999\n",
      "UC-2JUs_G21BrJ0efehwGkUw    0.155782\n",
      "UC-2MJlKSq9_pYk5-bdvMhnw   -0.283323\n",
      "UC-2WWk_2TkYzYM2dW8UCcXQ    0.649750\n",
      "Name: score, dtype: float64\n"
     ]
    }
   ],
   "source": [
    "\n",
    "# trump_df = trump_df.loc[trump_df['label']!= 'NEU']\n",
    "\n",
    "# trump_df = trump_df.drop(['sentiment', 'categories', 'crawl_date'], axis=1)\n",
    "\n",
    "trump_df['label'] = trump_df['label'].map({'POS': 1.,'NEU':0., 'NEG': -1.})\n",
    "#print((trump_df['sentiment']*trump_df['score']).head(5))\n",
    "trump_df['score'] = trump_df['label']*trump_df['score']\n",
    "\n",
    "#trump_df = trump_df[['channel_id', 'agg']]\n",
    "# print(trump_df)\n",
    "tmp = trump_df.groupby(['channel_id'])['score'].mean()\n",
    "print(tmp.head(5))\n",
    "# print(x[:10])\n",
    "\n"
   ]
  },
  {
   "cell_type": "code",
   "execution_count": 58,
   "metadata": {},
   "outputs": [
    {
     "data": {
      "image/png": "[encoded data removed]",
      "text/plain": [
       "<Figure size 432x288 with 1 Axes>"
      ]
     },
     "metadata": {
      "needs_background": "light"
     },
     "output_type": "display_data"
    }
   ],
   "source": [
    "import matplotlib.pyplot as plt\n",
    "plt.hist(tmp.to_list())\n",
    "plt.xlabel('Trump Score')\n",
    "plt.ylabel('No. of channels')\n",
    "plt.title('distribution of channels that support trump')\n",
    "plt.show()"
   ]
  }
 ],
 "metadata": {
  "kernelspec": {
   "display_name": "Python 3 (ipykernel)",
   "language": "python",
   "name": "python3"
  },
  "language_info": {
   "codemirror_mode": {
    "name": "ipython",
    "version": 3
   },
   "file_extension": ".py",
   "mimetype": "text/x-python",
   "name": "python",
   "nbconvert_exporter": "python",
   "pygments_lexer": "ipython3",
   "version": "3.9.12"
  },
  "vscode": {
   "interpreter": {
    "hash": "3e49b19f4795d8aa2b46258d081b41fb60f494b9e430959b1c60548bcfc5d77f"
   }
  }
 },
 "nbformat": 4,
 "nbformat_minor": 2
}
