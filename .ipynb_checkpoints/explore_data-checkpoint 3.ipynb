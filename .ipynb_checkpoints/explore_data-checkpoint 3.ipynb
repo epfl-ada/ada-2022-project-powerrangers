{
 "cells": [
  {
   "cell_type": "markdown",
   "metadata": {},
   "source": [
    "*1) Data Reduction:*"
   ]
  },
  {
   "cell_type": "code",
   "execution_count": 1,
   "metadata": {},
   "outputs": [],
   "source": [
    "#!pip install pyarrow\n",
    "import pandas as pd\n",
    "import matplotlib.pyplot as plt\n",
    "\n",
    "data_dir = \"/Users/joshuavoelkel/Documents/Uni/Master/EPFL/3_Semester/ADA/Project/data\""
   ]
  },
  {
   "cell_type": "code",
   "execution_count": 3,
   "metadata": {},
   "outputs": [
    {
     "data": {
      "text/html": [
       "<div>\n",
       "<style scoped>\n",
       "    .dataframe tbody tr th:only-of-type {\n",
       "        vertical-align: middle;\n",
       "    }\n",
       "\n",
       "    .dataframe tbody tr th {\n",
       "        vertical-align: top;\n",
       "    }\n",
       "\n",
       "    .dataframe thead th {\n",
       "        text-align: right;\n",
       "    }\n",
       "</style>\n",
       "<table border=\"1\" class=\"dataframe\">\n",
       "  <thead>\n",
       "    <tr style=\"text-align: right;\">\n",
       "      <th></th>\n",
       "      <th>channel</th>\n",
       "      <th>category</th>\n",
       "      <th>datetime</th>\n",
       "      <th>views</th>\n",
       "      <th>delta_views</th>\n",
       "      <th>subs</th>\n",
       "      <th>delta_subs</th>\n",
       "      <th>videos</th>\n",
       "      <th>delta_videos</th>\n",
       "      <th>activity</th>\n",
       "    </tr>\n",
       "  </thead>\n",
       "  <tbody>\n",
       "    <tr>\n",
       "      <th>0</th>\n",
       "      <td>UCBJuEqXfXTdcPSbGO9qqn1g</td>\n",
       "      <td>Film and Animation</td>\n",
       "      <td>2017-07-03</td>\n",
       "      <td>2.024946e+05</td>\n",
       "      <td>0.000000</td>\n",
       "      <td>650.222222</td>\n",
       "      <td>0.000000</td>\n",
       "      <td>5</td>\n",
       "      <td>0</td>\n",
       "      <td>3</td>\n",
       "    </tr>\n",
       "    <tr>\n",
       "      <th>1</th>\n",
       "      <td>UCBJuEqXfXTdcPSbGO9qqn1g</td>\n",
       "      <td>Film and Animation</td>\n",
       "      <td>2017-07-10</td>\n",
       "      <td>3.940857e+05</td>\n",
       "      <td>191591.111111</td>\n",
       "      <td>1046.000000</td>\n",
       "      <td>395.777778</td>\n",
       "      <td>6</td>\n",
       "      <td>1</td>\n",
       "      <td>1</td>\n",
       "    </tr>\n",
       "    <tr>\n",
       "      <th>2</th>\n",
       "      <td>UCBJuEqXfXTdcPSbGO9qqn1g</td>\n",
       "      <td>Film and Animation</td>\n",
       "      <td>2017-07-17</td>\n",
       "      <td>8.353938e+05</td>\n",
       "      <td>441308.083333</td>\n",
       "      <td>1501.500000</td>\n",
       "      <td>455.500000</td>\n",
       "      <td>6</td>\n",
       "      <td>0</td>\n",
       "      <td>1</td>\n",
       "    </tr>\n",
       "    <tr>\n",
       "      <th>3</th>\n",
       "      <td>UCBJuEqXfXTdcPSbGO9qqn1g</td>\n",
       "      <td>Film and Animation</td>\n",
       "      <td>2017-07-24</td>\n",
       "      <td>1.104577e+06</td>\n",
       "      <td>269183.250000</td>\n",
       "      <td>1750.000000</td>\n",
       "      <td>248.500000</td>\n",
       "      <td>6</td>\n",
       "      <td>0</td>\n",
       "      <td>0</td>\n",
       "    </tr>\n",
       "    <tr>\n",
       "      <th>4</th>\n",
       "      <td>UCBJuEqXfXTdcPSbGO9qqn1g</td>\n",
       "      <td>Film and Animation</td>\n",
       "      <td>2017-07-31</td>\n",
       "      <td>1.284406e+06</td>\n",
       "      <td>179828.600000</td>\n",
       "      <td>2008.300000</td>\n",
       "      <td>258.300000</td>\n",
       "      <td>6</td>\n",
       "      <td>0</td>\n",
       "      <td>0</td>\n",
       "    </tr>\n",
       "  </tbody>\n",
       "</table>\n",
       "</div>"
      ],
      "text/plain": [
       "                    channel            category   datetime         views  \\\n",
       "0  UCBJuEqXfXTdcPSbGO9qqn1g  Film and Animation 2017-07-03  2.024946e+05   \n",
       "1  UCBJuEqXfXTdcPSbGO9qqn1g  Film and Animation 2017-07-10  3.940857e+05   \n",
       "2  UCBJuEqXfXTdcPSbGO9qqn1g  Film and Animation 2017-07-17  8.353938e+05   \n",
       "3  UCBJuEqXfXTdcPSbGO9qqn1g  Film and Animation 2017-07-24  1.104577e+06   \n",
       "4  UCBJuEqXfXTdcPSbGO9qqn1g  Film and Animation 2017-07-31  1.284406e+06   \n",
       "\n",
       "     delta_views         subs  delta_subs  videos  delta_videos  activity  \n",
       "0       0.000000   650.222222    0.000000       5             0         3  \n",
       "1  191591.111111  1046.000000  395.777778       6             1         1  \n",
       "2  441308.083333  1501.500000  455.500000       6             0         1  \n",
       "3  269183.250000  1750.000000  248.500000       6             0         0  \n",
       "4  179828.600000  2008.300000  258.300000       6             0         0  "
      ]
     },
     "execution_count": 3,
     "metadata": {},
     "output_type": "execute_result"
    }
   ],
   "source": [
    "df_sb_f = pd.read_csv(data_dir + \"/df_timeseries_en.tsv.gz\", compression=\"infer\", sep=\"\\t\")\n",
    "df_sb_f[\"datetime\"] = pd.to_datetime(df_sb_f[\"datetime\"])\n",
    "df_sb_f.head(5)\n"
   ]
  },
  {
   "cell_type": "code",
   "execution_count": 4,
   "metadata": {},
   "outputs": [
    {
     "name": "stdout",
     "output_type": "stream",
     "text": [
      "channel count in TimeSeries table: 133516\n"
     ]
    },
    {
     "data": {
      "text/plain": [
       "array(['Film and Animation', 'Music', 'Comedy', 'Gaming',\n",
       "       'Science & Technology', 'Sports', 'Entertainment', 'Education',\n",
       "       'Nonprofits & Activism', 'People & Blogs', 'Howto & Style',\n",
       "       'News & Politics', 'Travel & Events', 'Autos & Vehicles',\n",
       "       'Pets & Animals', nan], dtype=object)"
      ]
     },
     "execution_count": 4,
     "metadata": {},
     "output_type": "execute_result"
    }
   ],
   "source": [
    "print(\"channel count in TimeSeries table:\", df_sb_f['channel'].nunique())\n",
    "df_sb_f[\"category\"].unique()"
   ]
  },
  {
   "cell_type": "code",
   "execution_count": 5,
   "metadata": {},
   "outputs": [
    {
     "name": "stdout",
     "output_type": "stream",
     "text": [
      "channel count in TimeSeries table after filteration: 21163\n"
     ]
    }
   ],
   "source": [
    "df_sb_f = df_sb_f.loc[df_sb_f[\"category\"].isin(['Nonprofits & Activism', 'People & Blogs', 'News & Politics'])]\n",
    "print(\"channel count in TimeSeries table after filteration:\", df_sb_f['channel'].nunique())"
   ]
  },
  {
   "cell_type": "markdown",
   "metadata": {},
   "source": [
    "Now we save the reduced timeseries table"
   ]
  },
  {
   "cell_type": "code",
   "execution_count": 6,
   "metadata": {},
   "outputs": [],
   "source": [
    "#save data:\n",
    "#df_sb_f.to_pickle(data_dir + \"/df_timeseries_reduced.tsv.gz\")"
   ]
  },
  {
   "cell_type": "code",
   "execution_count": 7,
   "metadata": {},
   "outputs": [],
   "source": [
    "#too big.. don't fit in memory\n",
    "#del df_sb_f\n",
    "#df_vd_f = pd.read_feather(\"data/yt_metadata_helper.feather\")\n",
    "#df_vd_f[\"dummmy\"] = 1\n",
    "#df_vd_f.head(5)\n"
   ]
  },
  {
   "cell_type": "code",
   "execution_count": 8,
   "metadata": {},
   "outputs": [
    {
     "data": {
      "text/html": [
       "<div>\n",
       "<style scoped>\n",
       "    .dataframe tbody tr th:only-of-type {\n",
       "        vertical-align: middle;\n",
       "    }\n",
       "\n",
       "    .dataframe tbody tr th {\n",
       "        vertical-align: top;\n",
       "    }\n",
       "\n",
       "    .dataframe thead th {\n",
       "        text-align: right;\n",
       "    }\n",
       "</style>\n",
       "<table border=\"1\" class=\"dataframe\">\n",
       "  <thead>\n",
       "    <tr style=\"text-align: right;\">\n",
       "      <th></th>\n",
       "      <th>category_cc</th>\n",
       "      <th>join_date</th>\n",
       "      <th>channel</th>\n",
       "      <th>name_cc</th>\n",
       "      <th>subscribers_cc</th>\n",
       "      <th>videos_cc</th>\n",
       "      <th>subscriber_rank_sb</th>\n",
       "      <th>weights</th>\n",
       "    </tr>\n",
       "  </thead>\n",
       "  <tbody>\n",
       "    <tr>\n",
       "      <th>0</th>\n",
       "      <td>Gaming</td>\n",
       "      <td>2010-04-29</td>\n",
       "      <td>UC-lHJZR3Gqxm24_Vd_AJ5Yw</td>\n",
       "      <td>PewDiePie</td>\n",
       "      <td>101000000</td>\n",
       "      <td>3956</td>\n",
       "      <td>3.0</td>\n",
       "      <td>2.087</td>\n",
       "    </tr>\n",
       "    <tr>\n",
       "      <th>1</th>\n",
       "      <td>Education</td>\n",
       "      <td>2006-09-01</td>\n",
       "      <td>UCbCmjCuTUZos6Inko4u57UQ</td>\n",
       "      <td>Cocomelon - Nursery ...</td>\n",
       "      <td>60100000</td>\n",
       "      <td>458</td>\n",
       "      <td>7.0</td>\n",
       "      <td>2.087</td>\n",
       "    </tr>\n",
       "    <tr>\n",
       "      <th>2</th>\n",
       "      <td>Entertainment</td>\n",
       "      <td>2006-09-20</td>\n",
       "      <td>UCpEhnqL0y41EpW2TvWAHD7Q</td>\n",
       "      <td>SET India</td>\n",
       "      <td>56018869</td>\n",
       "      <td>32661</td>\n",
       "      <td>8.0</td>\n",
       "      <td>2.087</td>\n",
       "    </tr>\n",
       "    <tr>\n",
       "      <th>3</th>\n",
       "      <td>Howto &amp; Style</td>\n",
       "      <td>2016-11-15</td>\n",
       "      <td>UC295-Dw_tDNtZXFeAPAW6Aw</td>\n",
       "      <td>5-Minute Crafts</td>\n",
       "      <td>60600000</td>\n",
       "      <td>3591</td>\n",
       "      <td>9.0</td>\n",
       "      <td>2.087</td>\n",
       "    </tr>\n",
       "    <tr>\n",
       "      <th>4</th>\n",
       "      <td>Sports</td>\n",
       "      <td>2007-05-11</td>\n",
       "      <td>UCJ5v_MCY6GNUBTO8-D3XoAg</td>\n",
       "      <td>WWE</td>\n",
       "      <td>48400000</td>\n",
       "      <td>43421</td>\n",
       "      <td>11.0</td>\n",
       "      <td>2.087</td>\n",
       "    </tr>\n",
       "  </tbody>\n",
       "</table>\n",
       "</div>"
      ],
      "text/plain": [
       "     category_cc  join_date                   channel  \\\n",
       "0         Gaming 2010-04-29  UC-lHJZR3Gqxm24_Vd_AJ5Yw   \n",
       "1      Education 2006-09-01  UCbCmjCuTUZos6Inko4u57UQ   \n",
       "2  Entertainment 2006-09-20  UCpEhnqL0y41EpW2TvWAHD7Q   \n",
       "3  Howto & Style 2016-11-15  UC295-Dw_tDNtZXFeAPAW6Aw   \n",
       "4         Sports 2007-05-11  UCJ5v_MCY6GNUBTO8-D3XoAg   \n",
       "\n",
       "                   name_cc  subscribers_cc  videos_cc  subscriber_rank_sb  \\\n",
       "0                PewDiePie       101000000       3956                 3.0   \n",
       "1  Cocomelon - Nursery ...        60100000        458                 7.0   \n",
       "2                SET India        56018869      32661                 8.0   \n",
       "3          5-Minute Crafts        60600000       3591                 9.0   \n",
       "4                      WWE        48400000      43421                11.0   \n",
       "\n",
       "   weights  \n",
       "0    2.087  \n",
       "1    2.087  \n",
       "2    2.087  \n",
       "3    2.087  \n",
       "4    2.087  "
      ]
     },
     "execution_count": 8,
     "metadata": {},
     "output_type": "execute_result"
    }
   ],
   "source": [
    "df_ch_f = pd.read_csv(data_dir + \"/df_channels_en.tsv.gz\", compression=\"infer\", sep=\"\\t\")\n",
    "df_ch_f[\"join_date\"] = pd.to_datetime(df_ch_f[\"join_date\"])\n",
    "df_ch_f.head(5)\n"
   ]
  },
  {
   "cell_type": "code",
   "execution_count": 9,
   "metadata": {},
   "outputs": [
    {
     "name": "stdout",
     "output_type": "stream",
     "text": [
      "channel count in TimeSeries table 136470\n"
     ]
    },
    {
     "data": {
      "text/plain": [
       "array(['Gaming', 'Education', 'Entertainment', 'Howto & Style', 'Sports',\n",
       "       'Music', 'Film and Animation', 'Comedy', 'Nonprofits & Activism',\n",
       "       'People & Blogs', 'News & Politics', 'Science & Technology',\n",
       "       'Pets & Animals', 'Autos & Vehicles', 'Travel & Events', nan],\n",
       "      dtype=object)"
      ]
     },
     "execution_count": 9,
     "metadata": {},
     "output_type": "execute_result"
    }
   ],
   "source": [
    "print(\"channel count in TimeSeries table\", df_ch_f['channel'].nunique())\n",
    "df_ch_f['category_cc'].unique()"
   ]
  },
  {
   "cell_type": "code",
   "execution_count": 10,
   "metadata": {},
   "outputs": [
    {
     "name": "stdout",
     "output_type": "stream",
     "text": [
      "channel count in TimeSeries table after filteration: 21645\n"
     ]
    }
   ],
   "source": [
    "df_ch_f = df_ch_f.loc[df_ch_f[\"category_cc\"].isin(['Nonprofits & Activism', 'People & Blogs', 'News & Politics'])]\n",
    "print(\"channel count in TimeSeries table after filteration:\", df_ch_f['channel'].nunique())"
   ]
  },
  {
   "cell_type": "code",
   "execution_count": 16,
   "metadata": {},
   "outputs": [],
   "source": [
    "#save data:\n",
    "#df_ch_f.to_pickle(data_dir + \"/df_channels_reduced.tsv.gz\")"
   ]
  },
  {
   "cell_type": "code",
   "execution_count": null,
   "metadata": {},
   "outputs": [],
   "source": [
    "from tqdm import tqdm\n",
    "count = 0\n",
    "count_after = 0\n",
    "chunksize = 10 ** 5\n",
    "flag=False\n",
    "for chunk in tqdm(pd.read_json(data_dir + \"/yt_metadata_en.jsonl.gz\",lines=True, chunksize=chunksize)):\n",
    "    count += chunk['display_id'].nunique() \n",
    "    chunk = chunk.loc[chunk[\"categories\"].isin(['Nonprofits & Activism', 'People & Blogs', 'News & Politics'])]\n",
    "    chunk.drop(['crawl_date', 'categories'], axis=1)\n",
    "    if not flag:\n",
    "        flag=True\n",
    "        chunk.to_csv(data_dir + '/yt_metadata_reduced.tsv.gz')\n",
    "    else:\n",
    "        chunk.to_csv(data_dir + '/yt_metadata_reduced.tsv.gz', mode='a', index=False, header=False)\n",
    "    count_after += chunk['display_id'].nunique()\n",
    "\n",
    "print(\"videos count: \", count)\n",
    "print(\"videos count after reduction: \", count_after)\n"
   ]
  },
  {
   "cell_type": "markdown",
   "metadata": {},
   "source": [
    "*2) Data Exploration & Processing:*"
   ]
  },
  {
   "cell_type": "code",
   "execution_count": null,
   "metadata": {},
   "outputs": [],
   "source": []
  },
  {
   "cell_type": "code",
   "execution_count": 12,
   "metadata": {},
   "outputs": [
    {
     "data": {
      "text/plain": [
       "array(['Alt-lite', 'Alt-right', 'Incel', 'Intellectual Dark Web', 'NONE',\n",
       "       'MGTOW', 'MRA', 'PUA', 'PUA ', 'center', 'left', 'left-center',\n",
       "       'right-center', 'right'], dtype=object)"
      ]
     },
     "execution_count": 12,
     "metadata": {},
     "output_type": "execute_result"
    }
   ],
   "source": [
    "#load classified channels\n",
    "test_channels = pd.read_csv(data_dir + \"/test_set_channels.csv\")\n",
    "\n",
    "#print all different political categorizations\n",
    "test_channels.Category.unique()"
   ]
  },
  {
   "cell_type": "code",
   "execution_count": 13,
   "metadata": {},
   "outputs": [],
   "source": [
    "#categorize each of the channels (created a respective column \"pol_orient\")\n",
    "\n",
    "right = [\"Alt-lite\", \"Alt-right\", \"Incel\", \"MGTOW\", \"MRA\", \"right\"]\n",
    "left  = [\"left\"]\n",
    "center = [\"center\", \"right-center\", \"left-center\"]\n",
    "extreme = [\"Intellectual Dark Web\"]\n",
    "unknown = [\"PUA\", \"PUA \"]\n",
    "\n",
    "#TODO: still to clasify PUA \n",
    "#TODO: what do we do with \"Intellectual Dark Web\" --> has both left extrem and right extreme supporters\n",
    "\n",
    "def pol_orientation(x):\n",
    "    if x in right: \n",
    "        return \"right\"\n",
    "    elif x in left:\n",
    "        return \"left\"\n",
    "    elif x in center:\n",
    "        return \"center\"\n",
    "    else:\n",
    "        return 0\n",
    "        \n",
    "        \n",
    "test_channels[\"pol_orient\"] = test_channels.Category.apply(pol_orientation)"
   ]
  },
  {
   "cell_type": "code",
   "execution_count": 14,
   "metadata": {},
   "outputs": [
    {
     "data": {
      "text/plain": [
       "array(['UCfDdlNLRVb1h3_7Xh-WhL3w', 'UCso6oQ3qy7z61Fr8b0WNBMw',\n",
       "       'UCplXdu0g94UynzYCmO2zOjw', 'UCl3RCEtooHD5bhPCHJw3btA',\n",
       "       'UCbukZErY9SjdGTHabMzY7qg', 'UC7tlcXIInkPG5aCkWB9lZOQ',\n",
       "       'UCSFVD7Xfhn7sJY8LAIQmH8Q', 'UCtLAZi2CZmDgwgQ51XpqcDQ',\n",
       "       'UCIibK0GTXCaQCAamJAepm1g', 'UCzzLIhDbFYU46T4VFBz_m_g',\n",
       "       'UCWOkEnBl5TO4SCLfSlosjgg', 'UCDhuG96y6kUT7tcFgHGj1Ug',\n",
       "       'UCzIjg5vIfBGcdyLWu6lhXxw', 'UCC3L8QaxqEGUiBC252GHy3w',\n",
       "       'UC88rnCuWgaW5KX1zIKr3SUQ', 'UCx_SEanFxmYdkylVM1v3RDg',\n",
       "       'UCzUV5283-l5c0oKRtyenj6Q', 'UCDuIxfEt_VoI1yfARYmfCGA',\n",
       "       'UCm5CkXzGXb-A2XX0nuTctMQ', 'UCBVYmXSIzHq_gXMZpsfd9kg',\n",
       "       'UC6wdP5hTf_phre6Q3kFiV2g', 'UCcrgJyI1bSysVE92HPpNNiw',\n",
       "       'UCgkZARt0VNW7WKS5DOg8sDA', 'UCq44SkRjuB4EOO-1pfOJzzA',\n",
       "       'UC7Ql1bhBYk8LVMpZfkRZJGQ', 'UCZO5CoTyLqv72wGluKwBzrA',\n",
       "       'UCEYmda1KQTjrhLBeWutKuGA', 'UCla6APLHX6W3FeNLc8PYuvg',\n",
       "       'UCGy6uV7yqGWDeUWTZzT3ZEg', 'UCOwtpxZT8kXYfoj0W4XBrjw',\n",
       "       'UCOZN0I173I_3aIDrPw0Irmw', 'UCLUrVTVTA3PnUFpYvpfMcpg',\n",
       "       'UCZNk7Jjb2t8EuBdgn4Zj1cw', 'UCGQHgCgSdUtcWufqzBHDzhA',\n",
       "       'UCsWnDtLWKEMJHKYCc9647yQ', 'UCT9D87j5W7PtE7NHOR5DUOQ',\n",
       "       'UC2h3yPmh9TfQv2z3aTDTHHA', 'UCsJ86N5n7fcEC_Ds8dYJKzA',\n",
       "       'UCrVft1rhiJqIt7USDCwQ9Mg', 'UCittVh8imKanO_5KohzDbpg',\n",
       "       'UC8RJExf7iNpV6tp6hvNtwww', 'UCpbyOgUSjTSPpvVUAT2OyHw',\n",
       "       'UC0aVoboXBUx2-tVIWHc3W2Q', 'UC87YBeLMwXhgaw5tcCxsXgQ',\n",
       "       'UCPGxwlhPEJE89bT4gB6rzhg', 'UCesrUK_dMDBZAf7cnjQPdgQ',\n",
       "       'UC659f8KdxrINaB3Ta7TEZzg', 'UC6EyGxVgmTGt27_U9c_oz9g',\n",
       "       'UClJ8Z0YvEm-ClFj3fdQgQkw', 'UCGwD6FIVFso2IJQmFGgDNKA',\n",
       "       'UCIKAZwaFnH_QX1ddYDQf-lg', 'UCazjg_kYZHVqscSSB9lmhOA',\n",
       "       'UCck4tqn4wHb3jDhUn9dDVMg', 'UCKzrGgxorDwLcVKeaB7euvw',\n",
       "       'UClQkOIf9OfMCQ4CjlSSPvbQ', 'UCZMoAfVZKRS2HKA_gTPQY0g',\n",
       "       'UCLrVxw4H4ZJ3LovpdbzF7bw', 'UCkbPk0OHdeOnjciSgdzxuzQ',\n",
       "       'UCmeZAal3f9_0h3LmYiqNCag', 'UClEDJq5JqDRGo8u8_lYO4gw',\n",
       "       'UCn1wSZL86FfGqZ3aDHiERgw', 'UC2nUwy3lWySoH2tWUiSeOgA',\n",
       "       'UCVrK_pMRp_q8IelpfUCTGLQ', 'UC-jlxuVAVEl2PXTaGno7gSA',\n",
       "       'UCUowFWIWGw6Pv2JqfEj8njQ', 'UC72vWiZdUN_Y2OC2RgJ-dvA',\n",
       "       'UCoNGo02Aai6VQotn-MNnbpw', 'UCzRWedsDooc3jEp1TuLjB4g',\n",
       "       'UCFSx08Ew0iiWKyAz54Opdhw', 'UCvBSa6Tzhiz7MrVI_DkwvWA',\n",
       "       'UCMRxoFJPZiBcxgFzxN0ao-w', 'UCYY-xsfMg0TKz-gwQOMhcWA',\n",
       "       'UCu76O9Ye9k633b2VaLg9cPA', 'UCz-y9OLmILUM1HGCE4Ffbkw',\n",
       "       'UCyznn3etx_6fSK7576JSrKg', 'UCdlMSPp9XSTcbJw422zxWCA',\n",
       "       'UCqxzXCQqNQ9wSwHPtZKHrlQ', 'UC92qENDvlCKpNCkUwJnFdkA',\n",
       "       'UCrPxYLadOjSyh3iQkvw_SJw', 'UCO7RCW2ep2QtzYGMz6g7Uqw',\n",
       "       'UCDPujMbho9Nq-iB7aTJsMUQ', 'UCfYbb7nga6-icsFWWgS-kWw',\n",
       "       'UCPdJkk0VcWWiIQ1I6UFmV_w', 'UC0rZoXAD5lxgBHMsjrGwWWQ',\n",
       "       'UC2AopvAmRGD2rGjG6PK97Hg', 'UCaEgjV59fLXgnN5BJdLsD3Q',\n",
       "       'UC9azT7MBd3jU4DoTt0AW3gw', 'UClQPwGSqpatKM-NZJ_DGfhw',\n",
       "       'UCnt7Iy8GlmdPwy_Tzyx93bA', 'UCySf1uJJxjMDryRywEzUR2w',\n",
       "       'UCIgbxKzg2BpGN_AQ6uarXDw', 'UCwW_vaMPlq8J4weKDsfeJzw',\n",
       "       'UCQMb7c66tJ7Si8IrWHOgAPg', 'UC7KZFVVnKjiCzkxWD-Qrakg',\n",
       "       'UCcdH7Be-X8famDsPVwIKEYA', 'UCTrecbx23AAYdmFHDkci0aQ',\n",
       "       'UCkeGEMunZIoGUyP7z0pMYmQ', 'UCSkC7KNQHSSeOfRGtKgDm4A',\n",
       "       'UCCsiAKRKcgzA_372WbXNBaw', 'UCKgJEs_v0JB-6jWb8lIy9Xw',\n",
       "       'UCij5BjgH6WjDqOzB6UZZpjA', 'UCMfKNuYXBc9bxb0fg2cGTBg',\n",
       "       'UCBw4kFsnixcIm3mef2cvfjg', 'UC8GAOCAJxBL4bExaUCvwL4Q',\n",
       "       'UCNohUmuAnQa29YmaxzbaksA', 'UCP4BdwPKyYnfRLjSNfGAPRA',\n",
       "       'UCSTy-H5lSiCcozas32sfJlQ', 'UCMLbmp5tcLxzahMLTmeM4lg',\n",
       "       'UCyZVnp-_owuoPlzNJNtaxZQ', 'UCmtALVZjXFzb4v3fIXDmDyw',\n",
       "       'UClMWnUHbxJKJLUgloN1mPUA', 'UC4f8Z2XefBDL421pnNEQH0Q',\n",
       "       'UCFc0stDRUkeBDc36qZeox1g', 'UCFUC7NaTxZanB_FVOJN92eg',\n",
       "       'UC_NPMpK-gZVIKqvDRljgbBA', 'UC2JVrseRgh0ccDQ7c8qnXTQ',\n",
       "       'UCXfJ65sVQ5F3nJsm86yM6jA', 'UC94FYUJYBqq4CHPhfJUCxDw',\n",
       "       'UCAgBUlIpzlJaE0693J3s97w', 'UCp-c7UZowNgx_sGtGCI8M1g',\n",
       "       'UCZeP6H2mELnRI9imY5Iga0g', 'UCOtFVJUoek4TKZAaeQVhiLA',\n",
       "       'UCIZBXVGIJoJMXf8giib0IiQ', 'UCowcNKm1w2GGw5U_XQeduhg',\n",
       "       'UCN0-RRaxMgh86eOwndAklxw', 'UCLfhh63n0fWn0gXXKQ5NWvw',\n",
       "       'UCutpp9X6rKErxUkv4wKBRPA', 'UCNP2yhz10CUEKhzHCUu2r4Q',\n",
       "       'UCGJNdaSwFeP3pLd1MhN0dRg', 'UCmrLCXSDScliR7q8AxxjvXg',\n",
       "       'UCZmn5TswQ0m13ihKsbJ8Wzw', 'UC68k9B1W2GTDZv9e10ySrxA',\n",
       "       'UCBceihEYR7elOoeWTuDhAzA', 'UCVyzFlPnWjqrgVljH8QUiCQ',\n",
       "       'UCoWQunH1zvFa6u3IoMXQjRw', 'UCnxxPKzboofuvEjFGofkm9A',\n",
       "       'UC7-24nwy8Zg_Yweu6ujnZjA', 'UCP-rwC3mqNH1cVYYVZHziKw',\n",
       "       'UCK68w5LvF6DIOqZAU0uUqSQ', 'UCmzjD8K7LfpkYs-hs3fZP1w',\n",
       "       'UCGUg8tKiuqCM3ZCAy3XdmKA', 'UC66IBH4uFkBTzEh2olFFJSg',\n",
       "       'UCyOOQJzQSNMjFJqb3gQENtg', 'UCur6nu-T7FilkEztCm_S8yA',\n",
       "       'UCao3EH2t9wOFPmu2F4i4bag', 'UCRAxuaq1xwUGuQ_KaOYbUXg',\n",
       "       'UCnXCniozJS4YQAM9n0ocKzQ', 'UCZtDKD0pFpPclXA7ZAti90w',\n",
       "       'UCJpdwEg7vrj_61e0Bfnx02w', 'UCVO8YsD87ibqRGIJ7o8sOzg',\n",
       "       'UCcAhXQl-YWTU9wzfm5R5t7g', 'UCWoPKumdlQTSw1M4UPsYXzQ',\n",
       "       'UCIfnKm98q78j2ZNcfSQhhCQ', 'UCRr7mGBwURyRGM2BRPV3hNQ',\n",
       "       'UCQHb0fs5LiCGf8E8o_duxNQ', 'UCRWRClsBI3p9gnYO8UBst2g',\n",
       "       'UC9E2GVCdoEQGd1MN-JRkjNw', 'UC3FqYK9UCKtmcTwSYo7mwpw',\n",
       "       'UC0b-vEnPRxtkMJj7xxDnJIA', 'UCr6gdokI-jE_T1b5AmOOdxg',\n",
       "       'UCqDUhDiWJdk3inMxtEPOUWw', 'UCLM6JlQkQ9tltBL9Bipci9g',\n",
       "       'UC7FwgvmNdQC_3KJhew7cfNQ', 'UCdEfsAy6rUDPnm9HwKA_asg',\n",
       "       'UCKmcfC22VcMbUMJAAWq9zdw', 'UCPaDUD522GNh4WqMqTnzO2A',\n",
       "       'UC1B82kNwoGlRwcFt3xWa6Rg', 'UC3eWseER6XOMR6RcwcIJ23A',\n",
       "       'UChBsOxskMpDmBAsgJ91fKcg', 'UCUXTC5yhqkNTKDvK5-lAUJw',\n",
       "       'UCg3sDb6KYo-IuU94Ym08H3g', 'UC2w1CQqPli4w94-PCg2UvJQ',\n",
       "       'UCvX0YZy3iET81JImRRKnAfQ', 'UCFWmmu2MmGW8Obc5pNDDJmw',\n",
       "       'UCdf14z6V0MWNeVcbAz0r8wQ', 'UC7zgrGKsGDeeu9xrz2qNTXg',\n",
       "       'UCc7nGMWfSL48llqTeyQNQ_Q', 'UCSTp3xBWG5SbMiDwjJQQ0Lg',\n",
       "       'UCoHbKigbQVbt6mygvfKwgmA', 'UCxBZXHQ2aTr8Bdw8s5ZY4xQ',\n",
       "       'UCHC60upCUfq7EAfw6oDQRDA', 'UChKlct63f5tEY-twY8TKAcg',\n",
       "       'UCkXYznmArMELRxH_36uM1lQ', 'UCI3rQP3WFT_GwNRtnjHHqzw',\n",
       "       'UCP9oVEmpxbxmHd1_s3w6wTw', 'UCQB3Xg02E0MOlyfitgw2qhg',\n",
       "       'UC2LSaEGBHvAvNf9ufcJfk2w', 'UCtBv3C8qTj7kaRGVu8UQfLQ',\n",
       "       'UCQZdMTHwIw_fZRk0wI8oqkQ', 'UCRRiIGO2htEoKTB73q9Mjsw',\n",
       "       'UC0h-sR-xyYLX7sSO46ovo2A', 'UCuVUvrf4H3XnwNa2yvFXxYA',\n",
       "       'UCkY8CvV8WQFe87CZGmvuYHA', 'UCsdPzJBJYQlsKigw_3XTqJw',\n",
       "       'UCOYhgosLesFDd_hUpWGf1iA', 'UCpFKlATawMhKF5xehVOZLLA',\n",
       "       'UCTqKAe_hNq-kFp1ss6Lga6g', 'UCxcVvBUylGdjCS4jz5PVSag',\n",
       "       'UCoExCKBtf2ZsF-nrZqcXQyQ', 'UCVk0E-MUK5ukPbDfP2QcFYg',\n",
       "       'UCCo7CvP9sYIWK0B2ihuW2dw', 'UCd14vyyg49J_ISVHSWEMjsQ',\n",
       "       'UCdKUh2i6PBILzqD3rPiS8nw', 'UCn1fwrq_QO0WkzBjdIM-8uQ',\n",
       "       'UCpDAdprUWs21wyWwbv_Z4pw', 'UC5m-1lIBZeSSSDDSbl9sNFw',\n",
       "       'UCcYXfb3ftov8m-dwcDpO00g', 'UCV3oX6B8Uq8VMh_L5zStVfg',\n",
       "       'UCnL31BzrmNz8MHwrCLhnjIw', 'UCdNyLKP5CW9dPQka8SwXHUA',\n",
       "       'UCDp4wd-htp51Ir5aByUN15w', 'UCUcpr6naAk-kCA1L8OOM5Nw',\n",
       "       'UCDBRuSWtxU8cQeZ-iVd_gvw', 'UCocq2LGS2ApHcu3O0PJa2eA',\n",
       "       'UCOaH9Cetw1_eAyUxpl6aqwQ', 'UCXHKuD1uuh-jsoh6CmF6rww',\n",
       "       'UCGlLEGoGE1ZUAMQcUFNa8QQ', 'UCVaWf4IhCjjMHGVeTvXcS1g',\n",
       "       'UCHU64hE5gBhdJk4iqGejHIw', 'UCG5aDTHFulVQViF9E-FTzNw',\n",
       "       'UC7JWVo-MDRhNBiU7Dp8j6kg', 'UC1uqC_EGj8qge9msaf699YQ',\n",
       "       'UCoi355TFIZ3nc2ODfE8WGoA', 'UCa3DmNrFcBTQbtNPkF0iprA',\n",
       "       'UCZjz2s4DyU6TrGzXJQ_VBRw', 'UCTWyeeDyUn1GCEzb6XZG7MQ',\n",
       "       'UC41VQF08gjJGz5tYyp5ezfw', 'UCh-yZehWlvPds-NewsXpzwg',\n",
       "       'UCZ5VQ34f6yxjlkLaq8lbgvA', 'UC3VGE_oMmD3qzI9yEco0I1w',\n",
       "       'UCpsuUgmFvHpDXs96pgdrq6g', 'UCpk7Ru_tqTSEiKJzlmFxLgw',\n",
       "       'UCGERZ-3ZyAJqevZtw9PCatQ', 'UCQgiVTdHRr7NI4xIdJui5Wg',\n",
       "       'UCYQ2gQbvIwIM90N13dnkvwg', 'UCO01qpeL29tfw4RTwTZv-sw',\n",
       "       'UCPvPtUY5MOoaQqg3i7xeEIw', 'UCnxGkOGNMqQEUMvroOWps6Q',\n",
       "       'UCiTnIVJLN3wBHM9EQx4kW8g', 'UClGh7QkXnUikoRUo6RSVlMA',\n",
       "       'UCyQsQSKayfcZoHaCjqxxSlg', 'UCFQ6Gptuq-sLflbJ4YY3Umw',\n",
       "       'UCRa_kxWOnJsSSb7S0ijguBw', 'UC-yewGHQbNFpDrGM0diZOLA',\n",
       "       'UCpiCH7qvGVlzMOqy3dncA5Q', 'UCzQUP1qoWDoEbmsQxvdjxgQ',\n",
       "       'UCZOEywSEwg8YZcKMoI5mHgA', 'UChtQHPkYDY0gQOOMEpVUlNA',\n",
       "       'UCxeY-wRrb65Jt37QHa5xMog', 'UCTjxmzChimJa3X_rAgLAnxg',\n",
       "       'UCLH7qUqM0PLieCVaHA7RegA', 'UC-c75h4LnBiLziZw0nzDm9w',\n",
       "       'UCyXhXAmTRVfeiD8JkWJ7Tzg', 'UCabMx-URCjr2toe9wOE3Y-Q',\n",
       "       'UCEao2vcm4FzkXKJQCH6mvWw', 'UC3yl-2o2mOPmsjgxDXTKbCA',\n",
       "       'UC4-AGCUwX7C-D4BsBook9fQ', 'UC5bEfSFTYQVfLCwkhBt8NtQ',\n",
       "       'UCliHpHuY_aIZ7pGWO9tUx_w', 'UCmA54XhpFJWyw_Bsj1jYsMw',\n",
       "       'UCjoF4jS4oR479_Y2y9Oksbg', 'UCM6z9wqPxdRHjAC_Pjdp5yQ',\n",
       "       'UCskcws9RtJPRM02UVe43BQA', 'UCp4oMaqaY0hIoT9jafj1g8g',\n",
       "       'UCioON-JvOyXE-aZ2-UCBqDw', 'UCFVabwlhdsTGiqOgCEZyUXg',\n",
       "       'UCPLjGLElB8hKpUkiZ1mnxeg', 'UC0uVZd8N7FfIZnPu0y7o95A',\n",
       "       'UCW5BbfOqiBPIf_SZOe85Wjg', 'UC-uP8fChoXf3FTHyttRRkUw',\n",
       "       'UC5c-JkKHb0YxFZ81XBtFCmw', 'UCchU0j9bXOa_E1xbxB5MqbQ',\n",
       "       'UCNAxrHudMfdzNi6NxruKPLw', 'UCIveFvW-ARp_B_RckhweNJw',\n",
       "       'UCi5N_uAqApEUIlg32QzkPlg', 'UCodkb-qBktJI5NrUsPYpf7g',\n",
       "       'UCL_f53ZEJxp8TtlOkHwMV9Q', 'UCnQC_G5Xsjhp9fEJKuIcrSw',\n",
       "       'UCJdKr0Bgd_5saZYqLCa9mng', 'UCeamuoYuBeRnRRbmq5CmjVg',\n",
       "       'UCl9s0VpZwQuvTCyZj_VtCwg', 'UC26rydyZRPAr51aJ2k9QHTQ',\n",
       "       'UCOh7DIo6IRIccz6QMkWkWlQ', 'UCWCtoOXSwTcbVjOiK8iFGUg',\n",
       "       'UC6cMYsKMx6XicFcFm7mTsmA', 'UCaeO5vkdj5xOQHp4UmIN6dw',\n",
       "       'UCZWlSUNDvCCS1hBiXV0zKcA', 'UCo9QgwWCNEhDxL1gH-jxa8Q',\n",
       "       'UCNdW82WWvjQEF5tUWVXvdKg', 'UC2i_hx_UfauBFh5DA3YWfDg',\n",
       "       'UC_SD8q_CLdAoeb1_uiJOvmA', 'UCtD9a-aXIYS6-e-8s7DISiw',\n",
       "       'UCb062gdTsC6FPvnzCPVvsTw', 'UCzp8QlVd_hDLfK1LMLDu3dQ',\n",
       "       'UC2TNY0ME37MkgM15RpORfIw', 'UCavk8KLWg5sWuDGrNIiqZ4A',\n",
       "       'UC3EiomuXs-spYm7ZjAdHR6Q', 'UC7SeFWZYFmsm1tqWxfuOTPQ',\n",
       "       'UC3C9u_BSiOCQQGI4pjey9dQ', 'UCyhEZKz-LOwgktptEOh6_Iw',\n",
       "       'UC5eXl6eJPzMavFFwfi8-nIg', 'UCx3s3t5kpD4VMfJjDi5keXw',\n",
       "       'UCtBqVgzL_cDv_t9o2hFiXXg', 'UCpJykKGRQ4601DzVkkGk7bA',\n",
       "       'UCQAX5byYdc8DTauoY0TzxiQ', 'UCTfTzFsutLOxGtmr5tqeKgA',\n",
       "       'UCUOn7uOg8vTCufzS9Nc5jFQ', 'UCxnEZ871BO_ONcbJKC1TG7w',\n",
       "       'UCjNxszyFPasDdRoD9J6X-sw', 'UCFIwb4_NANvMLCbdqcOD6Vw',\n",
       "       'UCAFa0zt3iJtEki2dotOfvrg', 'UC8KbWhBEWVlEdkHmETx8MlA',\n",
       "       'UCm13xHVNFVwzHzK3QHSaZ3Q', 'UCpuA3Aw-71YIVkk2yhV3Jjw',\n",
       "       'UCRZsTalc2L7VjRJNzHeN4vg', 'UCJuJlgVsGrHF2713S93UeCQ',\n",
       "       'UCtbEiMMo4xyU1hWa3Y5MsAw', 'UCzk08fzh5c_BhjQa1w35wtA',\n",
       "       'UCJY11HEYjxGgXr9O24JzmHg', 'UCVOpH1nJioh1d7UgTnZ98kg',\n",
       "       'UCGyBhZvqlWjGZHNHrBzj2vQ', 'UCFh3dBRQToGvu8bjr-CdV4Q',\n",
       "       'UCzGwq0bZp0echSzCx0rjTFg', 'UC4GzVIbK8bria6AOy43hY4Q',\n",
       "       'UCFkDAsyfvgxqNyue4F4HHww', 'UC5AQEUAwCh1sGDvkQtkDWUQ',\n",
       "       'UCt4byS0vUsmAB_hX4NHNUkA', 'UCGMCH9ZQRfLT3qQpZIqGPzg',\n",
       "       'UCQZ1lsBP6eMCQXxk41XpMew', 'UCmVzhZ-0vh6sjLKHKGrGMRg',\n",
       "       'UCSiYkMylC3F_eQfIodMHkOw', 'UCZViJTyN0OXTTuPQ2mimNWw',\n",
       "       'UCm5J1Fu_dHgBcMTpXu-NXUw', 'UCwtGHPbMWBRvfGCyDQ-bNfQ',\n",
       "       'UCs-brcHDxKqrOGU9cEWuCMQ', 'UCrBFmNZB-Pwk1n0Bk_Ivwbw',\n",
       "       'UCFlDbTySKx1uRx4R50w-9eA', 'UC-Wz_tOR0ChooAoesAUv4Lw',\n",
       "       'UCn0ZK0ayG3eJhQC_j90wBmw', 'UCU80Ocd--K1vzTGYxMjEiOw',\n",
       "       'UCIC8GH44FjpllvFu5DzO5xw', 'UCrBS0YjL5OO8iBnV6f6M-bw',\n",
       "       'UCFe3hqzU5BhiKdXlqjc1KtA', 'UCmr4cFcLqeRUk6Km3vaGotA',\n",
       "       'UCrv0NCiVhht6HfViwlaVJBA', 'UCzH0b69GmcdQg-ArmrgeNsQ',\n",
       "       'UC_OGIvbOor3bUybYaUTIo3w', 'UCHJRJ0f4qV5eQzH3LerhyJA',\n",
       "       'UCnN9VhiGlmjCz0JaZi3GnkQ', 'UCRiQPLkTbRXwVuoeRNjJohg',\n",
       "       'UCWvzoD9t7tIKV3WjOzk-Yfw', 'UCyc9mFN1Gf24xfO0cl8gJug',\n",
       "       'UCeY3vg1r0KrvuyPOi7T39eA', 'UCR0srRLH-bri5HPnoaZJclw',\n",
       "       'UCRboG-2RFSZbOs4LQo6bKOw', 'UCb7fZ328aBqOClRuAOOKjqw',\n",
       "       'UC4u39IvAzPFPz3K7Nxg2o4g', 'UCpbACnMmFIaKjCbwrZROXvg',\n",
       "       'UCWrbXJxmAol4DZdfiz2-vIw', 'UCFsAy88-PQxn8NiahfBCwgg',\n",
       "       'UC3n-Hywbms82-FPejNPpnEA', 'UChJNXTQCr7YIziV8d1H6tXw',\n",
       "       'UCSKhcq_fYLgYMWzVw52GjBg', 'UCVOPAzWt7c7bG1r2WkmV3Jg',\n",
       "       'UCnOofSLpyiDQcThNKf2JJGw', 'UCkS25_BA441NQMkbJG_k9Kg',\n",
       "       'UCXmSzYyPQ6CuCzwitLclnjg', 'UCM96pu5VCp13f7P8Ar7qUjg',\n",
       "       'UCF1F7bQ_7-C8_JMDiIKE6LQ', 'UCHwIeue1WcJzfS2dvCVuiWA',\n",
       "       'UCuKqtwPO5ci5_KoZGbfl33g', 'UCoZ_kgm4fIOm3n3EgDbEncw',\n",
       "       'UCtCAKno3zALipFdpdY1ZLjA', 'UC0qSkLTzo-40rA-WvzjTHDg',\n",
       "       'UCyLHoOMy2mcIq7v5BFnNQww', 'UClLNqr9kTEehlf7jSiSLJVg',\n",
       "       'UCauYZm2lm1MufqCN9zIrXyA', 'UCjVhxbG6CPGw3YP-BpaOIqA',\n",
       "       'UCd4xRbTbKS3CI8I17YjTBNQ', 'UCueXoXyOKbhDfnub_28eC7A',\n",
       "       'UCMPAwSx-57jgqImqEYxZiXg', 'UC8XKyvQ5Ne_bvYbgv8LaIeg',\n",
       "       'UCDRhy5G0TGF0nHdMjSH2E6w', 'UCjl9iBBVhu4xziXwjgLwqYQ',\n",
       "       'UCCIqP2EUeK46bcFuyf8E6dw', 'UCvGzonGrDIzUQnwJBLe22YQ',\n",
       "       'UCton5c-eyajfNR_pRcKk86g', 'UCH4-z1jU6v1QCZE0hqGcS7Q',\n",
       "       'UCSGTCm_L2ssNJmScEhJU3og', 'UC4l_02h-34rlgyUhBaUgcfQ',\n",
       "       'UCezB8ZxKLSmmL2gx8zb4iEw', 'UC5tEELgWBfKbA9fVPRzBzPQ',\n",
       "       'UCseRVXO0TkkxjF5Oum6X33A', 'UCKoYrCh8bOYuqAnkXx9Uakw',\n",
       "       'UCrSJF7GT6MOm6PxYmv0H3_g', 'UCj5j4pIgg8gtcRA4iYTWiAg',\n",
       "       'UCeCV-XNeZIoHiCGfNYCLh9Q', 'UCbgzmK-mfpjULHZ8SMCuhdg',\n",
       "       'UCvM0vwv9wWh13d21f4HdJrw', 'UCwd_sSDZ8EQt6SEeOO2tBRA',\n",
       "       'UC7gAnULJ4WuqXTsIBwAnIBw', 'UCZ9GGHg7ERYgH_pIduMjgdA',\n",
       "       'UCDoNFQZqQpd6aL32Ua4JPTQ', 'UCdGVD4QzNyUrfyX5oiZVtfQ',\n",
       "       'UCT2dUsMtd08RfaH12O9DCDg', 'UCo1qRcO1OehgkOD_fHsu_uQ',\n",
       "       'UCbJx13WCQq8mpbaIwz6Oanw', 'UCV8_fJZJe4GXqPq3bS0f6mw',\n",
       "       'UCIEO_w-8_voXDymte5KYw_A', 'UCk2AXFIEy8Fq-ExkJxhLh_A',\n",
       "       'UC255AfKquZnQMO0amxdEGWw', 'UCZrMKcDNPruX8ltP0Y0pOTw',\n",
       "       'UCdMPdytnpICXabqQE7LG-sQ', 'UC_7Bt0vnvdJqAwF8Ow8iT0g',\n",
       "       'UCcmnLu5cGUGeLy744WS-fsg', 'UC7sjYgQOIDFRMCzt666_dwA',\n",
       "       'UCa3meRxRwQrXg__x--Goxrg', 'UCGE8W5_PN-bZ71nrVp9Z3FA',\n",
       "       'UCIl-NGN7bGS4UuMc1vJTyoQ', 'UCXWynYLv9kfV_r7FpNTaJaA',\n",
       "       'UClfqxOGWFlOMQWpIhbhzL2w', 'UCuUbALqd-qaVTdAYbVyG2Aw',\n",
       "       'UCkFWCK3PrJXjo4Uv5_8l1cA', 'UCzzkMOf2bEImOmu8pcXIFHA',\n",
       "       'UCSJt8MQ0bqoAbbFIyu8qOXA', 'UCVRQqUgDRBevsDGOeE1DL3A',\n",
       "       'UC_QOZpg4t2hf0BCnWhWM27w', 'UCcOtHMt1S9Nl4Pycp-FWd8Q',\n",
       "       'UCvlBoX4hBrM2yUglBQcYVHg', 'UC595wqznMGuY2mi6DKx-qnQ',\n",
       "       'UCFmGu_0gJFKQWrbBp5N3oqw', 'UCKhX1c3ow6BrzdzP3ydpeZQ',\n",
       "       'UC0msVj8OXmsvWMz8WofDqWg', 'UCW0XocdjHAzMJmTQIboO8qw',\n",
       "       'UCcdQla_9PbQb4-FKFxJN2ag', 'UCAlVRoYjDbgLx7j6O2N8-2g',\n",
       "       'UCXNNG0ej_6rU9SxCZ4dyq6w', 'UCKkxuj6Opa-JV3_s6r2CPEQ',\n",
       "       'UCBsCsmpR2GN2O8q2J5noFMA', 'UC89MuToZunfClmUYoS6-Sow',\n",
       "       'UC7PfGhJXlJiDs4jvGGGgqsQ', 'UCAgb6xVzZ_Xo6EuE3ne86Nw',\n",
       "       'UCHaKL3tBNNUBp39ZIxox0bA', 'UCbVCEJ93942EpPqN2AzEyBg',\n",
       "       'UC8eLDzfH6YfZRDbDuMsNWiA', 'UCY82s26DcOzvDgwGYXFcYtw',\n",
       "       'UCJpN-GBTchQaSVwBbefYMNg', 'UC9GLI2PKK0SBl4s9TBBmZDw',\n",
       "       'UCfMd9UCvNrwoF9Q90_thPlQ', 'UCPHCKNP3VeIHRIiWQ5612aw',\n",
       "       'UC0uWCUBVPIhgsjai2RN1buQ', 'UCAhmDfQ1LfOYECmNNWgXJ7Q',\n",
       "       'UCyYocf7ysbu2Fa2PWs3kE0A', 'UCzoOMUc5bPOVcCrqyzVfn8Q',\n",
       "       'UCgpVO5oxAh7oMk3vynU-2Vg', 'UCIcG1DFunampyV70gRlfozw',\n",
       "       'UCBzqti45iz4YLZ4z8u1BuOQ', 'UC2KAZE9bOba6qDxxCMMgzvw',\n",
       "       'UCTnN7rhfuycUklcFZCnKKrA', 'UCWs35ztZWrw6pKc2dz3s0GA',\n",
       "       'UCuf8fpJoQmy2wFb5W1zOWkA', 'UCsHVE2H24t5QKIrwMRylifg',\n",
       "       'UCFIyHT6yySaDiAUnqx_qNKg', 'UCEck8KzJ_vDtrOBHfoT5q4Q',\n",
       "       'UCZAENaOaceQUMd84GDc26EA', 'UCy-N04M3rGQMznjIv5g2LGQ',\n",
       "       'UCp5x5kxCgg_A220jNIsLyfA', 'UC5aT3baqQh2eeN_mpVxVicA',\n",
       "       'UCXlnUMmbfvVBmc5NqzlbFVw', 'UCTYu3LHeW4GliTc5iBAkX-w',\n",
       "       'UCmb8hO2ilV9vRa8cilis88A', 'UC9459CRFjiCq52yKuiraD4w',\n",
       "       'UCpwjYJfgn_Q86MPV2OU264w', 'UCBrKVgNgwYrPuqcxzJCbPHg',\n",
       "       'UCghz8w8iOn3PDpYi9QuC3bQ', 'UCa-QpckLkgzFzG00Tqjsbnw',\n",
       "       'UCqgRXahIvfmPqzOVfIsXu6g', 'UCCdhGyttg_U1mIdb3WELe_Q',\n",
       "       'UCPz82RASOzerCU1MrYm0SSQ', 'UCeVo455xDqrLsq7vt7NLQ-g',\n",
       "       'UCyy_kETc7LrFPjwgVod1_Mw', 'UC6eh59CVGAMTjxo6q9gCMZA',\n",
       "       'UCm6hublvFdiwTgq96q9PM5Q', 'UCoYT286QDrUp2hQbDb05FvA',\n",
       "       'UCwX9Rh2T0LiDPqJNvLGpGlg', 'UCEjjHEa3xG6W91ZL7_jSYCw',\n",
       "       'UCNfKp9eXtcCM1-Nz0mTCGTw', 'UC2onM4kU0ChVbwlYMemRJEg',\n",
       "       'UCYqdbnuvx-jJZByotoNW-5Q', 'UC1GvdBQyTeP8eCbcqdRWiZA',\n",
       "       'UCNttYr07FLI6jzz_VUMeF6w', 'UCfMX1py0agQyBcOKjt2VSzA',\n",
       "       'UCo9XJennsRNhyPbXCq6e8aw', 'UCpjFHKuH-BQELT8lj85vmRw',\n",
       "       'UCCLBZkbVMsDy3T-ErLOkVdw', 'UCNpBDi0eHdQ7-vBr_tZ2ksw',\n",
       "       'UCCgrWW6fsUVdRD7xI52xhnQ', 'UCLrI-dOLyDbRnPyUeWadsOg',\n",
       "       'UCjTMOi3cpslA7JUmPdfD6MQ', 'UC1PkRYud11ogYDqgdqd23Zw',\n",
       "       'UCc33T6QinM7wdXBx8eKpikA', 'UC6BLvNM83VFg0Vgh_aCfOGw',\n",
       "       'UClKa8mrHgQfeeh5EIDqRfAQ', 'UCPcIrG2d96HDzRqCE93K2Eg',\n",
       "       'UC0pud8uplkWWp8SYXjS828g', 'UCY0fILilUr601SPy-wc0XUQ',\n",
       "       'UCwWkbMqbsawHFyfeGEHb8mA', 'UCNt2iZyQIgkaW0Bcwhw8PLQ',\n",
       "       'UCzpGSici-H8VtnhCPp_b3Yg', 'UCyKApv3PvaslEzHR9rwK4_w',\n",
       "       'UCSuIAAH09DiO10JXWdsCQEw', 'UCHfnqyD8fb_rzkRmZSo0Wng',\n",
       "       'UCwNPPl_oX8oUtKVMLxL13jg', 'UCsspQFcCZ14d5DPMfVbPuuw',\n",
       "       'UCQFmSsxwJwOALJZp3GYf7Cg', 'UCPsp098EE90Gyqgvo0Eazeg',\n",
       "       'UCwwP0UPUoTPHg2nWe4qERbA', 'UClOZ-fMMvom8p2GWZ_ihpfw',\n",
       "       'UChCFbthWQF4MKA-43SCDB9g', 'UCs14Smim-bliHN4GBEom-Vg',\n",
       "       'UC2qovl2JjYyMI_cqznjSGWg', 'UCaaApS4TMI3KueyAkIQv1XQ',\n",
       "       'UCxObD2ivFPpq9Akna40s7Fw', 'UCJgVPwzPxklQr6WHwJLPlew',\n",
       "       'UCPa30Vkk1iM3rahMbjfltjw', 'UCWYzs-Mi7SM_n1EgvzIOn3w',\n",
       "       'UCts47p-nMPfpG4zZPB3ZfKA', 'UC2XMvfBq5w2P4_ZYOsMlxVg',\n",
       "       'UCB6Axmo3AK495fsvuDcLkjg', 'UC-gs1e4-V16TM5mgo5d_xuw',\n",
       "       'UCGcZSPnN83GbcqzIJauoogA', 'UC4ayoBG3GC0TtiOVX9y2_IQ',\n",
       "       'UCE34NceQJKjipx5CRG8Qi1Q', 'UCtQEjfEFzba37ozoXK40r3w',\n",
       "       'UC1KbedtKa3d5dleFR6OjQMg', 'UCRn-wnGsb6DaXdi9U-afAsA',\n",
       "       'UCKCWzpfMtsofk8bm80WzwmA', 'UCdGAMy3KL1lCaaH7_JMvUeg',\n",
       "       'UCr4noD5_Hxn6X_qdaQHA6Kw', 'UCm7cF_PSiLUhXPEVyuG25Gw',\n",
       "       'UCAPZwfAHn51sSZiFHorTxHA', 'UCl7GLJo420GdYP7mYZh-yEg',\n",
       "       'UCaQs5uEGmuNoj8GGVhnB3kA', 'UC8X33POhYcIN-JwOaxEz2Lw',\n",
       "       'UCp_3ZnE5OjPbQCO_LbhObGA', 'UCey8aYvvhqRbZCruPdD5caw',\n",
       "       'UC4py_gZiZJoyThV0Xwxhzug', 'UCSfAjvVM5cqn7DCng0OR-pQ',\n",
       "       'UCQ69s6pIPwV5tioRAGrG0Tw', 'UCQTAVxA4dNBCoPdHhX9nnoQ',\n",
       "       'UC_fiSXsgDVMLDmExLohAYIA', 'UCsMzMM6gDS8ZiDIPmatGngg',\n",
       "       'UCD-cyDCJUs80NGUCYTCVPDA', 'UC52xQhSiQh5zOTJoooIMOsg',\n",
       "       'UC0G7RJSfUaWa2Zfw_0Jyoug', 'UCb1pUSilDPgMaf5P3E8ZRvA',\n",
       "       'UCqisd7riZrTjKdU0dqpoONw', 'UCgt1Qx_QBSzF9SLMLY2UnNA',\n",
       "       'UCTvejcHP9cK5XqCIPZvdAbg', 'UC4QWILrhh8gQe99Kmdoba4Q',\n",
       "       'UCVQlNTd8M5vD-exIpikpvog', 'UC6Iaz96RkYE-MOjnq5NPgqw',\n",
       "       'UCdHHNkBbGj4tuMo6SjEl1dg', 'UCTJuAgxiigm_gg9YDyq9y8A',\n",
       "       'UC_T1In1fbHpXKEuW8a8-2pg', 'UCiChLqJjX4d_Q6X24ryyqXA',\n",
       "       'UCPLa73c0_QQMZipl1HybtHg', 'UCEHhJ6PAp-BEW2im0SAfK4w',\n",
       "       'UCagHu20Tuj3zElwZj-w2Fqw', 'UCfGxf1tdjIdtpFY2IjggDNw',\n",
       "       'UCmDv0nPpc_lum517VF1e8VA', 'UC-Or4JV-ikWES6ZwCVN__PA',\n",
       "       'UCuErSr7xeR763BzTJL7yJ7A', 'UC258xnugPLjXRPO34QACiBw',\n",
       "       'UCk9SqfJYu5HP5e2dfClpr0g', 'UCMBL8vkod4OKHgW_QqvfXwA',\n",
       "       'UClae1uxKkw28rfX20Jm9Qyg', 'UCxJiYMtouGpvAdeZyZoHGZg',\n",
       "       'UC0it1cu-mt_IcvLTQ4CWcHw', 'UCjwD__1zcIfzVL6l2I5uBdg',\n",
       "       'UC-FIowkUpK-L9sfZRCef_iw', 'UCM4bEcJjqR7WlrRIfBIkBdQ',\n",
       "       'UC0-Uk0ex4khy7c-nYy6Ex-Q', 'UCJjOsobrGr72uABRLPDyaJQ',\n",
       "       'UCvmKbukYpA8SagnjSHt_NfQ', 'UCFhYciYV6oyqrOfoZoyoYCg',\n",
       "       'UCu5vCs-tKoYzPBxnVF8FYGQ', 'UCmIq20BSpfq7Y5qS-dQudog',\n",
       "       'UCaN4Pe5JEsWzAByY2WfxxjQ', 'UC_1N_NAJv18XOndxdixfW6g',\n",
       "       'UCkwcu77254CvudmXRfcTaDg', 'UC8_LUYv0d5OSl1V94LH-y3Q',\n",
       "       'UCjyn_K6PpnAUh1KKyYAHsBA', 'UCD4xqm6vJ3K4ntppsE1jL4g',\n",
       "       'UCTyvDKLQnpIivQzX9qa5sWA', 'UCOTpnM9yWpZkSp6ZX27QwjQ',\n",
       "       'UCjCqhc2OU63ygl53UA-iyHQ', 'UCqdICzheBUg6W7DyOYQamJA',\n",
       "       'UCjH72OaQxPoKgtv56C-4NOA', 'UCFH8kR8gq7nn9GqSpgwu1kQ',\n",
       "       'UCTF6CEoSHHGTuJwk_zppupw', 'UCyA6r3k8zMF2axgxVz-qTMA',\n",
       "       'UC7XM4gIpmyH1XNTDEVbSS9w', 'UCvF7Ll_WOgQWOw0KZJsVNXQ',\n",
       "       'UCi-ZsSk7G8z2G12KgTjKgZw', 'UCUVCYTauctWL_VgysXmgTaQ',\n",
       "       'UC16j6EppP0K85CzYMduNCqw', 'UCBmkZCMwh-OqGB5eU2W3QXg',\n",
       "       'UCvQECJukTDE2i6aCoMnS-Vg', 'UC64UiPJwM_e9AqAd7RiD7JA',\n",
       "       'UCpZ5qUqpW4hW4zdfuBxMSJA', 'UC0p5jTq6Xx_DosDFxVXnWaQ',\n",
       "       'UC4WdIJ_D_lJb87uE3JV5SgQ', 'UCOClvgLYa7g75eIaTdwj_vg',\n",
       "       'UCw-kH-Od73XDAt7qtH9uBYA', 'UCb--64Gl51jIEVE-GLDAVTg',\n",
       "       'UCoUxsWakJucWg46KW5RsvPw', 'UCWo4IA01TXzBeGJJKWHOG9g',\n",
       "       'UC7F2QS7wk6Eq9Z4uabl5rmg', 'UCe2PK9vNxfogdvkx4jqB8uQ',\n",
       "       'UCJEDFSxHHOW1PpBccdSxOTA', 'UCfXdejDvNviqilmJ9DvGuow',\n",
       "       'UCMDxbhGcsE7EnknxPEzC_Iw', 'UCvwFhI0mrIWDiZUabRapS5Q',\n",
       "       'UCLXo7UDZvByw2ixzpQCufnA', 'UCsEukrAd64fqA7FjwkmZ_Dw',\n",
       "       'UCIsbLox_y9dCIMLd8tdC6qg', 'UCL8Nxsa1LB9DrMTHtt3IKiw',\n",
       "       'UC4LADtN8xwppFydHUB1s5uA', 'UCZfsrIV68Oegr5bJgAMLBDA',\n",
       "       'UCqLj_VGACwmDa0FZ4UV3j-w', 'UCzuqE7-t13O4NIDYJfakrhw',\n",
       "       'UCGbQJy-531_5vfphay-rChQ', 'UCsD-Qms-AkXDrsU962OicLw',\n",
       "       'UCswDowOOvJ-fkCgH9YAITjQ', 'UCueKD4jxzgHvCISK2pBt0cQ',\n",
       "       'UCYC4ijpFZY_CtdElWFyy-Gg', 'UCSecgeLcJ6qXmE-tgOMYM1Q',\n",
       "       'UCeHHAF22PljrnnjskZeljmg', 'UCJNMUA0J-hgaTmiNEYZf2Jw',\n",
       "       'UCZaT_X_mc0BI-djXOlfhqWQ', 'UCftwRNsjfRo08xYE31tkiyw',\n",
       "       'UCddiUEpeqJcYeBxX1IVBKvQ', 'UCY9eEaH19ulZmdusctU1ejA',\n",
       "       'UCx2HcmpB-UZGkMXOCJ4QIVA', 'UCcyq283he07B7_KUX07mmtA',\n",
       "       'UCoMdktPbSTixAyNGwb-UYkQ', 'UCuFFtHWoLl5fauMMD5Ww2jA',\n",
       "       'UCHpw8xwDNhU9gdohEcJu4aA', 'UC-6OW5aJYBFM33zXQlBKPNA',\n",
       "       'UCHd62-u_v4DvJ8TCFtpi4GA', 'UCZ8Sxmkweh65HetaZfR8YuA',\n",
       "       'UCCjyq_K1Xwfg8Lndy7lKMpA', 'UC-JblcinswY50lrUdSaRNEg',\n",
       "       'UCYGnmkFGP4EgAOqu58JA_lg', 'UChLtXXpo4Ge1ReTEboVvTDg',\n",
       "       'UC7Edgk9RxP7Fm7vjQ1d-cDA', 'UCg3_C7BwcV0kBlJbBFHTPJQ',\n",
       "       'UCK0z0_5uL7mb9IjntOKi5XQ', 'UCw3SYO_euO0TSPC_m_0Pzgw',\n",
       "       'UCeFBQmxaVN-grC9sFmz5ucA', 'UCF7hznHog_lCTbwxjj1jrPg',\n",
       "       'UCl8zB2LZOiLLV0jYUMpTEgA', 'UCx-h2AWPCBJEqzH9HXe2ZIA',\n",
       "       'UCmh7afBz-uWwOSSNTqUBAhg', 'UCAvBcst08Tfo4VNtIaRPTNw',\n",
       "       'UC8Ioh4atNDO5a0Vy2qFmauQ', 'UCFJNcE0iHj7P6dhp5iCZRLg',\n",
       "       'UCrvhNP_lWuPIP6QZzJmM-bw', 'UCXTuTQZarVcFR_fgQXvsLpw',\n",
       "       'UCWq53_f3zgMcWuE-XFKSpyQ', 'UCZr49eSL2aHQ_41476IrkbA',\n",
       "       'UCL9PlYkRD3Q-RZca6CCnPKw', 'UCt8lRYpzb-sSrKFb4DT2ECw',\n",
       "       'UCkJ1N-7g9Q6n7KnriGit-Ig', 'UCGDaOZg2INC0Qg2Z203F1dA'],\n",
       "      dtype=object)"
      ]
     },
     "execution_count": 14,
     "metadata": {},
     "output_type": "execute_result"
    }
   ],
   "source": [
    "test_channels.Id.values"
   ]
  },
  {
   "cell_type": "code",
   "execution_count": 101,
   "metadata": {},
   "outputs": [
    {
     "name": "stderr",
     "output_type": "stream",
     "text": [
      "1it [00:02,  2.76s/it]"
     ]
    },
    {
     "name": "stdout",
     "output_type": "stream",
     "text": [
      "1\n"
     ]
    },
    {
     "name": "stderr",
     "output_type": "stream",
     "text": [
      "\r",
      "2it [00:05,  2.70s/it]"
     ]
    },
    {
     "name": "stdout",
     "output_type": "stream",
     "text": [
      "2\n"
     ]
    },
    {
     "name": "stderr",
     "output_type": "stream",
     "text": [
      "\r",
      "3it [00:08,  2.81s/it]"
     ]
    },
    {
     "name": "stdout",
     "output_type": "stream",
     "text": [
      "3\n"
     ]
    },
    {
     "name": "stderr",
     "output_type": "stream",
     "text": [
      "\r",
      "4it [00:10,  2.73s/it]"
     ]
    },
    {
     "name": "stdout",
     "output_type": "stream",
     "text": [
      "4\n"
     ]
    },
    {
     "name": "stderr",
     "output_type": "stream",
     "text": [
      "\r",
      "5it [00:14,  2.84s/it]"
     ]
    },
    {
     "name": "stdout",
     "output_type": "stream",
     "text": [
      "5\n"
     ]
    },
    {
     "name": "stderr",
     "output_type": "stream",
     "text": [
      "\r",
      "6it [00:17,  2.93s/it]"
     ]
    },
    {
     "name": "stdout",
     "output_type": "stream",
     "text": [
      "6\n"
     ]
    },
    {
     "name": "stderr",
     "output_type": "stream",
     "text": [
      "\r",
      "7it [00:20,  2.92s/it]"
     ]
    },
    {
     "name": "stdout",
     "output_type": "stream",
     "text": [
      "7\n"
     ]
    },
    {
     "name": "stderr",
     "output_type": "stream",
     "text": [
      "\r",
      "8it [00:22,  2.81s/it]"
     ]
    },
    {
     "name": "stdout",
     "output_type": "stream",
     "text": [
      "8\n"
     ]
    },
    {
     "name": "stderr",
     "output_type": "stream",
     "text": [
      "\r",
      "9it [00:25,  2.75s/it]"
     ]
    },
    {
     "name": "stdout",
     "output_type": "stream",
     "text": [
      "9\n"
     ]
    },
    {
     "name": "stderr",
     "output_type": "stream",
     "text": [
      "\r",
      "10it [00:27,  2.63s/it]"
     ]
    },
    {
     "name": "stdout",
     "output_type": "stream",
     "text": [
      "10\n",
      "11\n"
     ]
    },
    {
     "name": "stderr",
     "output_type": "stream",
     "text": [
      "12it [00:34,  3.08s/it]"
     ]
    },
    {
     "name": "stdout",
     "output_type": "stream",
     "text": [
      "12\n"
     ]
    },
    {
     "name": "stderr",
     "output_type": "stream",
     "text": [
      "\r",
      "13it [00:37,  2.98s/it]"
     ]
    },
    {
     "name": "stdout",
     "output_type": "stream",
     "text": [
      "13\n"
     ]
    },
    {
     "name": "stderr",
     "output_type": "stream",
     "text": [
      "\r",
      "14it [00:40,  2.94s/it]"
     ]
    },
    {
     "name": "stdout",
     "output_type": "stream",
     "text": [
      "14\n"
     ]
    },
    {
     "name": "stderr",
     "output_type": "stream",
     "text": [
      "\r",
      "15it [00:43,  2.86s/it]"
     ]
    },
    {
     "name": "stdout",
     "output_type": "stream",
     "text": [
      "15\n"
     ]
    },
    {
     "name": "stderr",
     "output_type": "stream",
     "text": [
      "\r",
      "16it [00:46,  2.96s/it]"
     ]
    },
    {
     "name": "stdout",
     "output_type": "stream",
     "text": [
      "16\n"
     ]
    },
    {
     "name": "stderr",
     "output_type": "stream",
     "text": [
      "\r",
      "17it [00:49,  2.95s/it]"
     ]
    },
    {
     "name": "stdout",
     "output_type": "stream",
     "text": [
      "17\n"
     ]
    },
    {
     "name": "stderr",
     "output_type": "stream",
     "text": [
      "\r",
      "18it [00:51,  2.85s/it]"
     ]
    },
    {
     "name": "stdout",
     "output_type": "stream",
     "text": [
      "18\n"
     ]
    },
    {
     "name": "stderr",
     "output_type": "stream",
     "text": [
      "\r",
      "19it [00:54,  2.85s/it]"
     ]
    },
    {
     "name": "stdout",
     "output_type": "stream",
     "text": [
      "19\n"
     ]
    },
    {
     "name": "stderr",
     "output_type": "stream",
     "text": [
      "\r",
      "20it [00:58,  3.06s/it]"
     ]
    },
    {
     "name": "stdout",
     "output_type": "stream",
     "text": [
      "20\n"
     ]
    },
    {
     "name": "stderr",
     "output_type": "stream",
     "text": [
      "\r",
      "21it [01:00,  2.99s/it]"
     ]
    },
    {
     "name": "stdout",
     "output_type": "stream",
     "text": [
      "21\n"
     ]
    },
    {
     "name": "stderr",
     "output_type": "stream",
     "text": [
      "\r",
      "22it [01:03,  2.79s/it]"
     ]
    },
    {
     "name": "stdout",
     "output_type": "stream",
     "text": [
      "22\n"
     ]
    },
    {
     "name": "stderr",
     "output_type": "stream",
     "text": [
      "\r",
      "23it [01:06,  2.77s/it]"
     ]
    },
    {
     "name": "stdout",
     "output_type": "stream",
     "text": [
      "23\n"
     ]
    },
    {
     "name": "stderr",
     "output_type": "stream",
     "text": [
      "\r",
      "24it [01:09,  2.89s/it]"
     ]
    },
    {
     "name": "stdout",
     "output_type": "stream",
     "text": [
      "24\n"
     ]
    },
    {
     "name": "stderr",
     "output_type": "stream",
     "text": [
      "\r",
      "25it [01:12,  3.10s/it]"
     ]
    },
    {
     "name": "stdout",
     "output_type": "stream",
     "text": [
      "25\n"
     ]
    },
    {
     "name": "stderr",
     "output_type": "stream",
     "text": [
      "\r",
      "26it [01:15,  2.99s/it]"
     ]
    },
    {
     "name": "stdout",
     "output_type": "stream",
     "text": [
      "26\n"
     ]
    },
    {
     "name": "stderr",
     "output_type": "stream",
     "text": [
      "\r",
      "27it [01:18,  2.88s/it]"
     ]
    },
    {
     "name": "stdout",
     "output_type": "stream",
     "text": [
      "27\n"
     ]
    },
    {
     "name": "stderr",
     "output_type": "stream",
     "text": [
      "\r",
      "28it [01:20,  2.74s/it]"
     ]
    },
    {
     "name": "stdout",
     "output_type": "stream",
     "text": [
      "28\n"
     ]
    },
    {
     "name": "stderr",
     "output_type": "stream",
     "text": [
      "\r",
      "29it [01:24,  3.16s/it]"
     ]
    },
    {
     "name": "stdout",
     "output_type": "stream",
     "text": [
      "29\n"
     ]
    },
    {
     "name": "stderr",
     "output_type": "stream",
     "text": [
      "\r",
      "30it [01:27,  3.19s/it]"
     ]
    },
    {
     "name": "stdout",
     "output_type": "stream",
     "text": [
      "30\n"
     ]
    },
    {
     "name": "stderr",
     "output_type": "stream",
     "text": [
      "\r",
      "31it [01:30,  2.97s/it]"
     ]
    },
    {
     "name": "stdout",
     "output_type": "stream",
     "text": [
      "31\n"
     ]
    },
    {
     "name": "stderr",
     "output_type": "stream",
     "text": [
      "\r",
      "32it [01:32,  2.85s/it]"
     ]
    },
    {
     "name": "stdout",
     "output_type": "stream",
     "text": [
      "32\n"
     ]
    },
    {
     "name": "stderr",
     "output_type": "stream",
     "text": [
      "\r",
      "33it [01:35,  2.90s/it]"
     ]
    },
    {
     "name": "stdout",
     "output_type": "stream",
     "text": [
      "33\n"
     ]
    },
    {
     "name": "stderr",
     "output_type": "stream",
     "text": [
      "\r",
      "34it [01:38,  2.83s/it]"
     ]
    },
    {
     "name": "stdout",
     "output_type": "stream",
     "text": [
      "34\n"
     ]
    },
    {
     "name": "stderr",
     "output_type": "stream",
     "text": [
      "\r",
      "35it [01:41,  2.77s/it]"
     ]
    },
    {
     "name": "stdout",
     "output_type": "stream",
     "text": [
      "35\n"
     ]
    },
    {
     "name": "stderr",
     "output_type": "stream",
     "text": [
      "\r",
      "36it [01:44,  2.88s/it]"
     ]
    },
    {
     "name": "stdout",
     "output_type": "stream",
     "text": [
      "36\n",
      "37\n"
     ]
    },
    {
     "name": "stderr",
     "output_type": "stream",
     "text": [
      "38it [01:50,  2.85s/it]"
     ]
    },
    {
     "name": "stdout",
     "output_type": "stream",
     "text": [
      "38\n"
     ]
    },
    {
     "name": "stderr",
     "output_type": "stream",
     "text": [
      "\r",
      "39it [01:53,  2.88s/it]"
     ]
    },
    {
     "name": "stdout",
     "output_type": "stream",
     "text": [
      "39\n"
     ]
    },
    {
     "name": "stderr",
     "output_type": "stream",
     "text": [
      "\r",
      "40it [01:56,  2.98s/it]"
     ]
    },
    {
     "name": "stdout",
     "output_type": "stream",
     "text": [
      "40\n"
     ]
    },
    {
     "name": "stderr",
     "output_type": "stream",
     "text": [
      "\r",
      "41it [01:59,  2.97s/it]"
     ]
    },
    {
     "name": "stdout",
     "output_type": "stream",
     "text": [
      "41\n"
     ]
    },
    {
     "name": "stderr",
     "output_type": "stream",
     "text": [
      "\r",
      "42it [02:02,  2.90s/it]"
     ]
    },
    {
     "name": "stdout",
     "output_type": "stream",
     "text": [
      "42\n"
     ]
    },
    {
     "name": "stderr",
     "output_type": "stream",
     "text": [
      "\r",
      "43it [02:04,  2.85s/it]"
     ]
    },
    {
     "name": "stdout",
     "output_type": "stream",
     "text": [
      "43\n",
      "44\n"
     ]
    },
    {
     "name": "stderr",
     "output_type": "stream",
     "text": [
      "45it [02:10,  2.88s/it]"
     ]
    },
    {
     "name": "stdout",
     "output_type": "stream",
     "text": [
      "45\n",
      "46\n"
     ]
    },
    {
     "name": "stderr",
     "output_type": "stream",
     "text": [
      "47it [02:16,  2.98s/it]"
     ]
    },
    {
     "name": "stdout",
     "output_type": "stream",
     "text": [
      "47\n"
     ]
    },
    {
     "name": "stderr",
     "output_type": "stream",
     "text": [
      "\r",
      "48it [02:19,  3.01s/it]"
     ]
    },
    {
     "name": "stdout",
     "output_type": "stream",
     "text": [
      "48\n"
     ]
    },
    {
     "name": "stderr",
     "output_type": "stream",
     "text": [
      "\r",
      "49it [02:22,  2.92s/it]"
     ]
    },
    {
     "name": "stdout",
     "output_type": "stream",
     "text": [
      "49\n"
     ]
    },
    {
     "name": "stderr",
     "output_type": "stream",
     "text": [
      "\r",
      "50it [02:25,  2.91s/it]"
     ]
    },
    {
     "name": "stdout",
     "output_type": "stream",
     "text": [
      "50\n"
     ]
    },
    {
     "name": "stderr",
     "output_type": "stream",
     "text": [
      "\r",
      "51it [02:27,  2.59s/it]"
     ]
    },
    {
     "name": "stdout",
     "output_type": "stream",
     "text": [
      "51\n"
     ]
    },
    {
     "name": "stderr",
     "output_type": "stream",
     "text": [
      "\r",
      "52it [02:30,  2.64s/it]"
     ]
    },
    {
     "name": "stdout",
     "output_type": "stream",
     "text": [
      "52\n",
      "53\n"
     ]
    },
    {
     "name": "stderr",
     "output_type": "stream",
     "text": [
      "\r",
      "53it [02:33,  2.92s/it]"
     ]
    },
    {
     "name": "stdout",
     "output_type": "stream",
     "text": [
      "54\n"
     ]
    },
    {
     "name": "stderr",
     "output_type": "stream",
     "text": [
      "55it [02:39,  2.89s/it]"
     ]
    },
    {
     "name": "stdout",
     "output_type": "stream",
     "text": [
      "55\n"
     ]
    },
    {
     "name": "stderr",
     "output_type": "stream",
     "text": [
      "\r",
      "56it [02:43,  3.19s/it]"
     ]
    },
    {
     "name": "stdout",
     "output_type": "stream",
     "text": [
      "56\n"
     ]
    },
    {
     "name": "stderr",
     "output_type": "stream",
     "text": [
      "\r",
      "57it [02:46,  3.12s/it]"
     ]
    },
    {
     "name": "stdout",
     "output_type": "stream",
     "text": [
      "57\n"
     ]
    },
    {
     "name": "stderr",
     "output_type": "stream",
     "text": [
      "\r",
      "58it [02:48,  2.91s/it]"
     ]
    },
    {
     "name": "stdout",
     "output_type": "stream",
     "text": [
      "58\n"
     ]
    },
    {
     "name": "stderr",
     "output_type": "stream",
     "text": [
      "\r",
      "59it [02:51,  2.70s/it]"
     ]
    },
    {
     "name": "stdout",
     "output_type": "stream",
     "text": [
      "59\n"
     ]
    },
    {
     "name": "stderr",
     "output_type": "stream",
     "text": [
      "\r",
      "60it [02:53,  2.65s/it]"
     ]
    },
    {
     "name": "stdout",
     "output_type": "stream",
     "text": [
      "60\n"
     ]
    },
    {
     "name": "stderr",
     "output_type": "stream",
     "text": [
      "\r",
      "61it [02:56,  2.62s/it]"
     ]
    },
    {
     "name": "stdout",
     "output_type": "stream",
     "text": [
      "61\n",
      "62\n"
     ]
    },
    {
     "name": "stderr",
     "output_type": "stream",
     "text": [
      "63it [03:01,  2.73s/it]"
     ]
    },
    {
     "name": "stdout",
     "output_type": "stream",
     "text": [
      "63\n"
     ]
    },
    {
     "name": "stderr",
     "output_type": "stream",
     "text": [
      "\r",
      "64it [03:04,  2.67s/it]"
     ]
    },
    {
     "name": "stdout",
     "output_type": "stream",
     "text": [
      "64\n"
     ]
    },
    {
     "name": "stderr",
     "output_type": "stream",
     "text": [
      "\r",
      "65it [03:06,  2.54s/it]"
     ]
    },
    {
     "name": "stdout",
     "output_type": "stream",
     "text": [
      "65\n",
      "66\n"
     ]
    },
    {
     "name": "stderr",
     "output_type": "stream",
     "text": [
      "67it [03:12,  2.67s/it]"
     ]
    },
    {
     "name": "stdout",
     "output_type": "stream",
     "text": [
      "67\n"
     ]
    },
    {
     "name": "stderr",
     "output_type": "stream",
     "text": [
      "\r",
      "68it [03:14,  2.68s/it]"
     ]
    },
    {
     "name": "stdout",
     "output_type": "stream",
     "text": [
      "68\n"
     ]
    },
    {
     "name": "stderr",
     "output_type": "stream",
     "text": [
      "\r",
      "69it [03:17,  2.65s/it]"
     ]
    },
    {
     "name": "stdout",
     "output_type": "stream",
     "text": [
      "69\n"
     ]
    },
    {
     "name": "stderr",
     "output_type": "stream",
     "text": [
      "\r",
      "70it [03:19,  2.58s/it]"
     ]
    },
    {
     "name": "stdout",
     "output_type": "stream",
     "text": [
      "70\n"
     ]
    },
    {
     "name": "stderr",
     "output_type": "stream",
     "text": [
      "\r",
      "71it [03:22,  2.64s/it]"
     ]
    },
    {
     "name": "stdout",
     "output_type": "stream",
     "text": [
      "71\n"
     ]
    },
    {
     "name": "stderr",
     "output_type": "stream",
     "text": [
      "\r",
      "72it [03:25,  2.80s/it]"
     ]
    },
    {
     "name": "stdout",
     "output_type": "stream",
     "text": [
      "72\n"
     ]
    },
    {
     "name": "stderr",
     "output_type": "stream",
     "text": [
      "\r",
      "73it [03:29,  2.94s/it]"
     ]
    },
    {
     "name": "stdout",
     "output_type": "stream",
     "text": [
      "73\n"
     ]
    },
    {
     "name": "stderr",
     "output_type": "stream",
     "text": [
      "\r",
      "74it [03:32,  3.10s/it]"
     ]
    },
    {
     "name": "stdout",
     "output_type": "stream",
     "text": [
      "74\n"
     ]
    },
    {
     "name": "stderr",
     "output_type": "stream",
     "text": [
      "\r",
      "75it [03:36,  3.43s/it]"
     ]
    },
    {
     "name": "stdout",
     "output_type": "stream",
     "text": [
      "75\n"
     ]
    },
    {
     "name": "stderr",
     "output_type": "stream",
     "text": [
      "\r",
      "76it [03:40,  3.43s/it]"
     ]
    },
    {
     "name": "stdout",
     "output_type": "stream",
     "text": [
      "76\n"
     ]
    },
    {
     "name": "stderr",
     "output_type": "stream",
     "text": [
      "\r",
      "77it [03:42,  3.20s/it]"
     ]
    },
    {
     "name": "stdout",
     "output_type": "stream",
     "text": [
      "77\n"
     ]
    },
    {
     "name": "stderr",
     "output_type": "stream",
     "text": [
      "\r",
      "78it [03:45,  2.99s/it]"
     ]
    },
    {
     "name": "stdout",
     "output_type": "stream",
     "text": [
      "78\n"
     ]
    },
    {
     "name": "stderr",
     "output_type": "stream",
     "text": [
      "\r",
      "79it [03:48,  2.94s/it]"
     ]
    },
    {
     "name": "stdout",
     "output_type": "stream",
     "text": [
      "79\n"
     ]
    },
    {
     "name": "stderr",
     "output_type": "stream",
     "text": [
      "\r",
      "80it [03:51,  3.00s/it]"
     ]
    },
    {
     "name": "stdout",
     "output_type": "stream",
     "text": [
      "80\n"
     ]
    },
    {
     "name": "stderr",
     "output_type": "stream",
     "text": [
      "\r",
      "81it [03:54,  2.94s/it]"
     ]
    },
    {
     "name": "stdout",
     "output_type": "stream",
     "text": [
      "81\n"
     ]
    },
    {
     "name": "stderr",
     "output_type": "stream",
     "text": [
      "\r",
      "82it [03:57,  2.94s/it]"
     ]
    },
    {
     "name": "stdout",
     "output_type": "stream",
     "text": [
      "82\n"
     ]
    },
    {
     "name": "stderr",
     "output_type": "stream",
     "text": [
      "\r",
      "83it [03:59,  2.78s/it]"
     ]
    },
    {
     "name": "stdout",
     "output_type": "stream",
     "text": [
      "83\n"
     ]
    },
    {
     "name": "stderr",
     "output_type": "stream",
     "text": [
      "\r",
      "84it [04:02,  2.73s/it]"
     ]
    },
    {
     "name": "stdout",
     "output_type": "stream",
     "text": [
      "84\n",
      "85\n"
     ]
    },
    {
     "name": "stderr",
     "output_type": "stream",
     "text": [
      "86it [04:08,  2.92s/it]"
     ]
    },
    {
     "name": "stdout",
     "output_type": "stream",
     "text": [
      "86\n"
     ]
    },
    {
     "name": "stderr",
     "output_type": "stream",
     "text": [
      "\r",
      "87it [04:10,  2.63s/it]"
     ]
    },
    {
     "name": "stdout",
     "output_type": "stream",
     "text": [
      "87\n"
     ]
    },
    {
     "name": "stderr",
     "output_type": "stream",
     "text": [
      "\r",
      "88it [04:12,  2.57s/it]"
     ]
    },
    {
     "name": "stdout",
     "output_type": "stream",
     "text": [
      "88\n"
     ]
    },
    {
     "name": "stderr",
     "output_type": "stream",
     "text": [
      "\r",
      "89it [04:15,  2.55s/it]"
     ]
    },
    {
     "name": "stdout",
     "output_type": "stream",
     "text": [
      "89\n"
     ]
    },
    {
     "name": "stderr",
     "output_type": "stream",
     "text": [
      "\r",
      "90it [04:17,  2.53s/it]"
     ]
    },
    {
     "name": "stdout",
     "output_type": "stream",
     "text": [
      "90\n"
     ]
    },
    {
     "name": "stderr",
     "output_type": "stream",
     "text": [
      "\r",
      "91it [04:20,  2.59s/it]"
     ]
    },
    {
     "name": "stdout",
     "output_type": "stream",
     "text": [
      "91\n"
     ]
    },
    {
     "name": "stderr",
     "output_type": "stream",
     "text": [
      "\r",
      "92it [04:23,  2.56s/it]"
     ]
    },
    {
     "name": "stdout",
     "output_type": "stream",
     "text": [
      "92\n"
     ]
    },
    {
     "name": "stderr",
     "output_type": "stream",
     "text": [
      "\r",
      "93it [04:25,  2.49s/it]"
     ]
    },
    {
     "name": "stdout",
     "output_type": "stream",
     "text": [
      "93\n",
      "94\n"
     ]
    },
    {
     "name": "stderr",
     "output_type": "stream",
     "text": [
      "95it [04:29,  2.30s/it]"
     ]
    },
    {
     "name": "stdout",
     "output_type": "stream",
     "text": [
      "95\n"
     ]
    },
    {
     "name": "stderr",
     "output_type": "stream",
     "text": [
      "\r",
      "96it [04:31,  2.24s/it]"
     ]
    },
    {
     "name": "stdout",
     "output_type": "stream",
     "text": [
      "96\n"
     ]
    },
    {
     "name": "stderr",
     "output_type": "stream",
     "text": [
      "\r",
      "97it [04:33,  2.19s/it]"
     ]
    },
    {
     "name": "stdout",
     "output_type": "stream",
     "text": [
      "97\n"
     ]
    },
    {
     "name": "stderr",
     "output_type": "stream",
     "text": [
      "\r",
      "98it [04:36,  2.40s/it]"
     ]
    },
    {
     "name": "stdout",
     "output_type": "stream",
     "text": [
      "98\n",
      "99\n"
     ]
    },
    {
     "name": "stderr",
     "output_type": "stream",
     "text": [
      "100it [04:43,  2.92s/it]"
     ]
    },
    {
     "name": "stdout",
     "output_type": "stream",
     "text": [
      "100\n",
      "101\n"
     ]
    },
    {
     "name": "stderr",
     "output_type": "stream",
     "text": [
      "102it [04:49,  2.88s/it]"
     ]
    },
    {
     "name": "stdout",
     "output_type": "stream",
     "text": [
      "102\n"
     ]
    },
    {
     "name": "stderr",
     "output_type": "stream",
     "text": [
      "\r",
      "103it [04:52,  2.77s/it]"
     ]
    },
    {
     "name": "stdout",
     "output_type": "stream",
     "text": [
      "103\n"
     ]
    },
    {
     "name": "stderr",
     "output_type": "stream",
     "text": [
      "\r",
      "104it [04:54,  2.60s/it]"
     ]
    },
    {
     "name": "stdout",
     "output_type": "stream",
     "text": [
      "104\n"
     ]
    },
    {
     "name": "stderr",
     "output_type": "stream",
     "text": [
      "\r",
      "105it [04:56,  2.47s/it]"
     ]
    },
    {
     "name": "stdout",
     "output_type": "stream",
     "text": [
      "105\n",
      "106\n"
     ]
    },
    {
     "name": "stderr",
     "output_type": "stream",
     "text": [
      "\r",
      "106it [04:59,  2.50s/it]"
     ]
    },
    {
     "name": "stdout",
     "output_type": "stream",
     "text": [
      "107\n"
     ]
    },
    {
     "name": "stderr",
     "output_type": "stream",
     "text": [
      "108it [05:05,  2.88s/it]"
     ]
    },
    {
     "name": "stdout",
     "output_type": "stream",
     "text": [
      "108\n",
      "109\n"
     ]
    },
    {
     "name": "stderr",
     "output_type": "stream",
     "text": [
      "110it [05:12,  3.02s/it]"
     ]
    },
    {
     "name": "stdout",
     "output_type": "stream",
     "text": [
      "110\n"
     ]
    },
    {
     "name": "stderr",
     "output_type": "stream",
     "text": [
      "\r",
      "111it [05:14,  2.90s/it]"
     ]
    },
    {
     "name": "stdout",
     "output_type": "stream",
     "text": [
      "111\n"
     ]
    },
    {
     "name": "stderr",
     "output_type": "stream",
     "text": [
      "\r",
      "112it [05:17,  2.73s/it]"
     ]
    },
    {
     "name": "stdout",
     "output_type": "stream",
     "text": [
      "112\n",
      "113\n"
     ]
    },
    {
     "name": "stderr",
     "output_type": "stream",
     "text": [
      "114it [05:23,  2.88s/it]"
     ]
    },
    {
     "name": "stdout",
     "output_type": "stream",
     "text": [
      "114\n"
     ]
    },
    {
     "name": "stderr",
     "output_type": "stream",
     "text": [
      "\r",
      "115it [05:25,  2.80s/it]"
     ]
    },
    {
     "name": "stdout",
     "output_type": "stream",
     "text": [
      "115\n"
     ]
    },
    {
     "name": "stderr",
     "output_type": "stream",
     "text": [
      "\r",
      "116it [05:28,  2.68s/it]"
     ]
    },
    {
     "name": "stdout",
     "output_type": "stream",
     "text": [
      "116\n"
     ]
    },
    {
     "name": "stderr",
     "output_type": "stream",
     "text": [
      "\r",
      "117it [05:30,  2.53s/it]"
     ]
    },
    {
     "name": "stdout",
     "output_type": "stream",
     "text": [
      "117\n"
     ]
    },
    {
     "name": "stderr",
     "output_type": "stream",
     "text": [
      "\r",
      "118it [05:32,  2.53s/it]"
     ]
    },
    {
     "name": "stdout",
     "output_type": "stream",
     "text": [
      "118\n"
     ]
    },
    {
     "name": "stderr",
     "output_type": "stream",
     "text": [
      "\r",
      "119it [05:35,  2.65s/it]"
     ]
    },
    {
     "name": "stdout",
     "output_type": "stream",
     "text": [
      "119\n"
     ]
    },
    {
     "name": "stderr",
     "output_type": "stream",
     "text": [
      "\r",
      "120it [05:38,  2.59s/it]"
     ]
    },
    {
     "name": "stdout",
     "output_type": "stream",
     "text": [
      "120\n"
     ]
    },
    {
     "name": "stderr",
     "output_type": "stream",
     "text": [
      "\r",
      "121it [05:40,  2.51s/it]"
     ]
    },
    {
     "name": "stdout",
     "output_type": "stream",
     "text": [
      "121\n",
      "122\n"
     ]
    },
    {
     "name": "stderr",
     "output_type": "stream",
     "text": [
      "123it [05:45,  2.42s/it]"
     ]
    },
    {
     "name": "stdout",
     "output_type": "stream",
     "text": [
      "123\n"
     ]
    },
    {
     "name": "stderr",
     "output_type": "stream",
     "text": [
      "\r",
      "124it [05:47,  2.51s/it]"
     ]
    },
    {
     "name": "stdout",
     "output_type": "stream",
     "text": [
      "124\n"
     ]
    },
    {
     "name": "stderr",
     "output_type": "stream",
     "text": [
      "\r",
      "125it [05:51,  2.73s/it]"
     ]
    },
    {
     "name": "stdout",
     "output_type": "stream",
     "text": [
      "125\n"
     ]
    },
    {
     "name": "stderr",
     "output_type": "stream",
     "text": [
      "\r",
      "126it [05:53,  2.64s/it]"
     ]
    },
    {
     "name": "stdout",
     "output_type": "stream",
     "text": [
      "126\n"
     ]
    },
    {
     "name": "stderr",
     "output_type": "stream",
     "text": [
      "\r",
      "127it [05:55,  2.55s/it]"
     ]
    },
    {
     "name": "stdout",
     "output_type": "stream",
     "text": [
      "127\n"
     ]
    },
    {
     "name": "stderr",
     "output_type": "stream",
     "text": [
      "\r",
      "128it [05:58,  2.48s/it]"
     ]
    },
    {
     "name": "stdout",
     "output_type": "stream",
     "text": [
      "128\n"
     ]
    },
    {
     "name": "stderr",
     "output_type": "stream",
     "text": [
      "\r",
      "129it [06:00,  2.44s/it]"
     ]
    },
    {
     "name": "stdout",
     "output_type": "stream",
     "text": [
      "129\n"
     ]
    },
    {
     "name": "stderr",
     "output_type": "stream",
     "text": [
      "\r",
      "130it [06:02,  2.38s/it]"
     ]
    },
    {
     "name": "stdout",
     "output_type": "stream",
     "text": [
      "130\n"
     ]
    },
    {
     "name": "stderr",
     "output_type": "stream",
     "text": [
      "\r",
      "131it [06:05,  2.53s/it]"
     ]
    },
    {
     "name": "stdout",
     "output_type": "stream",
     "text": [
      "131\n"
     ]
    },
    {
     "name": "stderr",
     "output_type": "stream",
     "text": [
      "\r",
      "132it [06:07,  2.37s/it]"
     ]
    },
    {
     "name": "stdout",
     "output_type": "stream",
     "text": [
      "132\n"
     ]
    },
    {
     "name": "stderr",
     "output_type": "stream",
     "text": [
      "\r",
      "133it [06:10,  2.46s/it]"
     ]
    },
    {
     "name": "stdout",
     "output_type": "stream",
     "text": [
      "133\n"
     ]
    },
    {
     "name": "stderr",
     "output_type": "stream",
     "text": [
      "\r",
      "134it [06:13,  2.63s/it]"
     ]
    },
    {
     "name": "stdout",
     "output_type": "stream",
     "text": [
      "134\n"
     ]
    },
    {
     "name": "stderr",
     "output_type": "stream",
     "text": [
      "\r",
      "135it [06:15,  2.57s/it]"
     ]
    },
    {
     "name": "stdout",
     "output_type": "stream",
     "text": [
      "135\n"
     ]
    },
    {
     "name": "stderr",
     "output_type": "stream",
     "text": [
      "\r",
      "136it [06:18,  2.73s/it]"
     ]
    },
    {
     "name": "stdout",
     "output_type": "stream",
     "text": [
      "136\n"
     ]
    },
    {
     "name": "stderr",
     "output_type": "stream",
     "text": [
      "\r",
      "137it [06:21,  2.60s/it]"
     ]
    },
    {
     "name": "stdout",
     "output_type": "stream",
     "text": [
      "137\n"
     ]
    },
    {
     "name": "stderr",
     "output_type": "stream",
     "text": [
      "\r",
      "138it [06:23,  2.54s/it]"
     ]
    },
    {
     "name": "stdout",
     "output_type": "stream",
     "text": [
      "138\n",
      "139\n"
     ]
    },
    {
     "name": "stderr",
     "output_type": "stream",
     "text": [
      "140it [06:30,  2.88s/it]"
     ]
    },
    {
     "name": "stdout",
     "output_type": "stream",
     "text": [
      "140\n"
     ]
    },
    {
     "name": "stderr",
     "output_type": "stream",
     "text": [
      "\r",
      "141it [06:32,  2.77s/it]"
     ]
    },
    {
     "name": "stdout",
     "output_type": "stream",
     "text": [
      "141\n"
     ]
    },
    {
     "name": "stderr",
     "output_type": "stream",
     "text": [
      "\r",
      "142it [06:35,  2.69s/it]"
     ]
    },
    {
     "name": "stdout",
     "output_type": "stream",
     "text": [
      "142\n"
     ]
    },
    {
     "name": "stderr",
     "output_type": "stream",
     "text": [
      "\r",
      "143it [06:38,  2.73s/it]"
     ]
    },
    {
     "name": "stdout",
     "output_type": "stream",
     "text": [
      "143\n"
     ]
    },
    {
     "name": "stderr",
     "output_type": "stream",
     "text": [
      "\r",
      "144it [06:40,  2.64s/it]"
     ]
    },
    {
     "name": "stdout",
     "output_type": "stream",
     "text": [
      "144\n"
     ]
    },
    {
     "name": "stderr",
     "output_type": "stream",
     "text": [
      "\r",
      "145it [06:43,  2.59s/it]"
     ]
    },
    {
     "name": "stdout",
     "output_type": "stream",
     "text": [
      "145\n"
     ]
    },
    {
     "name": "stderr",
     "output_type": "stream",
     "text": [
      "\r",
      "146it [06:45,  2.50s/it]"
     ]
    },
    {
     "name": "stdout",
     "output_type": "stream",
     "text": [
      "146\n"
     ]
    },
    {
     "name": "stderr",
     "output_type": "stream",
     "text": [
      "\r",
      "147it [06:47,  2.55s/it]"
     ]
    },
    {
     "name": "stdout",
     "output_type": "stream",
     "text": [
      "147\n"
     ]
    },
    {
     "name": "stderr",
     "output_type": "stream",
     "text": [
      "\r",
      "148it [06:50,  2.54s/it]"
     ]
    },
    {
     "name": "stdout",
     "output_type": "stream",
     "text": [
      "148\n"
     ]
    },
    {
     "name": "stderr",
     "output_type": "stream",
     "text": [
      "\r",
      "149it [06:52,  2.51s/it]"
     ]
    },
    {
     "name": "stdout",
     "output_type": "stream",
     "text": [
      "149\n"
     ]
    },
    {
     "name": "stderr",
     "output_type": "stream",
     "text": [
      "\r",
      "150it [06:56,  2.70s/it]"
     ]
    },
    {
     "name": "stdout",
     "output_type": "stream",
     "text": [
      "150\n"
     ]
    },
    {
     "name": "stderr",
     "output_type": "stream",
     "text": [
      "\r",
      "151it [06:59,  2.86s/it]"
     ]
    },
    {
     "name": "stdout",
     "output_type": "stream",
     "text": [
      "151\n"
     ]
    },
    {
     "name": "stderr",
     "output_type": "stream",
     "text": [
      "\r",
      "152it [07:02,  3.08s/it]"
     ]
    },
    {
     "name": "stdout",
     "output_type": "stream",
     "text": [
      "152\n"
     ]
    },
    {
     "name": "stderr",
     "output_type": "stream",
     "text": [
      "\r",
      "153it [07:05,  3.06s/it]"
     ]
    },
    {
     "name": "stdout",
     "output_type": "stream",
     "text": [
      "153\n"
     ]
    },
    {
     "name": "stderr",
     "output_type": "stream",
     "text": [
      "\r",
      "154it [07:07,  2.74s/it]"
     ]
    },
    {
     "name": "stdout",
     "output_type": "stream",
     "text": [
      "154\n",
      "155\n"
     ]
    },
    {
     "name": "stderr",
     "output_type": "stream",
     "text": [
      "156it [07:13,  2.82s/it]"
     ]
    },
    {
     "name": "stdout",
     "output_type": "stream",
     "text": [
      "156\n"
     ]
    },
    {
     "name": "stderr",
     "output_type": "stream",
     "text": [
      "\r",
      "157it [07:16,  2.84s/it]"
     ]
    },
    {
     "name": "stdout",
     "output_type": "stream",
     "text": [
      "157\n"
     ]
    },
    {
     "name": "stderr",
     "output_type": "stream",
     "text": [
      "\r",
      "158it [07:19,  2.75s/it]"
     ]
    },
    {
     "name": "stdout",
     "output_type": "stream",
     "text": [
      "158\n"
     ]
    },
    {
     "name": "stderr",
     "output_type": "stream",
     "text": [
      "\r",
      "159it [07:22,  2.87s/it]"
     ]
    },
    {
     "name": "stdout",
     "output_type": "stream",
     "text": [
      "159\n"
     ]
    },
    {
     "name": "stderr",
     "output_type": "stream",
     "text": [
      "\r",
      "160it [07:25,  2.95s/it]"
     ]
    },
    {
     "name": "stdout",
     "output_type": "stream",
     "text": [
      "160\n"
     ]
    },
    {
     "name": "stderr",
     "output_type": "stream",
     "text": [
      "\r",
      "161it [07:27,  2.80s/it]"
     ]
    },
    {
     "name": "stdout",
     "output_type": "stream",
     "text": [
      "161\n"
     ]
    },
    {
     "name": "stderr",
     "output_type": "stream",
     "text": [
      "\r",
      "162it [07:30,  2.77s/it]"
     ]
    },
    {
     "name": "stdout",
     "output_type": "stream",
     "text": [
      "162\n"
     ]
    },
    {
     "name": "stderr",
     "output_type": "stream",
     "text": [
      "\r",
      "163it [07:34,  2.99s/it]"
     ]
    },
    {
     "name": "stdout",
     "output_type": "stream",
     "text": [
      "163\n"
     ]
    },
    {
     "name": "stderr",
     "output_type": "stream",
     "text": [
      "\r",
      "164it [07:37,  3.18s/it]"
     ]
    },
    {
     "name": "stdout",
     "output_type": "stream",
     "text": [
      "164\n"
     ]
    },
    {
     "name": "stderr",
     "output_type": "stream",
     "text": [
      "\r",
      "165it [07:40,  3.02s/it]"
     ]
    },
    {
     "name": "stdout",
     "output_type": "stream",
     "text": [
      "165\n"
     ]
    },
    {
     "name": "stderr",
     "output_type": "stream",
     "text": [
      "166it [07:41,  2.78s/it]"
     ]
    },
    {
     "name": "stdout",
     "output_type": "stream",
     "text": [
      "166\n"
     ]
    },
    {
     "name": "stderr",
     "output_type": "stream",
     "text": [
      "\n"
     ]
    }
   ],
   "source": [
    "from tqdm import tqdm\n",
    "\n",
    "flag = False\n",
    "chunksize = 10 ** 5\n",
    "chunk_number = 0\n",
    "\n",
    "for chunk in tqdm(pd.read_csv(data_dir + \"/old/yt_metadata_reduced.tsv-001.gz\", chunksize=chunksize, error_bad_lines=False, engine = \"python\")):\n",
    "    chunk_number += 1\n",
    "    print(chunk_number)\n",
    "    chunk = chunk.loc[chunk[\"channel_id\"].isin(test_channels.Id.values)]\n",
    "    chunk.drop(['crawl_date', 'categories'], axis=1)\n",
    "    if not flag:\n",
    "        flag = True\n",
    "        chunk.to_csv(data_dir + '/yt_metadata_reduced_test.tsv.gz', index = False)\n",
    "    else:\n",
    "        chunk.to_csv(data_dir + '/yt_metadata_reduced_test.tsv.gz', mode='a', index = False, header=False)\n"
   ]
  },
  {
   "cell_type": "code",
   "execution_count": 15,
   "metadata": {},
   "outputs": [
    {
     "name": "stderr",
     "output_type": "stream",
     "text": [
      "/var/folders/y4/4q8xmnkn6hz_5l0rkmxwphqm0000gn/T/ipykernel_3040/1466563182.py:1: DtypeWarning: Columns (4,6,7) have mixed types. Specify dtype option on import or set low_memory=False.\n",
      "  test_meta_data = pd.read_csv(data_dir + \"/yt_metadata_reduced_test.tsv.gz\")\n"
     ]
    }
   ],
   "source": [
    "test_meta_data = pd.read_csv(data_dir + \"/yt_metadata_reduced_test.tsv.gz\")"
   ]
  },
  {
   "cell_type": "code",
   "execution_count": 16,
   "metadata": {},
   "outputs": [
    {
     "data": {
      "text/html": [
       "<div>\n",
       "<style scoped>\n",
       "    .dataframe tbody tr th:only-of-type {\n",
       "        vertical-align: middle;\n",
       "    }\n",
       "\n",
       "    .dataframe tbody tr th {\n",
       "        vertical-align: top;\n",
       "    }\n",
       "\n",
       "    .dataframe thead th {\n",
       "        text-align: right;\n",
       "    }\n",
       "</style>\n",
       "<table border=\"1\" class=\"dataframe\">\n",
       "  <thead>\n",
       "    <tr style=\"text-align: right;\">\n",
       "      <th></th>\n",
       "      <th>categories</th>\n",
       "      <th>channel_id</th>\n",
       "      <th>crawl_date</th>\n",
       "      <th>description</th>\n",
       "      <th>dislike_count</th>\n",
       "      <th>display_id</th>\n",
       "      <th>duration</th>\n",
       "      <th>like_count</th>\n",
       "      <th>tags</th>\n",
       "      <th>title</th>\n",
       "      <th>upload_date</th>\n",
       "      <th>view_count</th>\n",
       "    </tr>\n",
       "  </thead>\n",
       "  <tbody>\n",
       "    <tr>\n",
       "      <th>0</th>\n",
       "      <td>News &amp; Politics</td>\n",
       "      <td>UCzUV5283-l5c0oKRtyenj6Q</td>\n",
       "      <td>2019-11-22 08:47:10.520209</td>\n",
       "      <td>👕 Order your shirts here: https://Teespring.co...</td>\n",
       "      <td>195.0</td>\n",
       "      <td>MBgzne7djFU</td>\n",
       "      <td>378</td>\n",
       "      <td>47027.0</td>\n",
       "      <td>Funny,Entertainment,Fun,Laughing,Educational,L...</td>\n",
       "      <td>Elizabeth Warren Gets a Big Surprise at the Ai...</td>\n",
       "      <td>2019-10-03 00:00:00</td>\n",
       "      <td>374711.0</td>\n",
       "    </tr>\n",
       "    <tr>\n",
       "      <th>1</th>\n",
       "      <td>News &amp; Politics</td>\n",
       "      <td>UCzUV5283-l5c0oKRtyenj6Q</td>\n",
       "      <td>2019-11-22 08:46:16.481889</td>\n",
       "      <td>👕 Order your shirts here: https://Teespring.co...</td>\n",
       "      <td>114.0</td>\n",
       "      <td>AbH3pJnFgY8</td>\n",
       "      <td>278</td>\n",
       "      <td>36384.0</td>\n",
       "      <td>Funny,Entertainment,Fun,Laughing,Educational,L...</td>\n",
       "      <td>No More Twitter? 😂</td>\n",
       "      <td>2019-10-02 00:00:00</td>\n",
       "      <td>245617.0</td>\n",
       "    </tr>\n",
       "    <tr>\n",
       "      <th>2</th>\n",
       "      <td>News &amp; Politics</td>\n",
       "      <td>UCzUV5283-l5c0oKRtyenj6Q</td>\n",
       "      <td>2019-11-22 08:46:17.137786</td>\n",
       "      <td>👕 Order your shirts here: https://Teespring.co...</td>\n",
       "      <td>143.0</td>\n",
       "      <td>QBuwj_h1SH4</td>\n",
       "      <td>385</td>\n",
       "      <td>40597.0</td>\n",
       "      <td>Funny,Entertainment,Fun,Laughing,Educational,L...</td>\n",
       "      <td>The Only Thing Stopping Them 😂</td>\n",
       "      <td>2019-10-01 00:00:00</td>\n",
       "      <td>299535.0</td>\n",
       "    </tr>\n",
       "    <tr>\n",
       "      <th>3</th>\n",
       "      <td>News &amp; Politics</td>\n",
       "      <td>UCzUV5283-l5c0oKRtyenj6Q</td>\n",
       "      <td>2019-11-22 08:46:17.823119</td>\n",
       "      <td>👕 Order your shirts here: https://Teespring.co...</td>\n",
       "      <td>193.0</td>\n",
       "      <td>Reogq26-KpI</td>\n",
       "      <td>419</td>\n",
       "      <td>42658.0</td>\n",
       "      <td>Funny,Entertainment,Fun,Laughing,Educational,L...</td>\n",
       "      <td>Speaking of Losers...</td>\n",
       "      <td>2019-09-30 00:00:00</td>\n",
       "      <td>357126.0</td>\n",
       "    </tr>\n",
       "    <tr>\n",
       "      <th>4</th>\n",
       "      <td>News &amp; Politics</td>\n",
       "      <td>UCzUV5283-l5c0oKRtyenj6Q</td>\n",
       "      <td>2019-11-22 08:46:18.497042</td>\n",
       "      <td>👕 Order your shirts here: https://Teespring.co...</td>\n",
       "      <td>136.0</td>\n",
       "      <td>uBY9OtlSnX8</td>\n",
       "      <td>414</td>\n",
       "      <td>44246.0</td>\n",
       "      <td>Funny,Entertainment,Laughing,Educational,Learn...</td>\n",
       "      <td>The Circus Continues!</td>\n",
       "      <td>2019-09-27 00:00:00</td>\n",
       "      <td>297704.0</td>\n",
       "    </tr>\n",
       "    <tr>\n",
       "      <th>...</th>\n",
       "      <td>...</td>\n",
       "      <td>...</td>\n",
       "      <td>...</td>\n",
       "      <td>...</td>\n",
       "      <td>...</td>\n",
       "      <td>...</td>\n",
       "      <td>...</td>\n",
       "      <td>...</td>\n",
       "      <td>...</td>\n",
       "      <td>...</td>\n",
       "      <td>...</td>\n",
       "      <td>...</td>\n",
       "    </tr>\n",
       "    <tr>\n",
       "      <th>228725</th>\n",
       "      <td>People &amp; Blogs</td>\n",
       "      <td>UCs-brcHDxKqrOGU9cEWuCMQ</td>\n",
       "      <td>2019-11-13 02:57:16.081645</td>\n",
       "      <td>MGTOW: The Dark Side of Female Sexuality.\\nThe...</td>\n",
       "      <td>35.0</td>\n",
       "      <td>jAclz1oy_q4</td>\n",
       "      <td>896</td>\n",
       "      <td>306.0</td>\n",
       "      <td>MGTOW,Female,Sexuality,Male,Feminism,Female Se...</td>\n",
       "      <td>MGTOW: The Dark Side of Female Sexuality.</td>\n",
       "      <td>2016-02-10 00:00:00</td>\n",
       "      <td>20176.0</td>\n",
       "    </tr>\n",
       "    <tr>\n",
       "      <th>228726</th>\n",
       "      <td>People &amp; Blogs</td>\n",
       "      <td>UCs-brcHDxKqrOGU9cEWuCMQ</td>\n",
       "      <td>2019-11-13 02:57:16.688428</td>\n",
       "      <td>Black Widow Spiders and Modern Women - MGTOW\\n...</td>\n",
       "      <td>18.0</td>\n",
       "      <td>QOjI2f0lc98</td>\n",
       "      <td>1027</td>\n",
       "      <td>505.0</td>\n",
       "      <td>MGTOW,Mating Rituals,Modern Women,Black Widow,...</td>\n",
       "      <td>Black Widow Spiders and Modern Women - MGTOW</td>\n",
       "      <td>2016-02-03 00:00:00</td>\n",
       "      <td>12157.0</td>\n",
       "    </tr>\n",
       "    <tr>\n",
       "      <th>228727</th>\n",
       "      <td>People &amp; Blogs</td>\n",
       "      <td>UCs-brcHDxKqrOGU9cEWuCMQ</td>\n",
       "      <td>2019-11-13 02:57:17.309036</td>\n",
       "      <td>MGTOW: Going Crazy Death by a thousand cuts ev...</td>\n",
       "      <td>3.0</td>\n",
       "      <td>p221TExEgDY</td>\n",
       "      <td>705</td>\n",
       "      <td>47.0</td>\n",
       "      <td>MGTOW:,Going Crazy,Howard Dare,Suffering,Ratio...</td>\n",
       "      <td>MGTOW: Going Crazy</td>\n",
       "      <td>2016-01-15 00:00:00</td>\n",
       "      <td>675.0</td>\n",
       "    </tr>\n",
       "    <tr>\n",
       "      <th>228728</th>\n",
       "      <td>People &amp; Blogs</td>\n",
       "      <td>UCs-brcHDxKqrOGU9cEWuCMQ</td>\n",
       "      <td>2019-11-13 02:57:17.866052</td>\n",
       "      <td>Men and boys have been conditioned for centuri...</td>\n",
       "      <td>1.0</td>\n",
       "      <td>CKAFnI6oWVo</td>\n",
       "      <td>649</td>\n",
       "      <td>121.0</td>\n",
       "      <td>The Sacrificial Male,feminism,MGTOW,sex,female...</td>\n",
       "      <td>MGTOW: The Sacrificial Male</td>\n",
       "      <td>2016-01-14 00:00:00</td>\n",
       "      <td>1664.0</td>\n",
       "    </tr>\n",
       "    <tr>\n",
       "      <th>228729</th>\n",
       "      <td>People &amp; Blogs</td>\n",
       "      <td>UCs-brcHDxKqrOGU9cEWuCMQ</td>\n",
       "      <td>2019-11-13 02:57:18.433661</td>\n",
       "      <td>Some opening thoughts and views on feminism an...</td>\n",
       "      <td>2.0</td>\n",
       "      <td>J0JA2ZTuJV0</td>\n",
       "      <td>721</td>\n",
       "      <td>79.0</td>\n",
       "      <td>MGTOW,Feminism,Men,women,gender,sex,sexual,sex...</td>\n",
       "      <td>MGTOW Feminism My Views (Part One)</td>\n",
       "      <td>2016-01-11 00:00:00</td>\n",
       "      <td>1083.0</td>\n",
       "    </tr>\n",
       "  </tbody>\n",
       "</table>\n",
       "<p>228730 rows × 12 columns</p>\n",
       "</div>"
      ],
      "text/plain": [
       "             categories                channel_id                  crawl_date  \\\n",
       "0       News & Politics  UCzUV5283-l5c0oKRtyenj6Q  2019-11-22 08:47:10.520209   \n",
       "1       News & Politics  UCzUV5283-l5c0oKRtyenj6Q  2019-11-22 08:46:16.481889   \n",
       "2       News & Politics  UCzUV5283-l5c0oKRtyenj6Q  2019-11-22 08:46:17.137786   \n",
       "3       News & Politics  UCzUV5283-l5c0oKRtyenj6Q  2019-11-22 08:46:17.823119   \n",
       "4       News & Politics  UCzUV5283-l5c0oKRtyenj6Q  2019-11-22 08:46:18.497042   \n",
       "...                 ...                       ...                         ...   \n",
       "228725   People & Blogs  UCs-brcHDxKqrOGU9cEWuCMQ  2019-11-13 02:57:16.081645   \n",
       "228726   People & Blogs  UCs-brcHDxKqrOGU9cEWuCMQ  2019-11-13 02:57:16.688428   \n",
       "228727   People & Blogs  UCs-brcHDxKqrOGU9cEWuCMQ  2019-11-13 02:57:17.309036   \n",
       "228728   People & Blogs  UCs-brcHDxKqrOGU9cEWuCMQ  2019-11-13 02:57:17.866052   \n",
       "228729   People & Blogs  UCs-brcHDxKqrOGU9cEWuCMQ  2019-11-13 02:57:18.433661   \n",
       "\n",
       "                                              description dislike_count  \\\n",
       "0       👕 Order your shirts here: https://Teespring.co...         195.0   \n",
       "1       👕 Order your shirts here: https://Teespring.co...         114.0   \n",
       "2       👕 Order your shirts here: https://Teespring.co...         143.0   \n",
       "3       👕 Order your shirts here: https://Teespring.co...         193.0   \n",
       "4       👕 Order your shirts here: https://Teespring.co...         136.0   \n",
       "...                                                   ...           ...   \n",
       "228725  MGTOW: The Dark Side of Female Sexuality.\\nThe...          35.0   \n",
       "228726  Black Widow Spiders and Modern Women - MGTOW\\n...          18.0   \n",
       "228727  MGTOW: Going Crazy Death by a thousand cuts ev...           3.0   \n",
       "228728  Men and boys have been conditioned for centuri...           1.0   \n",
       "228729  Some opening thoughts and views on feminism an...           2.0   \n",
       "\n",
       "         display_id duration like_count  \\\n",
       "0       MBgzne7djFU      378    47027.0   \n",
       "1       AbH3pJnFgY8      278    36384.0   \n",
       "2       QBuwj_h1SH4      385    40597.0   \n",
       "3       Reogq26-KpI      419    42658.0   \n",
       "4       uBY9OtlSnX8      414    44246.0   \n",
       "...             ...      ...        ...   \n",
       "228725  jAclz1oy_q4      896      306.0   \n",
       "228726  QOjI2f0lc98     1027      505.0   \n",
       "228727  p221TExEgDY      705       47.0   \n",
       "228728  CKAFnI6oWVo      649      121.0   \n",
       "228729  J0JA2ZTuJV0      721       79.0   \n",
       "\n",
       "                                                     tags  \\\n",
       "0       Funny,Entertainment,Fun,Laughing,Educational,L...   \n",
       "1       Funny,Entertainment,Fun,Laughing,Educational,L...   \n",
       "2       Funny,Entertainment,Fun,Laughing,Educational,L...   \n",
       "3       Funny,Entertainment,Fun,Laughing,Educational,L...   \n",
       "4       Funny,Entertainment,Laughing,Educational,Learn...   \n",
       "...                                                   ...   \n",
       "228725  MGTOW,Female,Sexuality,Male,Feminism,Female Se...   \n",
       "228726  MGTOW,Mating Rituals,Modern Women,Black Widow,...   \n",
       "228727  MGTOW:,Going Crazy,Howard Dare,Suffering,Ratio...   \n",
       "228728  The Sacrificial Male,feminism,MGTOW,sex,female...   \n",
       "228729  MGTOW,Feminism,Men,women,gender,sex,sexual,sex...   \n",
       "\n",
       "                                                    title  \\\n",
       "0       Elizabeth Warren Gets a Big Surprise at the Ai...   \n",
       "1                                      No More Twitter? 😂   \n",
       "2                          The Only Thing Stopping Them 😂   \n",
       "3                                   Speaking of Losers...   \n",
       "4                                   The Circus Continues!   \n",
       "...                                                   ...   \n",
       "228725          MGTOW: The Dark Side of Female Sexuality.   \n",
       "228726       Black Widow Spiders and Modern Women - MGTOW   \n",
       "228727                                 MGTOW: Going Crazy   \n",
       "228728                        MGTOW: The Sacrificial Male   \n",
       "228729                 MGTOW Feminism My Views (Part One)   \n",
       "\n",
       "                upload_date  view_count  \n",
       "0       2019-10-03 00:00:00    374711.0  \n",
       "1       2019-10-02 00:00:00    245617.0  \n",
       "2       2019-10-01 00:00:00    299535.0  \n",
       "3       2019-09-30 00:00:00    357126.0  \n",
       "4       2019-09-27 00:00:00    297704.0  \n",
       "...                     ...         ...  \n",
       "228725  2016-02-10 00:00:00     20176.0  \n",
       "228726  2016-02-03 00:00:00     12157.0  \n",
       "228727  2016-01-15 00:00:00       675.0  \n",
       "228728  2016-01-14 00:00:00      1664.0  \n",
       "228729  2016-01-11 00:00:00      1083.0  \n",
       "\n",
       "[228730 rows x 12 columns]"
      ]
     },
     "execution_count": 16,
     "metadata": {},
     "output_type": "execute_result"
    }
   ],
   "source": [
    "test_meta_data"
   ]
  },
  {
   "cell_type": "code",
   "execution_count": null,
   "metadata": {},
   "outputs": [],
   "source": [
    "def orient_match(x):\n",
    "    var = test_channels.loc[test_channels[\"Id\"] == x][\"pol_orient\"].values\n",
    "    if len(var) > 0:\n",
    "        return var[0]\n",
    "    else:\n",
    "        return 0\n",
    "\n",
    "test_meta_data[\"pol_orient\"] = test_meta_data[\"channel_id\"].apply(orient_match)    "
   ]
  },
  {
   "cell_type": "code",
   "execution_count": null,
   "metadata": {},
   "outputs": [],
   "source": [
    "test_meta_data"
   ]
  },
  {
   "cell_type": "code",
   "execution_count": 107,
   "metadata": {},
   "outputs": [],
   "source": [
    "def classify(title):\n",
    "    \n",
    "    return [prob_left, prob_right, na]\n",
    "# --------> should return \"right\", \"center\" or \"left\" directly based on probability"
   ]
  },
  {
   "cell_type": "code",
   "execution_count": 108,
   "metadata": {},
   "outputs": [],
   "source": [
    "def test(classify):\n",
    "    test_size = 1000\n",
    "    test_df = test_meta_data.sample(test_size)\n",
    "    test_df = test_df[test_df.columns[test_df.columns.isin([\"title\", \"pol_orient\"])]]\n",
    "    test_df[\"pol_orient_pred\"] = test_df.title.apply(classify)\n",
    "    test_df[\"real_pred_equal\"] = test_df.pol_orient == test_df.pol_orient_pred\n",
    "    pct_correct_pred = 100 * test_df[\"real_pred_equal\"].sum()/test_size\n",
    "    return pct_correct_pred"
   ]
  },
  {
   "cell_type": "code",
   "execution_count": null,
   "metadata": {},
   "outputs": [],
   "source": []
  }
 ],
 "metadata": {
  "kernelspec": {
   "display_name": "Python 3 (ipykernel)",
   "language": "python",
   "name": "python3"
  },
  "language_info": {
   "codemirror_mode": {
    "name": "ipython",
    "version": 3
   },
   "file_extension": ".py",
   "mimetype": "text/x-python",
   "name": "python",
   "nbconvert_exporter": "python",
   "pygments_lexer": "ipython3",
   "version": "3.9.12"
  },
  "vscode": {
   "interpreter": {
    "hash": "3e49b19f4795d8aa2b46258d081b41fb60f494b9e430959b1c60548bcfc5d77f"
   }
  }
 },
 "nbformat": 4,
 "nbformat_minor": 2
}
